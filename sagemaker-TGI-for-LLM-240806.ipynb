{
 "cells": [
  {
   "cell_type": "markdown",
   "metadata": {},
   "source": [
    "# SageMaker-TGI-for-LLM\n",
    "* **conda_pytorch_p310**"
   ]
  },
  {
   "cell_type": "markdown",
   "metadata": {},
   "source": [
    "The following diagram provides an overview of the ML model packaging process.\n",
    "\n",
    "- **Step 1** Storing model artifacts and serving/scoring logic\n",
    "- **Step 2** Creating and pushing a container to ECR that is used to host your model on SageMaker which performs inference\n",
    "- **Step 3** Validating the container which can succesfully host your model on SageMaker\n",
    "- **Step 4** Packaging the ML model into a Model Package\n",
    "- **Step 5** Validating this ML model package by deploying it with Amazon SageMaker \n",
    "- **Step 6** Listing the ML model in AWS Marketplace\n",
    "\n",
    "<img src=\"images/ml-model-publishing-workflow.png\"/>\n"
   ]
  },
  {
   "cell_type": "code",
   "execution_count": 11,
   "metadata": {
    "tags": []
   },
   "outputs": [],
   "source": [
    "install_needed = True\n",
    "# install_needed = False"
   ]
  },
  {
   "cell_type": "code",
   "execution_count": 12,
   "metadata": {
    "tags": []
   },
   "outputs": [
    {
     "name": "stdout",
     "output_type": "stream",
     "text": [
      "Already revised\n"
     ]
    },
    {
     "name": "stderr",
     "output_type": "stream",
     "text": [
      "  % Total    % Received % Xferd  Average Speed   Time    Time     Time  Current\n",
      "                                 Dload  Upload   Total   Spent    Left  Speed\n",
      "  0     0    0     0    0     0      0      0 --:--:-- --:--:-- --:--:--     0\n",
      "100 24.5M  100 24.5M    0     0  44.1M      0 --:--:-- --:--:-- --:--:--  236M\n"
     ]
    }
   ],
   "source": [
    "%%bash\n",
    "#!/bin/bash\n",
    "\n",
    "DAEMON_PATH=\"/etc/docker\"\n",
    "MEMORY_SIZE=10G\n",
    "\n",
    "FLAG=$(cat $DAEMON_PATH/daemon.json | jq 'has(\"data-root\")')\n",
    "# echo $FLAG\n",
    "\n",
    "if [ \"$FLAG\" == true ]; then\n",
    "    echo \"Already revised\"\n",
    "else\n",
    "    echo \"Add data-root and default-shm-size=$MEMORY_SIZE\"\n",
    "    sudo cp $DAEMON_PATH/daemon.json $DAEMON_PATH/daemon.json.bak\n",
    "    sudo cat $DAEMON_PATH/daemon.json.bak | jq '. += {\"data-root\":\"/home/ec2-user/SageMaker/.container/docker\",\"default-shm-size\":\"'$MEMORY_SIZE'\"}' | sudo tee $DAEMON_PATH/daemon.json > /dev/null\n",
    "    sudo service docker restart\n",
    "    echo \"Docker Restart\"\n",
    "fi\n",
    "\n",
    "sudo curl -L \"https://github.com/docker/compose/releases/download/v2.7.0/docker-compose-$(uname -s)-$(uname -m)\" -o /usr/local/bin/docker-compose\n",
    "sudo chmod +x /usr/local/bin/docker-compose"
   ]
  },
  {
   "cell_type": "code",
   "execution_count": 13,
   "metadata": {
    "tags": []
   },
   "outputs": [
    {
     "name": "stdout",
     "output_type": "stream",
     "text": [
      "installing deps and restarting kernel\n"
     ]
    }
   ],
   "source": [
    "import sys\n",
    "import IPython\n",
    "\n",
    "if install_needed:\n",
    "    print(\"installing deps and restarting kernel\")\n",
    "    !{sys.executable} -m pip install --upgrade pip --quiet\n",
    "    !{sys.executable} -m pip install -U sagemaker transformers huggingface_hub --quiet\n",
    "    IPython.Application.instance().kernel.do_shutdown(True)"
   ]
  },
  {
   "cell_type": "markdown",
   "metadata": {},
   "source": [
    "# Start"
   ]
  },
  {
   "cell_type": "code",
   "execution_count": 1,
   "metadata": {
    "tags": []
   },
   "outputs": [],
   "source": [
    "%load_ext autoreload\n",
    "%autoreload 2"
   ]
  },
  {
   "cell_type": "markdown",
   "metadata": {},
   "source": [
    "### Model Store"
   ]
  },
  {
   "cell_type": "code",
   "execution_count": 2,
   "metadata": {
    "tags": []
   },
   "outputs": [
    {
     "name": "stdout",
     "output_type": "stream",
     "text": [
      "sagemaker.config INFO - Not applying SDK defaults from location: /etc/xdg/sagemaker/config.yaml\n",
      "sagemaker.config INFO - Not applying SDK defaults from location: /home/ec2-user/.config/sagemaker/config.yaml\n"
     ]
    }
   ],
   "source": [
    "import os\n",
    "import time\n",
    "import boto3\n",
    "import logging\n",
    "\n",
    "from pathlib import Path\n",
    "import huggingface_hub\n",
    "\n",
    "import sagemaker\n",
    "from sagemaker.huggingface import HuggingFaceModel, get_huggingface_llm_image_uri\n",
    "from sagemaker.pytorch.model import PyTorchModel\n",
    "\n",
    "from sagemaker import get_execution_role\n",
    "from sagemaker.session import Session\n",
    "\n",
    "sagemaker_session = Session()\n",
    "\n",
    "artifacts_bucket_name = sagemaker_session.default_bucket()\n",
    "\n",
    "execution_role_arn = get_execution_role()\n",
    "region = sagemaker_session.boto_region_name\n",
    "\n",
    "os.environ['HF_HOME'] = '/home/ec2-user/SageMaker/.cache'"
   ]
  },
  {
   "cell_type": "markdown",
   "metadata": {},
   "source": [
    "#### https://sagemaker.readthedocs.io/en/stable/doc_utils/pretrainedmodels.html"
   ]
  },
  {
   "cell_type": "code",
   "execution_count": 3,
   "metadata": {
    "tags": []
   },
   "outputs": [
    {
     "name": "stderr",
     "output_type": "stream",
     "text": [
      "Using vulnerable JumpStart model 'meta-textgeneration-llama-3-8b-instruct' and version '2.2.1'.\n"
     ]
    },
    {
     "name": "stdout",
     "output_type": "stream",
     "text": [
      "ml.g5.12xlarge\n"
     ]
    }
   ],
   "source": [
    "from sagemaker import instance_types\n",
    "\n",
    "ref_model_id = \"meta-textgeneration-llama-3-8b-instruct\"\n",
    "instance_type = instance_types.retrieve_default(\n",
    "    model_id=ref_model_id,\n",
    "    model_version=\"2.2.1\",\n",
    "    scope=\"inference\")\n",
    "print(instance_type)"
   ]
  },
  {
   "cell_type": "markdown",
   "metadata": {},
   "source": [
    "<br>\n",
    "\n",
    "## [**Step 1**] Preparing model artifacts\n",
    "---"
   ]
  },
  {
   "cell_type": "code",
   "execution_count": 4,
   "metadata": {
    "tags": []
   },
   "outputs": [
    {
     "data": {
      "text/plain": [
       "'meta-llama-3-1-8b-instruct'"
      ]
     },
     "execution_count": 4,
     "metadata": {},
     "output_type": "execute_result"
    }
   ],
   "source": [
    "model_id='meta-llama/Meta-Llama-3.1-8B-Instruct'\n",
    "\n",
    "model_name = model_id.split(\"/\")[-1].lower()\n",
    "model_name = model_name.replace(\".\", \"-\")\n",
    "model_name"
   ]
  },
  {
   "cell_type": "code",
   "execution_count": 5,
   "metadata": {
    "tags": []
   },
   "outputs": [
    {
     "data": {
      "application/vnd.jupyter.widget-view+json": {
       "model_id": "6292d67d8b9e42a0ad88ef523cb0ede9",
       "version_major": 2,
       "version_minor": 0
      },
      "text/plain": [
       "Fetching 17 files:   0%|          | 0/17 [00:00<?, ?it/s]"
      ]
     },
     "metadata": {},
     "output_type": "display_data"
    },
    {
     "data": {
      "text/plain": [
       "'/home/ec2-user/SageMaker/2024/LG_AIR/on-boarding-process/meta-llama-3-1-8b-instruct'"
      ]
     },
     "execution_count": 5,
     "metadata": {},
     "output_type": "execute_result"
    }
   ],
   "source": [
    "hf_local_download_dir = Path.cwd() / model_name\n",
    "hf_local_download_dir.mkdir(exist_ok=True)\n",
    "\n",
    "huggingface_hub.snapshot_download(\n",
    "    repo_id=model_id,\n",
    "    revision=\"main\",\n",
    "    local_dir=hf_local_download_dir\n",
    ")"
   ]
  },
  {
   "cell_type": "code",
   "execution_count": 6,
   "metadata": {
    "tags": []
   },
   "outputs": [],
   "source": [
    "# !rm -rf compressed_model && mkdir compressed_model && cd $model_name && sudo rm -rf code && tar -czvf model.tar.gz *\n",
    "# !mv $model_name/model.tar.gz ./compressed_model/model.tar.gz"
   ]
  },
  {
   "cell_type": "code",
   "execution_count": 7,
   "metadata": {
    "tags": []
   },
   "outputs": [
    {
     "data": {
      "text/plain": [
       "'s3://sagemaker-us-west-2-322537213286/meta-llama-3-1-8b-instruct/compressed_model'"
      ]
     },
     "execution_count": 7,
     "metadata": {},
     "output_type": "execute_result"
    }
   ],
   "source": [
    "compressed_model_path = f\"s3://{artifacts_bucket_name}/{model_name}/compressed_model\"\n",
    "compressed_model_path"
   ]
  },
  {
   "cell_type": "code",
   "execution_count": 118,
   "metadata": {
    "tags": []
   },
   "outputs": [],
   "source": [
    "!aws s3 sync ./compressed_model/ $compressed_model_path"
   ]
  },
  {
   "cell_type": "markdown",
   "metadata": {},
   "source": [
    "<br>\n",
    "\n",
    "## [**Step 2**] Creating and pushing a container to ECR\n",
    "---"
   ]
  },
  {
   "cell_type": "code",
   "execution_count": 9,
   "metadata": {
    "tags": []
   },
   "outputs": [
    {
     "data": {
      "text/plain": [
       "'763104351884.dkr.ecr.us-west-2.amazonaws.com/huggingface-pytorch-tgi-inference:2.3.0-tgi2.2.0-gpu-py310-cu121-ubuntu22.04-v2.0'"
      ]
     },
     "execution_count": 9,
     "metadata": {},
     "output_type": "execute_result"
    }
   ],
   "source": [
    "image_uri = get_huggingface_llm_image_uri(\n",
    "  backend=\"huggingface\", # or lmi\n",
    "  region=region\n",
    ")\n",
    "image_uri"
   ]
  },
  {
   "cell_type": "code",
   "execution_count": 10,
   "metadata": {
    "tags": []
   },
   "outputs": [
    {
     "data": {
      "text/plain": [
       "'322537213286.dkr.ecr.us-west-2.amazonaws.com/huggingface-pytorch-tgi-inference:2.3.0-tgi2.2.0-gpu-py310-cu121-ubuntu22.04-v2.0'"
      ]
     },
     "execution_count": 10,
     "metadata": {},
     "output_type": "execute_result"
    }
   ],
   "source": [
    "account = sagemaker.Session().account_id()\n",
    "ecr_image_uri = image_uri.replace(\"763104351884\", account)\n",
    "ecr_image_uri"
   ]
  },
  {
   "cell_type": "code",
   "execution_count": 13,
   "metadata": {
    "tags": []
   },
   "outputs": [],
   "source": [
    "!rm -rf docker && mkdir docker"
   ]
  },
  {
   "cell_type": "code",
   "execution_count": 14,
   "metadata": {
    "tags": []
   },
   "outputs": [
    {
     "name": "stdout",
     "output_type": "stream",
     "text": [
      "Writing docker/sagemaker-entrypoint.sh\n"
     ]
    }
   ],
   "source": [
    "%%writefile docker/sagemaker-entrypoint.sh\n",
    "#!/bin/bash\n",
    "\n",
    "if [[ -z \"${HF_MODEL_ID}\" ]]; then\n",
    "  echo \"HF_MODEL_ID must be set\"\n",
    "  exit 1\n",
    "fi\n",
    "export MODEL_ID=\"${HF_MODEL_ID}\"\n",
    "\n",
    "if [[ -n \"${HF_MODEL_REVISION}\" ]]; then\n",
    "  export REVISION=\"${HF_MODEL_REVISION}\"\n",
    "fi\n",
    "\n",
    "if [[ -n \"${SM_NUM_GPUS}\" ]]; then\n",
    "  export NUM_SHARD=\"${SM_NUM_GPUS}\"\n",
    "else\n",
    "  SM_NUM_GPUS=$(nvidia-smi --query | fgrep 'Product Name' | wc -l)\n",
    "  export NUM_SHARD=\"${SM_NUM_GPUS}\"\n",
    "fi\n",
    "\n",
    "if [[ -n \"${HF_MODEL_QUANTIZE}\" ]]; then\n",
    "  export QUANTIZE=\"${HF_MODEL_QUANTIZE}\"\n",
    "fi\n",
    "\n",
    "if [[ -n \"${HF_MODEL_TRUST_REMOTE_CODE}\" ]]; then\n",
    "  export TRUST_REMOTE_CODE=\"${HF_MODEL_TRUST_REMOTE_CODE}\"\n",
    "fi\n",
    "\n",
    "text-generation-launcher --port 8080\n"
   ]
  },
  {
   "cell_type": "code",
   "execution_count": 15,
   "metadata": {
    "tags": []
   },
   "outputs": [
    {
     "name": "stdout",
     "output_type": "stream",
     "text": [
      "Writing docker/Dockerfile\n"
     ]
    }
   ],
   "source": [
    "%%writefile docker/Dockerfile\n",
    "\n",
    "FROM 763104351884.dkr.ecr.us-west-2.amazonaws.com/huggingface-pytorch-tgi-inference:2.3.0-tgi2.2.0-gpu-py310-cu121-ubuntu22.04-v2.0\n",
    "\n",
    "ENV HF_MODEL_ID \"/opt/ml/model\"\n",
    "ENV HF_MODEL_QUANTIZE \"bitsandbytes\"\n",
    "ENV HF_MODEL_TRUST_REMOTE_CODE \"true\"\n",
    "# ENV SM_NUM_GPUS \"4\"\n",
    "\n",
    "COPY sagemaker-entrypoint.sh entrypoint.sh\n",
    "RUN chmod +x entrypoint.sh\n",
    "\n",
    "ENTRYPOINT [\"./entrypoint.sh\"]"
   ]
  },
  {
   "cell_type": "code",
   "execution_count": 16,
   "metadata": {
    "tags": []
   },
   "outputs": [
    {
     "name": "stdout",
     "output_type": "stream",
     "text": [
      "Writing docker/build_and_push.sh\n"
     ]
    }
   ],
   "source": [
    "%%writefile docker/build_and_push.sh\n",
    "\n",
    "original_image_uri=\"763104351884.dkr.ecr.us-west-2.amazonaws.com/huggingface-pytorch-tgi-inference:2.3.0-tgi2.2.0-gpu-py310-cu121-ubuntu22.04-v2.0\"\n",
    "\n",
    "algorithm_name=\"huggingface-pytorch-tgi-inference\"\n",
    "\n",
    "cd docker\n",
    "\n",
    "account=$(aws sts get-caller-identity --query Account --output text)\n",
    "\n",
    "# Get the region defined in the current configuration (default to us-west-2 if none defined)\n",
    "region=$(aws configure get region)\n",
    "region=${region:-us-west-2}\n",
    "\n",
    "target_image_uri=\"${account}.dkr.ecr.us-west-2.amazonaws.com/${algorithm_name}:2.3.0-tgi2.2.0-gpu-py310-cu121-ubuntu22.04-v2.0\"\n",
    "\n",
    "# If the repository doesn't exist in ECR, create it.\n",
    "aws ecr describe-repositories --repository-names \"${algorithm_name}\" > /dev/null 2>&1\n",
    "\n",
    "\n",
    "if [ $? -ne 0 ]\n",
    "then\n",
    "    aws ecr create-repository --repository-name \"${algorithm_name}\" > /dev/null\n",
    "fi\n",
    "\n",
    "aws ecr get-login-password --region ${region} | docker login --username AWS --password-stdin \"763104351884.dkr.ecr.us-west-2.amazonaws.com\"\n",
    "\n",
    "# docker pull $original_image_uri\n",
    "# docker image tag $original_image_uri $target_image_uri\n",
    "\n",
    "docker build -f Dockerfile -t ${target_image_uri} .\n",
    "\n",
    "# Get the login command from ECR and execute it directly\n",
    "aws ecr get-login-password --region ${region}|docker login --username AWS --password-stdin ${target_image_uri}\n",
    "\n",
    "docker push ${target_image_uri}"
   ]
  },
  {
   "cell_type": "code",
   "execution_count": 17,
   "metadata": {
    "scrolled": true,
    "tags": []
   },
   "outputs": [
    {
     "name": "stdout",
     "output_type": "stream",
     "text": [
      "WARNING! Your password will be stored unencrypted in /home/ec2-user/.docker/config.json.\n",
      "Configure a credential helper to remove this warning. See\n",
      "https://docs.docker.com/engine/reference/commandline/login/#credentials-store\n",
      "\n",
      "Login Succeeded\n",
      "Sending build context to Docker daemon  5.632kB\n",
      "Step 1/7 : FROM 763104351884.dkr.ecr.us-west-2.amazonaws.com/huggingface-pytorch-tgi-inference:2.3.0-tgi2.2.0-gpu-py310-cu121-ubuntu22.04-v2.0\n",
      " ---> 414cb17d0a88\n",
      "Step 2/7 : ENV HF_MODEL_ID \"/opt/ml/model\"\n",
      " ---> Using cache\n",
      " ---> 9b69782ec83e\n",
      "Step 3/7 : ENV HF_MODEL_QUANTIZE \"bitsandbytes\"\n",
      " ---> Using cache\n",
      " ---> 94c53e1eccfd\n",
      "Step 4/7 : ENV HF_MODEL_TRUST_REMOTE_CODE \"true\"\n",
      " ---> Using cache\n",
      " ---> eb74335ec189\n",
      "Step 5/7 : COPY sagemaker-entrypoint.sh entrypoint.sh\n",
      " ---> Using cache\n",
      " ---> 9a5551499fff\n",
      "Step 6/7 : RUN chmod +x entrypoint.sh\n",
      " ---> Using cache\n",
      " ---> f0df046cee1a\n",
      "Step 7/7 : ENTRYPOINT [\"./entrypoint.sh\"]\n",
      " ---> Using cache\n",
      " ---> 10569b6531a8\n",
      "Successfully built 10569b6531a8\n",
      "Successfully tagged 322537213286.dkr.ecr.us-west-2.amazonaws.com/huggingface-pytorch-tgi-inference:2.3.0-tgi2.2.0-gpu-py310-cu121-ubuntu22.04-v2.0\n",
      "WARNING! Your password will be stored unencrypted in /home/ec2-user/.docker/config.json.\n",
      "Configure a credential helper to remove this warning. See\n",
      "https://docs.docker.com/engine/reference/commandline/login/#credentials-store\n",
      "\n",
      "Login Succeeded\n",
      "The push refers to repository [322537213286.dkr.ecr.us-west-2.amazonaws.com/huggingface-pytorch-tgi-inference]\n",
      "\n",
      "\u001b[1B7eb809ff: Preparing \n",
      "\u001b[1B5dd796df: Preparing \n",
      "\u001b[1B0c0deadb: Preparing \n",
      "\u001b[1Bbb1121a7: Preparing \n",
      "\u001b[1Bec391f26: Preparing \n",
      "\u001b[1Beb587d8a: Preparing \n",
      "\u001b[1Bee945b98: Preparing \n",
      "\u001b[1B202874c0: Preparing \n",
      "\u001b[1Bb52dddf6: Preparing \n",
      "\u001b[1B5f17f953: Preparing \n",
      "\u001b[1Be7fb595b: Preparing \n",
      "\u001b[1Bbf18a086: Preparing \n",
      "\u001b[1B6d36636e: Preparing \n",
      "\u001b[1B9d77a593: Preparing \n",
      "\u001b[1B6b71492e: Preparing \n",
      "\u001b[1B4735a726: Preparing \n",
      "\u001b[1Bbf42a70b: Preparing \n",
      "\u001b[1B1c150d40: Preparing \n",
      "\u001b[1Bc583d782: Preparing \n",
      "\u001b[1Bdbc4a4e7: Preparing \n",
      "\u001b[1Bd7066e74: Preparing \n",
      "\u001b[1B9a7d4ea6: Preparing \n",
      "\u001b[1B4019bfd0: Preparing \n",
      "\u001b[1B5b374fd2: Preparing \n",
      "\u001b[1B4a8b8ac4: Preparing \n",
      "\u001b[1Bb791c80a: Preparing \n",
      "\u001b[1B62986d92: Preparing \n",
      "\u001b[1B70accb90: Preparing \n",
      "\u001b[1Bd5b64081: Preparing \n",
      "\u001b[24Be945b98: Waiting g \n",
      "\u001b[1Bd032037b: Preparing \n",
      "\u001b[21Bf18a086: Preparing \n",
      "\u001b[26B02874c0: Waiting g \n",
      "\u001b[1Bbddcbe63: Preparing \n",
      "\u001b[27B52dddf6: Waiting g \n",
      "\u001b[27Bf17f953: Waiting g \n",
      "\u001b[1B88da4185: Layer already exists \u001b[35A\u001b[2K\u001b[30A\u001b[2K\u001b[25A\u001b[2K\u001b[19A\u001b[2K\u001b[15A\u001b[2K\u001b[12A\u001b[2K\u001b[6A\u001b[2K\u001b[2A\u001b[2K2.3.0-tgi2.2.0-gpu-py310-cu121-ubuntu22.04-v2.0: digest: sha256:c53b86fefef4b548ce97d9945363b990289c550bfe61ca680b1fe310860e47d7 size: 8313\n"
     ]
    }
   ],
   "source": [
    "!sh ./docker/build_and_push.sh"
   ]
  },
  {
   "cell_type": "markdown",
   "metadata": {},
   "source": [
    "<br>\n",
    "\n",
    "## [**Step 3**] Validating the container for hosting your model on SageMaker\n",
    "---\n",
    "\n",
    "SageMaker 호스팅 엔드포인트로 배포하기 전에 로컬 모드 엔드포인트로 배포할 수 있습니다. 로컬 모드는 현재 개발 중인 환경에서 도커 컨테이너를 실행하여 SageMaker 프로세싱/훈련/추론 작업을 에뮬레이트할 수 있습니다. 추론 작업의 경우는 Amazon ECR의 딥러닝 프레임워크 기반 추론 컨테이너를 로컬로 가져오고(docker pull) 컨테이너를 실행하여(docker run) 모델 서버를 시작합니다.\n"
   ]
  },
  {
   "cell_type": "markdown",
   "metadata": {
    "tags": []
   },
   "source": [
    "### SageMaker Endpoint (Local Mode)\n",
    "\n",
    "로컬 모드는 필수로 수행할 필요는 없지만, 디버깅에 많은 도움이 됩니다. 또한, 로컬 모드 사용 시에는 모델을 S3에 반드시 업로드할 필요 없이 로컬 디렉터리에서도 로드할 수 있습니다. (`container` 변수 참조)"
   ]
  },
  {
   "cell_type": "code",
   "execution_count": 18,
   "metadata": {
    "tags": []
   },
   "outputs": [
    {
     "name": "stdout",
     "output_type": "stream",
     "text": [
      "--- SageMaker Model Name: meta-llama-3-1-8b-instruct-2024-08-04-23-42-53\n",
      "--- Endpoint Config Name: meta-llama-3-1-8b-instruct-endpoint-config-2024-08-04-23-42-53\n",
      "--- Endpoint Name: meta-llama-3-1-8b-instruct-endpoint-2024-08-04-23-42-53\n",
      "--- Model Data: file:///home/ec2-user/SageMaker/2024/LG_AIR/on-boarding-process/meta-llama-3-1-8b-instruct\n"
     ]
    }
   ],
   "source": [
    "import boto3\n",
    "import time\n",
    "import json\n",
    "\n",
    "\n",
    "# Set to True to enable SageMaker to run locally\n",
    "local_mode = True\n",
    "# local_mode = False\n",
    "if local_mode:\n",
    "    from sagemaker.local import LocalSession\n",
    "    instance_type = \"local_gpu\"\n",
    "    sm_session = LocalSession()\n",
    "    sm_session.config = {'local': {'local_code': True}}\n",
    "    sm_client = sagemaker.local.LocalSagemakerClient()\n",
    "    smr_client = sagemaker.local.LocalSagemakerRuntimeClient()\n",
    "    model_data=f\"file://{Path.cwd()}/{model_name}\"\n",
    "else:\n",
    "    instance_type = \"ml.g5.12xlarge\"\n",
    "    sm_session = sagemaker.Session()\n",
    "    sm_client = boto3.client(\"sagemaker\")\n",
    "    smr_client = boto3.client(\"sagemaker-runtime\")\n",
    "    model_data = f\"{compressed_model_path}/model.tar.gz\"\n",
    "\n",
    "instance_count = 1\n",
    "ts = time.strftime(\"%Y-%m-%d-%H-%M-%S\", time.gmtime())\n",
    "sm_model_name = f\"{model_name}-{ts}\"\n",
    "endpoint_config_name = f\"{model_name}-endpoint-config-{ts}\"\n",
    "endpoint_name = f\"{model_name}-endpoint-{ts}\"\n",
    "model_data\n",
    "\n",
    "print(f'--- SageMaker Model Name: {sm_model_name}')\n",
    "print(f'--- Endpoint Config Name: {endpoint_config_name}')     \n",
    "print(f'--- Endpoint Name: {endpoint_name}')\n",
    "print(f'--- Model Data: {model_data}')"
   ]
  },
  {
   "cell_type": "code",
   "execution_count": 19,
   "metadata": {
    "tags": []
   },
   "outputs": [],
   "source": [
    "# env_var = {\n",
    "#     'HF_MODEL_ID': \"/opt/ml/model\",\n",
    "#     'SM_NUM_GPUS':'4',\n",
    "#     'HF_MODEL_QUANTIZE':'bitsandbytes',\n",
    "#     'HF_MODEL_TRUST_REMOTE_CODE' : 'true'\n",
    "# }\n",
    "\n",
    "env_var = {\n",
    "}\n",
    "\n",
    "container = {\n",
    "    \"Image\": ecr_image_uri,\n",
    "    \"ModelDataUrl\": model_data,\n",
    "    \"Environment\": env_var\n",
    "}"
   ]
  },
  {
   "cell_type": "code",
   "execution_count": 20,
   "metadata": {
    "tags": []
   },
   "outputs": [],
   "source": [
    "create_model_response = sm_client.create_model(\n",
    "    ModelName=sm_model_name, \n",
    "    ExecutionRoleArn=execution_role_arn, \n",
    "    PrimaryContainer=container,\n",
    ")\n",
    "\n",
    "create_endpoint_config_response = sm_client.create_endpoint_config(\n",
    "    EndpointConfigName=endpoint_config_name,\n",
    "    ProductionVariants=[\n",
    "        {\n",
    "            \"InstanceType\": instance_type,\n",
    "            \"InitialVariantWeight\": 1,\n",
    "            \"InitialInstanceCount\": 1,\n",
    "            \"ModelName\": sm_model_name,\n",
    "            \"VariantName\": \"AllTraffic\",\n",
    "            'ModelDataDownloadTimeoutInSeconds': 300,\n",
    "            'ContainerStartupHealthCheckTimeoutInSeconds': 300,\n",
    "            \n",
    "        },\n",
    "    ],\n",
    ")\n",
    "#print(\"Model Arn: \" + create_model_response[\"ModelArn\"])"
   ]
  },
  {
   "cell_type": "code",
   "execution_count": 21,
   "metadata": {
    "tags": []
   },
   "outputs": [
    {
     "name": "stdout",
     "output_type": "stream",
     "text": [
      "CONTAINER ID   IMAGE     COMMAND   CREATED   STATUS    PORTS     NAMES\n"
     ]
    }
   ],
   "source": [
    "!docker ps"
   ]
  },
  {
   "cell_type": "code",
   "execution_count": 22,
   "metadata": {
    "tags": []
   },
   "outputs": [
    {
     "name": "stdout",
     "output_type": "stream",
     "text": [
      "Error response from daemon: Cannot kill container: 05b1386c60b0: Container 05b1386c60b0befa7f4dedaf285ddc8d7e6c4bc65ced7c086b5a6b7d14bc44ed is not running\n"
     ]
    }
   ],
   "source": [
    "!docker kill 05b1386c60b0"
   ]
  },
  {
   "cell_type": "code",
   "execution_count": 23,
   "metadata": {
    "tags": []
   },
   "outputs": [
    {
     "name": "stdout",
     "output_type": "stream",
     "text": [
      "Attaching to 7g8mphx40a-algo-1-csk9y\n",
      "7g8mphx40a-algo-1-csk9y  | \u001b[2m2024-08-04T23:42:59.666965Z\u001b[0m \u001b[32m INFO\u001b[0m \u001b[2mtext_generation_launcher\u001b[0m\u001b[2m:\u001b[0m Args {\n",
      "7g8mphx40a-algo-1-csk9y  |     model_id: \"/opt/ml/model\",\n",
      "7g8mphx40a-algo-1-csk9y  |     revision: None,\n",
      "7g8mphx40a-algo-1-csk9y  |     validation_workers: 2,\n",
      "7g8mphx40a-algo-1-csk9y  |     sharded: None,\n",
      "7g8mphx40a-algo-1-csk9y  |     num_shard: Some(\n",
      "7g8mphx40a-algo-1-csk9y  |         4,\n",
      "7g8mphx40a-algo-1-csk9y  |     ),\n",
      "7g8mphx40a-algo-1-csk9y  |     quantize: Some(\n",
      "7g8mphx40a-algo-1-csk9y  |         Bitsandbytes,\n",
      "7g8mphx40a-algo-1-csk9y  |     ),\n",
      "7g8mphx40a-algo-1-csk9y  |     speculate: None,\n",
      "7g8mphx40a-algo-1-csk9y  |     dtype: None,\n",
      "7g8mphx40a-algo-1-csk9y  |     trust_remote_code: true,\n",
      "7g8mphx40a-algo-1-csk9y  |     max_concurrent_requests: 128,\n",
      "7g8mphx40a-algo-1-csk9y  |     max_best_of: 2,\n",
      "7g8mphx40a-algo-1-csk9y  |     max_stop_sequences: 4,\n",
      "7g8mphx40a-algo-1-csk9y  |     max_top_n_tokens: 5,\n",
      "7g8mphx40a-algo-1-csk9y  |     max_input_tokens: None,\n",
      "7g8mphx40a-algo-1-csk9y  |     max_input_length: None,\n",
      "7g8mphx40a-algo-1-csk9y  |     max_total_tokens: None,\n",
      "7g8mphx40a-algo-1-csk9y  |     waiting_served_ratio: 0.3,\n",
      "7g8mphx40a-algo-1-csk9y  |     max_batch_prefill_tokens: None,\n",
      "7g8mphx40a-algo-1-csk9y  |     max_batch_total_tokens: None,\n",
      "7g8mphx40a-algo-1-csk9y  |     max_waiting_tokens: 20,\n",
      "7g8mphx40a-algo-1-csk9y  |     max_batch_size: None,\n",
      "7g8mphx40a-algo-1-csk9y  |     cuda_graphs: None,\n",
      "7g8mphx40a-algo-1-csk9y  |     hostname: \"11d5238ece85\",\n",
      "7g8mphx40a-algo-1-csk9y  |     port: 8080,\n",
      "7g8mphx40a-algo-1-csk9y  |     shard_uds_path: \"/tmp/text-generation-server\",\n",
      "7g8mphx40a-algo-1-csk9y  |     master_addr: \"localhost\",\n",
      "7g8mphx40a-algo-1-csk9y  |     master_port: 29500,\n",
      "7g8mphx40a-algo-1-csk9y  |     huggingface_hub_cache: Some(\n",
      "7g8mphx40a-algo-1-csk9y  |         \"/tmp\",\n",
      "7g8mphx40a-algo-1-csk9y  |     ),\n",
      "7g8mphx40a-algo-1-csk9y  |     weights_cache_override: None,\n",
      "7g8mphx40a-algo-1-csk9y  |     disable_custom_kernels: false,\n",
      "7g8mphx40a-algo-1-csk9y  |     cuda_memory_fraction: 1.0,\n",
      "7g8mphx40a-algo-1-csk9y  |     rope_scaling: None,\n",
      "7g8mphx40a-algo-1-csk9y  |     rope_factor: None,\n",
      "7g8mphx40a-algo-1-csk9y  |     json_output: false,\n",
      "7g8mphx40a-algo-1-csk9y  |     otlp_endpoint: None,\n",
      "7g8mphx40a-algo-1-csk9y  |     otlp_service_name: \"text-generation-inference.router\",\n",
      "7g8mphx40a-algo-1-csk9y  |     cors_allow_origin: [],\n",
      "7g8mphx40a-algo-1-csk9y  |     watermark_gamma: None,\n",
      "7g8mphx40a-algo-1-csk9y  |     watermark_delta: None,\n",
      "7g8mphx40a-algo-1-csk9y  |     ngrok: false,\n",
      "7g8mphx40a-algo-1-csk9y  |     ngrok_authtoken: None,\n",
      "7g8mphx40a-algo-1-csk9y  |     ngrok_edge: None,\n",
      "7g8mphx40a-algo-1-csk9y  |     tokenizer_config_path: None,\n",
      "7g8mphx40a-algo-1-csk9y  |     disable_grammar_support: false,\n",
      "7g8mphx40a-algo-1-csk9y  |     env: false,\n",
      "7g8mphx40a-algo-1-csk9y  |     max_client_batch_size: 4,\n",
      "7g8mphx40a-algo-1-csk9y  |     lora_adapters: None,\n",
      "7g8mphx40a-algo-1-csk9y  |     disable_usage_stats: false,\n",
      "7g8mphx40a-algo-1-csk9y  |     disable_crash_reports: false,\n",
      "7g8mphx40a-algo-1-csk9y  | }\n",
      "7g8mphx40a-algo-1-csk9y  | \u001b[2m2024-08-04T23:42:59.667079Z\u001b[0m \u001b[32m INFO\u001b[0m \u001b[2mtext_generation_launcher\u001b[0m\u001b[2m:\u001b[0m Model supports up to 131072 but tgi will now set its default to 4096 instead. This is to save VRAM by refusing large prompts in order to allow more users on the same hardware. You can increase that size using `--max-batch-prefill-tokens=131122 --max-total-tokens=131072 --max-input-tokens=131071`.\n",
      "7g8mphx40a-algo-1-csk9y  | \u001b[2m2024-08-04T23:42:59.667095Z\u001b[0m \u001b[32m INFO\u001b[0m \u001b[2mtext_generation_launcher\u001b[0m\u001b[2m:\u001b[0m Default `max_input_tokens` to 4095\n",
      "7g8mphx40a-algo-1-csk9y  | \u001b[2m2024-08-04T23:42:59.667099Z\u001b[0m \u001b[32m INFO\u001b[0m \u001b[2mtext_generation_launcher\u001b[0m\u001b[2m:\u001b[0m Default `max_total_tokens` to 4096\n",
      "7g8mphx40a-algo-1-csk9y  | \u001b[2m2024-08-04T23:42:59.667102Z\u001b[0m \u001b[32m INFO\u001b[0m \u001b[2mtext_generation_launcher\u001b[0m\u001b[2m:\u001b[0m Default `max_batch_prefill_tokens` to 4145\n",
      "7g8mphx40a-algo-1-csk9y  | \u001b[2m2024-08-04T23:42:59.667105Z\u001b[0m \u001b[32m INFO\u001b[0m \u001b[2mtext_generation_launcher\u001b[0m\u001b[2m:\u001b[0m Bitsandbytes doesn't work with cuda graphs, deactivating them\n",
      "7g8mphx40a-algo-1-csk9y  | \u001b[2m2024-08-04T23:42:59.667108Z\u001b[0m \u001b[33m WARN\u001b[0m \u001b[2mtext_generation_launcher\u001b[0m\u001b[2m:\u001b[0m `trust_remote_code` is set. Trusting that model `/opt/ml/model` do not contain malicious code.\n",
      "7g8mphx40a-algo-1-csk9y  | \u001b[2m2024-08-04T23:42:59.667112Z\u001b[0m \u001b[32m INFO\u001b[0m \u001b[2mtext_generation_launcher\u001b[0m\u001b[2m:\u001b[0m Sharding model on 4 processes\n",
      "7g8mphx40a-algo-1-csk9y  | \u001b[2m2024-08-04T23:42:59.667213Z\u001b[0m \u001b[32m INFO\u001b[0m \u001b[1mdownload\u001b[0m: \u001b[2mtext_generation_launcher\u001b[0m\u001b[2m:\u001b[0m Starting check and download process for /opt/ml/model\n",
      "7g8mphx40a-algo-1-csk9y  | \u001b[2m2024-08-04T23:43:04.070313Z\u001b[0m \u001b[32m INFO\u001b[0m \u001b[2mtext_generation_launcher\u001b[0m\u001b[2m:\u001b[0m Files are already present on the host. Skipping download.\n",
      "7g8mphx40a-algo-1-csk9y  | \u001b[2m2024-08-04T23:43:04.772316Z\u001b[0m \u001b[32m INFO\u001b[0m \u001b[1mdownload\u001b[0m: \u001b[2mtext_generation_launcher\u001b[0m\u001b[2m:\u001b[0m Successfully downloaded weights for /opt/ml/model\n",
      "7g8mphx40a-algo-1-csk9y  | \u001b[2m2024-08-04T23:43:04.772575Z\u001b[0m \u001b[32m INFO\u001b[0m \u001b[1mshard-manager\u001b[0m: \u001b[2mtext_generation_launcher\u001b[0m\u001b[2m:\u001b[0m Starting shard \u001b[2m\u001b[3mrank\u001b[0m\u001b[2m=\u001b[0m0\u001b[0m\n",
      "7g8mphx40a-algo-1-csk9y  | \u001b[2m2024-08-04T23:43:04.772581Z\u001b[0m \u001b[32m INFO\u001b[0m \u001b[1mshard-manager\u001b[0m: \u001b[2mtext_generation_launcher\u001b[0m\u001b[2m:\u001b[0m Starting shard \u001b[2m\u001b[3mrank\u001b[0m\u001b[2m=\u001b[0m1\u001b[0m\n",
      "7g8mphx40a-algo-1-csk9y  | \u001b[2m2024-08-04T23:43:04.772645Z\u001b[0m \u001b[32m INFO\u001b[0m \u001b[1mshard-manager\u001b[0m: \u001b[2mtext_generation_launcher\u001b[0m\u001b[2m:\u001b[0m Starting shard \u001b[2m\u001b[3mrank\u001b[0m\u001b[2m=\u001b[0m2\u001b[0m\n",
      "7g8mphx40a-algo-1-csk9y  | \u001b[2m2024-08-04T23:43:04.774032Z\u001b[0m \u001b[32m INFO\u001b[0m \u001b[1mshard-manager\u001b[0m: \u001b[2mtext_generation_launcher\u001b[0m\u001b[2m:\u001b[0m Starting shard \u001b[2m\u001b[3mrank\u001b[0m\u001b[2m=\u001b[0m3\u001b[0m\n",
      "7g8mphx40a-algo-1-csk9y  | \u001b[2m2024-08-04T23:43:14.783698Z\u001b[0m \u001b[32m INFO\u001b[0m \u001b[1mshard-manager\u001b[0m: \u001b[2mtext_generation_launcher\u001b[0m\u001b[2m:\u001b[0m Waiting for shard to be ready... \u001b[2m\u001b[3mrank\u001b[0m\u001b[2m=\u001b[0m0\u001b[0m\n",
      "7g8mphx40a-algo-1-csk9y  | \u001b[2m2024-08-04T23:43:14.783694Z\u001b[0m \u001b[32m INFO\u001b[0m \u001b[1mshard-manager\u001b[0m: \u001b[2mtext_generation_launcher\u001b[0m\u001b[2m:\u001b[0m Waiting for shard to be ready... \u001b[2m\u001b[3mrank\u001b[0m\u001b[2m=\u001b[0m1\u001b[0m\n",
      "7g8mphx40a-algo-1-csk9y  | \u001b[2m2024-08-04T23:43:14.783956Z\u001b[0m \u001b[32m INFO\u001b[0m \u001b[1mshard-manager\u001b[0m: \u001b[2mtext_generation_launcher\u001b[0m\u001b[2m:\u001b[0m Waiting for shard to be ready... \u001b[2m\u001b[3mrank\u001b[0m\u001b[2m=\u001b[0m3\u001b[0m\n",
      "7g8mphx40a-algo-1-csk9y  | \u001b[2m2024-08-04T23:43:14.785172Z\u001b[0m \u001b[32m INFO\u001b[0m \u001b[1mshard-manager\u001b[0m: \u001b[2mtext_generation_launcher\u001b[0m\u001b[2m:\u001b[0m Waiting for shard to be ready... \u001b[2m\u001b[3mrank\u001b[0m\u001b[2m=\u001b[0m2\u001b[0m\n",
      "7g8mphx40a-algo-1-csk9y  | \u001b[2m2024-08-04T23:43:18.867033Z\u001b[0m \u001b[32m INFO\u001b[0m \u001b[2mtext_generation_launcher\u001b[0m\u001b[2m:\u001b[0m Server started at unix:///tmp/text-generation-server-2\n",
      "7g8mphx40a-algo-1-csk9y  | \u001b[2m2024-08-04T23:43:18.873324Z\u001b[0m \u001b[32m INFO\u001b[0m \u001b[2mtext_generation_launcher\u001b[0m\u001b[2m:\u001b[0m Server started at unix:///tmp/text-generation-server-0\n",
      "7g8mphx40a-algo-1-csk9y  | \u001b[2m2024-08-04T23:43:18.877168Z\u001b[0m \u001b[32m INFO\u001b[0m \u001b[2mtext_generation_launcher\u001b[0m\u001b[2m:\u001b[0m Server started at unix:///tmp/text-generation-server-1\n",
      "7g8mphx40a-algo-1-csk9y  | \u001b[2m2024-08-04T23:43:18.887653Z\u001b[0m \u001b[32m INFO\u001b[0m \u001b[1mshard-manager\u001b[0m: \u001b[2mtext_generation_launcher\u001b[0m\u001b[2m:\u001b[0m Shard ready in 14.11208942s \u001b[2m\u001b[3mrank\u001b[0m\u001b[2m=\u001b[0m1\u001b[0m\n",
      "7g8mphx40a-algo-1-csk9y  | \u001b[2m2024-08-04T23:43:18.887681Z\u001b[0m \u001b[32m INFO\u001b[0m \u001b[1mshard-manager\u001b[0m: \u001b[2mtext_generation_launcher\u001b[0m\u001b[2m:\u001b[0m Shard ready in 14.112905424s \u001b[2m\u001b[3mrank\u001b[0m\u001b[2m=\u001b[0m0\u001b[0m\n",
      "7g8mphx40a-algo-1-csk9y  | \u001b[2m2024-08-04T23:43:18.889166Z\u001b[0m \u001b[32m INFO\u001b[0m \u001b[1mshard-manager\u001b[0m: \u001b[2mtext_generation_launcher\u001b[0m\u001b[2m:\u001b[0m Shard ready in 14.113526266s \u001b[2m\u001b[3mrank\u001b[0m\u001b[2m=\u001b[0m2\u001b[0m\n",
      "7g8mphx40a-algo-1-csk9y  | \u001b[2m2024-08-04T23:43:18.933270Z\u001b[0m \u001b[32m INFO\u001b[0m \u001b[2mtext_generation_launcher\u001b[0m\u001b[2m:\u001b[0m Server started at unix:///tmp/text-generation-server-3\n",
      "7g8mphx40a-algo-1-csk9y  | \u001b[2m2024-08-04T23:43:18.987765Z\u001b[0m \u001b[32m INFO\u001b[0m \u001b[1mshard-manager\u001b[0m: \u001b[2mtext_generation_launcher\u001b[0m\u001b[2m:\u001b[0m Shard ready in 14.211965784s \u001b[2m\u001b[3mrank\u001b[0m\u001b[2m=\u001b[0m3\u001b[0m\n",
      "7g8mphx40a-algo-1-csk9y  | \u001b[2m2024-08-04T23:43:19.083718Z\u001b[0m \u001b[32m INFO\u001b[0m \u001b[2mtext_generation_launcher\u001b[0m\u001b[2m:\u001b[0m Starting Webserver\n",
      "7g8mphx40a-algo-1-csk9y  | \u001b[2m2024-08-04T23:43:19.675378Z\u001b[0m \u001b[33m WARN\u001b[0m \u001b[2mtokenizers::tokenizer::serialization\u001b[0m\u001b[2m:\u001b[0m \u001b[2m/usr/local/cargo/registry/src/index.crates.io-6f17d22bba15001f/tokenizers-0.19.1/src/tokenizer/serialization.rs\u001b[0m\u001b[2m:\u001b[0m\u001b[2m159:\u001b[0m Warning: Token '<|begin_of_text|>' was expected to have ID '128000' but was given ID 'None'    \n",
      "7g8mphx40a-algo-1-csk9y  | \u001b[2m2024-08-04T23:43:19.675423Z\u001b[0m \u001b[33m WARN\u001b[0m \u001b[2mtokenizers::tokenizer::serialization\u001b[0m\u001b[2m:\u001b[0m \u001b[2m/usr/local/cargo/registry/src/index.crates.io-6f17d22bba15001f/tokenizers-0.19.1/src/tokenizer/serialization.rs\u001b[0m\u001b[2m:\u001b[0m\u001b[2m159:\u001b[0m Warning: Token '<|end_of_text|>' was expected to have ID '128001' but was given ID 'None'    \n",
      "7g8mphx40a-algo-1-csk9y  | \u001b[2m2024-08-04T23:43:19.675427Z\u001b[0m \u001b[33m WARN\u001b[0m \u001b[2mtokenizers::tokenizer::serialization\u001b[0m\u001b[2m:\u001b[0m \u001b[2m/usr/local/cargo/registry/src/index.crates.io-6f17d22bba15001f/tokenizers-0.19.1/src/tokenizer/serialization.rs\u001b[0m\u001b[2m:\u001b[0m\u001b[2m159:\u001b[0m Warning: Token '<|reserved_special_token_0|>' was expected to have ID '128002' but was given ID 'None'    \n",
      "7g8mphx40a-algo-1-csk9y  | \u001b[2m2024-08-04T23:43:19.675430Z\u001b[0m \u001b[33m WARN\u001b[0m \u001b[2mtokenizers::tokenizer::serialization\u001b[0m\u001b[2m:\u001b[0m \u001b[2m/usr/local/cargo/registry/src/index.crates.io-6f17d22bba15001f/tokenizers-0.19.1/src/tokenizer/serialization.rs\u001b[0m\u001b[2m:\u001b[0m\u001b[2m159:\u001b[0m Warning: Token '<|reserved_special_token_1|>' was expected to have ID '128003' but was given ID 'None'    \n",
      "7g8mphx40a-algo-1-csk9y  | \u001b[2m2024-08-04T23:43:19.675432Z\u001b[0m \u001b[33m WARN\u001b[0m \u001b[2mtokenizers::tokenizer::serialization\u001b[0m\u001b[2m:\u001b[0m \u001b[2m/usr/local/cargo/registry/src/index.crates.io-6f17d22bba15001f/tokenizers-0.19.1/src/tokenizer/serialization.rs\u001b[0m\u001b[2m:\u001b[0m\u001b[2m159:\u001b[0m Warning: Token '<|finetune_right_pad_id|>' was expected to have ID '128004' but was given ID 'None'    \n",
      "7g8mphx40a-algo-1-csk9y  | \u001b[2m2024-08-04T23:43:19.675445Z\u001b[0m \u001b[33m WARN\u001b[0m \u001b[2mtokenizers::tokenizer::serialization\u001b[0m\u001b[2m:\u001b[0m \u001b[2m/usr/local/cargo/registry/src/index.crates.io-6f17d22bba15001f/tokenizers-0.19.1/src/tokenizer/serialization.rs\u001b[0m\u001b[2m:\u001b[0m\u001b[2m159:\u001b[0m Warning: Token '<|reserved_special_token_2|>' was expected to have ID '128005' but was given ID 'None'    \n",
      "7g8mphx40a-algo-1-csk9y  | \u001b[2m2024-08-04T23:43:19.675448Z\u001b[0m \u001b[33m WARN\u001b[0m \u001b[2mtokenizers::tokenizer::serialization\u001b[0m\u001b[2m:\u001b[0m \u001b[2m/usr/local/cargo/registry/src/index.crates.io-6f17d22bba15001f/tokenizers-0.19.1/src/tokenizer/serialization.rs\u001b[0m\u001b[2m:\u001b[0m\u001b[2m159:\u001b[0m Warning: Token '<|start_header_id|>' was expected to have ID '128006' but was given ID 'None'    \n",
      "7g8mphx40a-algo-1-csk9y  | \u001b[2m2024-08-04T23:43:19.675450Z\u001b[0m \u001b[33m WARN\u001b[0m \u001b[2mtokenizers::tokenizer::serialization\u001b[0m\u001b[2m:\u001b[0m \u001b[2m/usr/local/cargo/registry/src/index.crates.io-6f17d22bba15001f/tokenizers-0.19.1/src/tokenizer/serialization.rs\u001b[0m\u001b[2m:\u001b[0m\u001b[2m159:\u001b[0m Warning: Token '<|end_header_id|>' was expected to have ID '128007' but was given ID 'None'    \n",
      "7g8mphx40a-algo-1-csk9y  | \u001b[2m2024-08-04T23:43:19.675453Z\u001b[0m \u001b[33m WARN\u001b[0m \u001b[2mtokenizers::tokenizer::serialization\u001b[0m\u001b[2m:\u001b[0m \u001b[2m/usr/local/cargo/registry/src/index.crates.io-6f17d22bba15001f/tokenizers-0.19.1/src/tokenizer/serialization.rs\u001b[0m\u001b[2m:\u001b[0m\u001b[2m159:\u001b[0m Warning: Token '<|eom_id|>' was expected to have ID '128008' but was given ID 'None'    \n",
      "7g8mphx40a-algo-1-csk9y  | \u001b[2m2024-08-04T23:43:19.675456Z\u001b[0m \u001b[33m WARN\u001b[0m \u001b[2mtokenizers::tokenizer::serialization\u001b[0m\u001b[2m:\u001b[0m \u001b[2m/usr/local/cargo/registry/src/index.crates.io-6f17d22bba15001f/tokenizers-0.19.1/src/tokenizer/serialization.rs\u001b[0m\u001b[2m:\u001b[0m\u001b[2m159:\u001b[0m Warning: Token '<|eot_id|>' was expected to have ID '128009' but was given ID 'None'    \n",
      "7g8mphx40a-algo-1-csk9y  | \u001b[2m2024-08-04T23:43:19.675458Z\u001b[0m \u001b[33m WARN\u001b[0m \u001b[2mtokenizers::tokenizer::serialization\u001b[0m\u001b[2m:\u001b[0m \u001b[2m/usr/local/cargo/registry/src/index.crates.io-6f17d22bba15001f/tokenizers-0.19.1/src/tokenizer/serialization.rs\u001b[0m\u001b[2m:\u001b[0m\u001b[2m159:\u001b[0m Warning: Token '<|python_tag|>' was expected to have ID '128010' but was given ID 'None'    \n",
      "7g8mphx40a-algo-1-csk9y  | \u001b[2m2024-08-04T23:43:19.675461Z\u001b[0m \u001b[33m WARN\u001b[0m \u001b[2mtokenizers::tokenizer::serialization\u001b[0m\u001b[2m:\u001b[0m \u001b[2m/usr/local/cargo/registry/src/index.crates.io-6f17d22bba15001f/tokenizers-0.19.1/src/tokenizer/serialization.rs\u001b[0m\u001b[2m:\u001b[0m\u001b[2m159:\u001b[0m Warning: Token '<|reserved_special_token_3|>' was expected to have ID '128011' but was given ID 'None'    \n",
      "7g8mphx40a-algo-1-csk9y  | \u001b[2m2024-08-04T23:43:19.675464Z\u001b[0m \u001b[33m WARN\u001b[0m \u001b[2mtokenizers::tokenizer::serialization\u001b[0m\u001b[2m:\u001b[0m \u001b[2m/usr/local/cargo/registry/src/index.crates.io-6f17d22bba15001f/tokenizers-0.19.1/src/tokenizer/serialization.rs\u001b[0m\u001b[2m:\u001b[0m\u001b[2m159:\u001b[0m Warning: Token '<|reserved_special_token_4|>' was expected to have ID '128012' but was given ID 'None'    \n",
      "7g8mphx40a-algo-1-csk9y  | \u001b[2m2024-08-04T23:43:19.675466Z\u001b[0m \u001b[33m WARN\u001b[0m \u001b[2mtokenizers::tokenizer::serialization\u001b[0m\u001b[2m:\u001b[0m \u001b[2m/usr/local/cargo/registry/src/index.crates.io-6f17d22bba15001f/tokenizers-0.19.1/src/tokenizer/serialization.rs\u001b[0m\u001b[2m:\u001b[0m\u001b[2m159:\u001b[0m Warning: Token '<|reserved_special_token_5|>' was expected to have ID '128013' but was given ID 'None'    \n",
      "7g8mphx40a-algo-1-csk9y  | \u001b[2m2024-08-04T23:43:19.675469Z\u001b[0m \u001b[33m WARN\u001b[0m \u001b[2mtokenizers::tokenizer::serialization\u001b[0m\u001b[2m:\u001b[0m \u001b[2m/usr/local/cargo/registry/src/index.crates.io-6f17d22bba15001f/tokenizers-0.19.1/src/tokenizer/serialization.rs\u001b[0m\u001b[2m:\u001b[0m\u001b[2m159:\u001b[0m Warning: Token '<|reserved_special_token_6|>' was expected to have ID '128014' but was given ID 'None'    \n",
      "7g8mphx40a-algo-1-csk9y  | \u001b[2m2024-08-04T23:43:19.675472Z\u001b[0m \u001b[33m WARN\u001b[0m \u001b[2mtokenizers::tokenizer::serialization\u001b[0m\u001b[2m:\u001b[0m \u001b[2m/usr/local/cargo/registry/src/index.crates.io-6f17d22bba15001f/tokenizers-0.19.1/src/tokenizer/serialization.rs\u001b[0m\u001b[2m:\u001b[0m\u001b[2m159:\u001b[0m Warning: Token '<|reserved_special_token_7|>' was expected to have ID '128015' but was given ID 'None'    \n",
      "7g8mphx40a-algo-1-csk9y  | \u001b[2m2024-08-04T23:43:19.675475Z\u001b[0m \u001b[33m WARN\u001b[0m \u001b[2mtokenizers::tokenizer::serialization\u001b[0m\u001b[2m:\u001b[0m \u001b[2m/usr/local/cargo/registry/src/index.crates.io-6f17d22bba15001f/tokenizers-0.19.1/src/tokenizer/serialization.rs\u001b[0m\u001b[2m:\u001b[0m\u001b[2m159:\u001b[0m Warning: Token '<|reserved_special_token_8|>' was expected to have ID '128016' but was given ID 'None'    \n",
      "7g8mphx40a-algo-1-csk9y  | \u001b[2m2024-08-04T23:43:19.675477Z\u001b[0m \u001b[33m WARN\u001b[0m \u001b[2mtokenizers::tokenizer::serialization\u001b[0m\u001b[2m:\u001b[0m \u001b[2m/usr/local/cargo/registry/src/index.crates.io-6f17d22bba15001f/tokenizers-0.19.1/src/tokenizer/serialization.rs\u001b[0m\u001b[2m:\u001b[0m\u001b[2m159:\u001b[0m Warning: Token '<|reserved_special_token_9|>' was expected to have ID '128017' but was given ID 'None'    \n",
      "7g8mphx40a-algo-1-csk9y  | \u001b[2m2024-08-04T23:43:19.675480Z\u001b[0m \u001b[33m WARN\u001b[0m \u001b[2mtokenizers::tokenizer::serialization\u001b[0m\u001b[2m:\u001b[0m \u001b[2m/usr/local/cargo/registry/src/index.crates.io-6f17d22bba15001f/tokenizers-0.19.1/src/tokenizer/serialization.rs\u001b[0m\u001b[2m:\u001b[0m\u001b[2m159:\u001b[0m Warning: Token '<|reserved_special_token_10|>' was expected to have ID '128018' but was given ID 'None'    \n",
      "7g8mphx40a-algo-1-csk9y  | \u001b[2m2024-08-04T23:43:19.675482Z\u001b[0m \u001b[33m WARN\u001b[0m \u001b[2mtokenizers::tokenizer::serialization\u001b[0m\u001b[2m:\u001b[0m \u001b[2m/usr/local/cargo/registry/src/index.crates.io-6f17d22bba15001f/tokenizers-0.19.1/src/tokenizer/serialization.rs\u001b[0m\u001b[2m:\u001b[0m\u001b[2m159:\u001b[0m Warning: Token '<|reserved_special_token_11|>' was expected to have ID '128019' but was given ID 'None'    \n",
      "7g8mphx40a-algo-1-csk9y  | \u001b[2m2024-08-04T23:43:19.675485Z\u001b[0m \u001b[33m WARN\u001b[0m \u001b[2mtokenizers::tokenizer::serialization\u001b[0m\u001b[2m:\u001b[0m \u001b[2m/usr/local/cargo/registry/src/index.crates.io-6f17d22bba15001f/tokenizers-0.19.1/src/tokenizer/serialization.rs\u001b[0m\u001b[2m:\u001b[0m\u001b[2m159:\u001b[0m Warning: Token '<|reserved_special_token_12|>' was expected to have ID '128020' but was given ID 'None'    \n",
      "7g8mphx40a-algo-1-csk9y  | \u001b[2m2024-08-04T23:43:19.675487Z\u001b[0m \u001b[33m WARN\u001b[0m \u001b[2mtokenizers::tokenizer::serialization\u001b[0m\u001b[2m:\u001b[0m \u001b[2m/usr/local/cargo/registry/src/index.crates.io-6f17d22bba15001f/tokenizers-0.19.1/src/tokenizer/serialization.rs\u001b[0m\u001b[2m:\u001b[0m\u001b[2m159:\u001b[0m Warning: Token '<|reserved_special_token_13|>' was expected to have ID '128021' but was given ID 'None'    \n",
      "7g8mphx40a-algo-1-csk9y  | \u001b[2m2024-08-04T23:43:19.675490Z\u001b[0m \u001b[33m WARN\u001b[0m \u001b[2mtokenizers::tokenizer::serialization\u001b[0m\u001b[2m:\u001b[0m \u001b[2m/usr/local/cargo/registry/src/index.crates.io-6f17d22bba15001f/tokenizers-0.19.1/src/tokenizer/serialization.rs\u001b[0m\u001b[2m:\u001b[0m\u001b[2m159:\u001b[0m Warning: Token '<|reserved_special_token_14|>' was expected to have ID '128022' but was given ID 'None'    \n",
      "7g8mphx40a-algo-1-csk9y  | \u001b[2m2024-08-04T23:43:19.675494Z\u001b[0m \u001b[33m WARN\u001b[0m \u001b[2mtokenizers::tokenizer::serialization\u001b[0m\u001b[2m:\u001b[0m \u001b[2m/usr/local/cargo/registry/src/index.crates.io-6f17d22bba15001f/tokenizers-0.19.1/src/tokenizer/serialization.rs\u001b[0m\u001b[2m:\u001b[0m\u001b[2m159:\u001b[0m Warning: Token '<|reserved_special_token_15|>' was expected to have ID '128023' but was given ID 'None'    \n",
      "7g8mphx40a-algo-1-csk9y  | \u001b[2m2024-08-04T23:43:19.675497Z\u001b[0m \u001b[33m WARN\u001b[0m \u001b[2mtokenizers::tokenizer::serialization\u001b[0m\u001b[2m:\u001b[0m \u001b[2m/usr/local/cargo/registry/src/index.crates.io-6f17d22bba15001f/tokenizers-0.19.1/src/tokenizer/serialization.rs\u001b[0m\u001b[2m:\u001b[0m\u001b[2m159:\u001b[0m Warning: Token '<|reserved_special_token_16|>' was expected to have ID '128024' but was given ID 'None'    \n",
      "7g8mphx40a-algo-1-csk9y  | \u001b[2m2024-08-04T23:43:19.675499Z\u001b[0m \u001b[33m WARN\u001b[0m \u001b[2mtokenizers::tokenizer::serialization\u001b[0m\u001b[2m:\u001b[0m \u001b[2m/usr/local/cargo/registry/src/index.crates.io-6f17d22bba15001f/tokenizers-0.19.1/src/tokenizer/serialization.rs\u001b[0m\u001b[2m:\u001b[0m\u001b[2m159:\u001b[0m Warning: Token '<|reserved_special_token_17|>' was expected to have ID '128025' but was given ID 'None'    \n",
      "7g8mphx40a-algo-1-csk9y  | \u001b[2m2024-08-04T23:43:19.675502Z\u001b[0m \u001b[33m WARN\u001b[0m \u001b[2mtokenizers::tokenizer::serialization\u001b[0m\u001b[2m:\u001b[0m \u001b[2m/usr/local/cargo/registry/src/index.crates.io-6f17d22bba15001f/tokenizers-0.19.1/src/tokenizer/serialization.rs\u001b[0m\u001b[2m:\u001b[0m\u001b[2m159:\u001b[0m Warning: Token '<|reserved_special_token_18|>' was expected to have ID '128026' but was given ID 'None'    \n",
      "7g8mphx40a-algo-1-csk9y  | \u001b[2m2024-08-04T23:43:19.675504Z\u001b[0m \u001b[33m WARN\u001b[0m \u001b[2mtokenizers::tokenizer::serialization\u001b[0m\u001b[2m:\u001b[0m \u001b[2m/usr/local/cargo/registry/src/index.crates.io-6f17d22bba15001f/tokenizers-0.19.1/src/tokenizer/serialization.rs\u001b[0m\u001b[2m:\u001b[0m\u001b[2m159:\u001b[0m Warning: Token '<|reserved_special_token_19|>' was expected to have ID '128027' but was given ID 'None'    \n",
      "7g8mphx40a-algo-1-csk9y  | \u001b[2m2024-08-04T23:43:19.675507Z\u001b[0m \u001b[33m WARN\u001b[0m \u001b[2mtokenizers::tokenizer::serialization\u001b[0m\u001b[2m:\u001b[0m \u001b[2m/usr/local/cargo/registry/src/index.crates.io-6f17d22bba15001f/tokenizers-0.19.1/src/tokenizer/serialization.rs\u001b[0m\u001b[2m:\u001b[0m\u001b[2m159:\u001b[0m Warning: Token '<|reserved_special_token_20|>' was expected to have ID '128028' but was given ID 'None'    \n",
      "7g8mphx40a-algo-1-csk9y  | \u001b[2m2024-08-04T23:43:19.675509Z\u001b[0m \u001b[33m WARN\u001b[0m \u001b[2mtokenizers::tokenizer::serialization\u001b[0m\u001b[2m:\u001b[0m \u001b[2m/usr/local/cargo/registry/src/index.crates.io-6f17d22bba15001f/tokenizers-0.19.1/src/tokenizer/serialization.rs\u001b[0m\u001b[2m:\u001b[0m\u001b[2m159:\u001b[0m Warning: Token '<|reserved_special_token_21|>' was expected to have ID '128029' but was given ID 'None'    \n",
      "7g8mphx40a-algo-1-csk9y  | \u001b[2m2024-08-04T23:43:19.675512Z\u001b[0m \u001b[33m WARN\u001b[0m \u001b[2mtokenizers::tokenizer::serialization\u001b[0m\u001b[2m:\u001b[0m \u001b[2m/usr/local/cargo/registry/src/index.crates.io-6f17d22bba15001f/tokenizers-0.19.1/src/tokenizer/serialization.rs\u001b[0m\u001b[2m:\u001b[0m\u001b[2m159:\u001b[0m Warning: Token '<|reserved_special_token_22|>' was expected to have ID '128030' but was given ID 'None'    \n",
      "7g8mphx40a-algo-1-csk9y  | \u001b[2m2024-08-04T23:43:19.675515Z\u001b[0m \u001b[33m WARN\u001b[0m \u001b[2mtokenizers::tokenizer::serialization\u001b[0m\u001b[2m:\u001b[0m \u001b[2m/usr/local/cargo/registry/src/index.crates.io-6f17d22bba15001f/tokenizers-0.19.1/src/tokenizer/serialization.rs\u001b[0m\u001b[2m:\u001b[0m\u001b[2m159:\u001b[0m Warning: Token '<|reserved_special_token_23|>' was expected to have ID '128031' but was given ID 'None'    \n",
      "7g8mphx40a-algo-1-csk9y  | \u001b[2m2024-08-04T23:43:19.675517Z\u001b[0m \u001b[33m WARN\u001b[0m \u001b[2mtokenizers::tokenizer::serialization\u001b[0m\u001b[2m:\u001b[0m \u001b[2m/usr/local/cargo/registry/src/index.crates.io-6f17d22bba15001f/tokenizers-0.19.1/src/tokenizer/serialization.rs\u001b[0m\u001b[2m:\u001b[0m\u001b[2m159:\u001b[0m Warning: Token '<|reserved_special_token_24|>' was expected to have ID '128032' but was given ID 'None'    \n",
      "7g8mphx40a-algo-1-csk9y  | \u001b[2m2024-08-04T23:43:19.675520Z\u001b[0m \u001b[33m WARN\u001b[0m \u001b[2mtokenizers::tokenizer::serialization\u001b[0m\u001b[2m:\u001b[0m \u001b[2m/usr/local/cargo/registry/src/index.crates.io-6f17d22bba15001f/tokenizers-0.19.1/src/tokenizer/serialization.rs\u001b[0m\u001b[2m:\u001b[0m\u001b[2m159:\u001b[0m Warning: Token '<|reserved_special_token_25|>' was expected to have ID '128033' but was given ID 'None'    \n",
      "7g8mphx40a-algo-1-csk9y  | \u001b[2m2024-08-04T23:43:19.675523Z\u001b[0m \u001b[33m WARN\u001b[0m \u001b[2mtokenizers::tokenizer::serialization\u001b[0m\u001b[2m:\u001b[0m \u001b[2m/usr/local/cargo/registry/src/index.crates.io-6f17d22bba15001f/tokenizers-0.19.1/src/tokenizer/serialization.rs\u001b[0m\u001b[2m:\u001b[0m\u001b[2m159:\u001b[0m Warning: Token '<|reserved_special_token_26|>' was expected to have ID '128034' but was given ID 'None'    \n",
      "7g8mphx40a-algo-1-csk9y  | \u001b[2m2024-08-04T23:43:19.675525Z\u001b[0m \u001b[33m WARN\u001b[0m \u001b[2mtokenizers::tokenizer::serialization\u001b[0m\u001b[2m:\u001b[0m \u001b[2m/usr/local/cargo/registry/src/index.crates.io-6f17d22bba15001f/tokenizers-0.19.1/src/tokenizer/serialization.rs\u001b[0m\u001b[2m:\u001b[0m\u001b[2m159:\u001b[0m Warning: Token '<|reserved_special_token_27|>' was expected to have ID '128035' but was given ID 'None'    \n",
      "7g8mphx40a-algo-1-csk9y  | \u001b[2m2024-08-04T23:43:19.675528Z\u001b[0m \u001b[33m WARN\u001b[0m \u001b[2mtokenizers::tokenizer::serialization\u001b[0m\u001b[2m:\u001b[0m \u001b[2m/usr/local/cargo/registry/src/index.crates.io-6f17d22bba15001f/tokenizers-0.19.1/src/tokenizer/serialization.rs\u001b[0m\u001b[2m:\u001b[0m\u001b[2m159:\u001b[0m Warning: Token '<|reserved_special_token_28|>' was expected to have ID '128036' but was given ID 'None'    \n",
      "7g8mphx40a-algo-1-csk9y  | \u001b[2m2024-08-04T23:43:19.675530Z\u001b[0m \u001b[33m WARN\u001b[0m \u001b[2mtokenizers::tokenizer::serialization\u001b[0m\u001b[2m:\u001b[0m \u001b[2m/usr/local/cargo/registry/src/index.crates.io-6f17d22bba15001f/tokenizers-0.19.1/src/tokenizer/serialization.rs\u001b[0m\u001b[2m:\u001b[0m\u001b[2m159:\u001b[0m Warning: Token '<|reserved_special_token_29|>' was expected to have ID '128037' but was given ID 'None'    \n",
      "7g8mphx40a-algo-1-csk9y  | \u001b[2m2024-08-04T23:43:19.675533Z\u001b[0m \u001b[33m WARN\u001b[0m \u001b[2mtokenizers::tokenizer::serialization\u001b[0m\u001b[2m:\u001b[0m \u001b[2m/usr/local/cargo/registry/src/index.crates.io-6f17d22bba15001f/tokenizers-0.19.1/src/tokenizer/serialization.rs\u001b[0m\u001b[2m:\u001b[0m\u001b[2m159:\u001b[0m Warning: Token '<|reserved_special_token_30|>' was expected to have ID '128038' but was given ID 'None'    \n",
      "7g8mphx40a-algo-1-csk9y  | \u001b[2m2024-08-04T23:43:19.675535Z\u001b[0m \u001b[33m WARN\u001b[0m \u001b[2mtokenizers::tokenizer::serialization\u001b[0m\u001b[2m:\u001b[0m \u001b[2m/usr/local/cargo/registry/src/index.crates.io-6f17d22bba15001f/tokenizers-0.19.1/src/tokenizer/serialization.rs\u001b[0m\u001b[2m:\u001b[0m\u001b[2m159:\u001b[0m Warning: Token '<|reserved_special_token_31|>' was expected to have ID '128039' but was given ID 'None'    \n",
      "7g8mphx40a-algo-1-csk9y  | \u001b[2m2024-08-04T23:43:19.675538Z\u001b[0m \u001b[33m WARN\u001b[0m \u001b[2mtokenizers::tokenizer::serialization\u001b[0m\u001b[2m:\u001b[0m \u001b[2m/usr/local/cargo/registry/src/index.crates.io-6f17d22bba15001f/tokenizers-0.19.1/src/tokenizer/serialization.rs\u001b[0m\u001b[2m:\u001b[0m\u001b[2m159:\u001b[0m Warning: Token '<|reserved_special_token_32|>' was expected to have ID '128040' but was given ID 'None'    \n",
      "7g8mphx40a-algo-1-csk9y  | \u001b[2m2024-08-04T23:43:19.675540Z\u001b[0m \u001b[33m WARN\u001b[0m \u001b[2mtokenizers::tokenizer::serialization\u001b[0m\u001b[2m:\u001b[0m \u001b[2m/usr/local/cargo/registry/src/index.crates.io-6f17d22bba15001f/tokenizers-0.19.1/src/tokenizer/serialization.rs\u001b[0m\u001b[2m:\u001b[0m\u001b[2m159:\u001b[0m Warning: Token '<|reserved_special_token_33|>' was expected to have ID '128041' but was given ID 'None'    \n",
      "7g8mphx40a-algo-1-csk9y  | \u001b[2m2024-08-04T23:43:19.675542Z\u001b[0m \u001b[33m WARN\u001b[0m \u001b[2mtokenizers::tokenizer::serialization\u001b[0m\u001b[2m:\u001b[0m \u001b[2m/usr/local/cargo/registry/src/index.crates.io-6f17d22bba15001f/tokenizers-0.19.1/src/tokenizer/serialization.rs\u001b[0m\u001b[2m:\u001b[0m\u001b[2m159:\u001b[0m Warning: Token '<|reserved_special_token_34|>' was expected to have ID '128042' but was given ID 'None'    \n",
      "7g8mphx40a-algo-1-csk9y  | \u001b[2m2024-08-04T23:43:19.675545Z\u001b[0m \u001b[33m WARN\u001b[0m \u001b[2mtokenizers::tokenizer::serialization\u001b[0m\u001b[2m:\u001b[0m \u001b[2m/usr/local/cargo/registry/src/index.crates.io-6f17d22bba15001f/tokenizers-0.19.1/src/tokenizer/serialization.rs\u001b[0m\u001b[2m:\u001b[0m\u001b[2m159:\u001b[0m Warning: Token '<|reserved_special_token_35|>' was expected to have ID '128043' but was given ID 'None'    \n",
      "7g8mphx40a-algo-1-csk9y  | \u001b[2m2024-08-04T23:43:19.675547Z\u001b[0m \u001b[33m WARN\u001b[0m \u001b[2mtokenizers::tokenizer::serialization\u001b[0m\u001b[2m:\u001b[0m \u001b[2m/usr/local/cargo/registry/src/index.crates.io-6f17d22bba15001f/tokenizers-0.19.1/src/tokenizer/serialization.rs\u001b[0m\u001b[2m:\u001b[0m\u001b[2m159:\u001b[0m Warning: Token '<|reserved_special_token_36|>' was expected to have ID '128044' but was given ID 'None'    \n",
      "7g8mphx40a-algo-1-csk9y  | \u001b[2m2024-08-04T23:43:19.675550Z\u001b[0m \u001b[33m WARN\u001b[0m \u001b[2mtokenizers::tokenizer::serialization\u001b[0m\u001b[2m:\u001b[0m \u001b[2m/usr/local/cargo/registry/src/index.crates.io-6f17d22bba15001f/tokenizers-0.19.1/src/tokenizer/serialization.rs\u001b[0m\u001b[2m:\u001b[0m\u001b[2m159:\u001b[0m Warning: Token '<|reserved_special_token_37|>' was expected to have ID '128045' but was given ID 'None'    \n",
      "7g8mphx40a-algo-1-csk9y  | \u001b[2m2024-08-04T23:43:19.675553Z\u001b[0m \u001b[33m WARN\u001b[0m \u001b[2mtokenizers::tokenizer::serialization\u001b[0m\u001b[2m:\u001b[0m \u001b[2m/usr/local/cargo/registry/src/index.crates.io-6f17d22bba15001f/tokenizers-0.19.1/src/tokenizer/serialization.rs\u001b[0m\u001b[2m:\u001b[0m\u001b[2m159:\u001b[0m Warning: Token '<|reserved_special_token_38|>' was expected to have ID '128046' but was given ID 'None'    \n",
      "7g8mphx40a-algo-1-csk9y  | \u001b[2m2024-08-04T23:43:19.675555Z\u001b[0m \u001b[33m WARN\u001b[0m \u001b[2mtokenizers::tokenizer::serialization\u001b[0m\u001b[2m:\u001b[0m \u001b[2m/usr/local/cargo/registry/src/index.crates.io-6f17d22bba15001f/tokenizers-0.19.1/src/tokenizer/serialization.rs\u001b[0m\u001b[2m:\u001b[0m\u001b[2m159:\u001b[0m Warning: Token '<|reserved_special_token_39|>' was expected to have ID '128047' but was given ID 'None'    \n",
      "7g8mphx40a-algo-1-csk9y  | \u001b[2m2024-08-04T23:43:19.675558Z\u001b[0m \u001b[33m WARN\u001b[0m \u001b[2mtokenizers::tokenizer::serialization\u001b[0m\u001b[2m:\u001b[0m \u001b[2m/usr/local/cargo/registry/src/index.crates.io-6f17d22bba15001f/tokenizers-0.19.1/src/tokenizer/serialization.rs\u001b[0m\u001b[2m:\u001b[0m\u001b[2m159:\u001b[0m Warning: Token '<|reserved_special_token_40|>' was expected to have ID '128048' but was given ID 'None'    \n",
      "7g8mphx40a-algo-1-csk9y  | \u001b[2m2024-08-04T23:43:19.675560Z\u001b[0m \u001b[33m WARN\u001b[0m \u001b[2mtokenizers::tokenizer::serialization\u001b[0m\u001b[2m:\u001b[0m \u001b[2m/usr/local/cargo/registry/src/index.crates.io-6f17d22bba15001f/tokenizers-0.19.1/src/tokenizer/serialization.rs\u001b[0m\u001b[2m:\u001b[0m\u001b[2m159:\u001b[0m Warning: Token '<|reserved_special_token_41|>' was expected to have ID '128049' but was given ID 'None'    \n",
      "7g8mphx40a-algo-1-csk9y  | \u001b[2m2024-08-04T23:43:19.675563Z\u001b[0m \u001b[33m WARN\u001b[0m \u001b[2mtokenizers::tokenizer::serialization\u001b[0m\u001b[2m:\u001b[0m \u001b[2m/usr/local/cargo/registry/src/index.crates.io-6f17d22bba15001f/tokenizers-0.19.1/src/tokenizer/serialization.rs\u001b[0m\u001b[2m:\u001b[0m\u001b[2m159:\u001b[0m Warning: Token '<|reserved_special_token_42|>' was expected to have ID '128050' but was given ID 'None'    \n",
      "7g8mphx40a-algo-1-csk9y  | \u001b[2m2024-08-04T23:43:19.675565Z\u001b[0m \u001b[33m WARN\u001b[0m \u001b[2mtokenizers::tokenizer::serialization\u001b[0m\u001b[2m:\u001b[0m \u001b[2m/usr/local/cargo/registry/src/index.crates.io-6f17d22bba15001f/tokenizers-0.19.1/src/tokenizer/serialization.rs\u001b[0m\u001b[2m:\u001b[0m\u001b[2m159:\u001b[0m Warning: Token '<|reserved_special_token_43|>' was expected to have ID '128051' but was given ID 'None'    \n",
      "7g8mphx40a-algo-1-csk9y  | \u001b[2m2024-08-04T23:43:19.675567Z\u001b[0m \u001b[33m WARN\u001b[0m \u001b[2mtokenizers::tokenizer::serialization\u001b[0m\u001b[2m:\u001b[0m \u001b[2m/usr/local/cargo/registry/src/index.crates.io-6f17d22bba15001f/tokenizers-0.19.1/src/tokenizer/serialization.rs\u001b[0m\u001b[2m:\u001b[0m\u001b[2m159:\u001b[0m Warning: Token '<|reserved_special_token_44|>' was expected to have ID '128052' but was given ID 'None'    \n",
      "7g8mphx40a-algo-1-csk9y  | \u001b[2m2024-08-04T23:43:19.675570Z\u001b[0m \u001b[33m WARN\u001b[0m \u001b[2mtokenizers::tokenizer::serialization\u001b[0m\u001b[2m:\u001b[0m \u001b[2m/usr/local/cargo/registry/src/index.crates.io-6f17d22bba15001f/tokenizers-0.19.1/src/tokenizer/serialization.rs\u001b[0m\u001b[2m:\u001b[0m\u001b[2m159:\u001b[0m Warning: Token '<|reserved_special_token_45|>' was expected to have ID '128053' but was given ID 'None'    \n",
      "7g8mphx40a-algo-1-csk9y  | \u001b[2m2024-08-04T23:43:19.675572Z\u001b[0m \u001b[33m WARN\u001b[0m \u001b[2mtokenizers::tokenizer::serialization\u001b[0m\u001b[2m:\u001b[0m \u001b[2m/usr/local/cargo/registry/src/index.crates.io-6f17d22bba15001f/tokenizers-0.19.1/src/tokenizer/serialization.rs\u001b[0m\u001b[2m:\u001b[0m\u001b[2m159:\u001b[0m Warning: Token '<|reserved_special_token_46|>' was expected to have ID '128054' but was given ID 'None'    \n",
      "7g8mphx40a-algo-1-csk9y  | \u001b[2m2024-08-04T23:43:19.675576Z\u001b[0m \u001b[33m WARN\u001b[0m \u001b[2mtokenizers::tokenizer::serialization\u001b[0m\u001b[2m:\u001b[0m \u001b[2m/usr/local/cargo/registry/src/index.crates.io-6f17d22bba15001f/tokenizers-0.19.1/src/tokenizer/serialization.rs\u001b[0m\u001b[2m:\u001b[0m\u001b[2m159:\u001b[0m Warning: Token '<|reserved_special_token_47|>' was expected to have ID '128055' but was given ID 'None'    \n",
      "7g8mphx40a-algo-1-csk9y  | \u001b[2m2024-08-04T23:43:19.675578Z\u001b[0m \u001b[33m WARN\u001b[0m \u001b[2mtokenizers::tokenizer::serialization\u001b[0m\u001b[2m:\u001b[0m \u001b[2m/usr/local/cargo/registry/src/index.crates.io-6f17d22bba15001f/tokenizers-0.19.1/src/tokenizer/serialization.rs\u001b[0m\u001b[2m:\u001b[0m\u001b[2m159:\u001b[0m Warning: Token '<|reserved_special_token_48|>' was expected to have ID '128056' but was given ID 'None'    \n",
      "7g8mphx40a-algo-1-csk9y  | \u001b[2m2024-08-04T23:43:19.675581Z\u001b[0m \u001b[33m WARN\u001b[0m \u001b[2mtokenizers::tokenizer::serialization\u001b[0m\u001b[2m:\u001b[0m \u001b[2m/usr/local/cargo/registry/src/index.crates.io-6f17d22bba15001f/tokenizers-0.19.1/src/tokenizer/serialization.rs\u001b[0m\u001b[2m:\u001b[0m\u001b[2m159:\u001b[0m Warning: Token '<|reserved_special_token_49|>' was expected to have ID '128057' but was given ID 'None'    \n",
      "7g8mphx40a-algo-1-csk9y  | \u001b[2m2024-08-04T23:43:19.675583Z\u001b[0m \u001b[33m WARN\u001b[0m \u001b[2mtokenizers::tokenizer::serialization\u001b[0m\u001b[2m:\u001b[0m \u001b[2m/usr/local/cargo/registry/src/index.crates.io-6f17d22bba15001f/tokenizers-0.19.1/src/tokenizer/serialization.rs\u001b[0m\u001b[2m:\u001b[0m\u001b[2m159:\u001b[0m Warning: Token '<|reserved_special_token_50|>' was expected to have ID '128058' but was given ID 'None'    \n",
      "7g8mphx40a-algo-1-csk9y  | \u001b[2m2024-08-04T23:43:19.675586Z\u001b[0m \u001b[33m WARN\u001b[0m \u001b[2mtokenizers::tokenizer::serialization\u001b[0m\u001b[2m:\u001b[0m \u001b[2m/usr/local/cargo/registry/src/index.crates.io-6f17d22bba15001f/tokenizers-0.19.1/src/tokenizer/serialization.rs\u001b[0m\u001b[2m:\u001b[0m\u001b[2m159:\u001b[0m Warning: Token '<|reserved_special_token_51|>' was expected to have ID '128059' but was given ID 'None'    \n",
      "7g8mphx40a-algo-1-csk9y  | \u001b[2m2024-08-04T23:43:19.675588Z\u001b[0m \u001b[33m WARN\u001b[0m \u001b[2mtokenizers::tokenizer::serialization\u001b[0m\u001b[2m:\u001b[0m \u001b[2m/usr/local/cargo/registry/src/index.crates.io-6f17d22bba15001f/tokenizers-0.19.1/src/tokenizer/serialization.rs\u001b[0m\u001b[2m:\u001b[0m\u001b[2m159:\u001b[0m Warning: Token '<|reserved_special_token_52|>' was expected to have ID '128060' but was given ID 'None'    \n",
      "7g8mphx40a-algo-1-csk9y  | \u001b[2m2024-08-04T23:43:19.675591Z\u001b[0m \u001b[33m WARN\u001b[0m \u001b[2mtokenizers::tokenizer::serialization\u001b[0m\u001b[2m:\u001b[0m \u001b[2m/usr/local/cargo/registry/src/index.crates.io-6f17d22bba15001f/tokenizers-0.19.1/src/tokenizer/serialization.rs\u001b[0m\u001b[2m:\u001b[0m\u001b[2m159:\u001b[0m Warning: Token '<|reserved_special_token_53|>' was expected to have ID '128061' but was given ID 'None'    \n",
      "7g8mphx40a-algo-1-csk9y  | \u001b[2m2024-08-04T23:43:19.675593Z\u001b[0m \u001b[33m WARN\u001b[0m \u001b[2mtokenizers::tokenizer::serialization\u001b[0m\u001b[2m:\u001b[0m \u001b[2m/usr/local/cargo/registry/src/index.crates.io-6f17d22bba15001f/tokenizers-0.19.1/src/tokenizer/serialization.rs\u001b[0m\u001b[2m:\u001b[0m\u001b[2m159:\u001b[0m Warning: Token '<|reserved_special_token_54|>' was expected to have ID '128062' but was given ID 'None'    \n",
      "7g8mphx40a-algo-1-csk9y  | \u001b[2m2024-08-04T23:43:19.675596Z\u001b[0m \u001b[33m WARN\u001b[0m \u001b[2mtokenizers::tokenizer::serialization\u001b[0m\u001b[2m:\u001b[0m \u001b[2m/usr/local/cargo/registry/src/index.crates.io-6f17d22bba15001f/tokenizers-0.19.1/src/tokenizer/serialization.rs\u001b[0m\u001b[2m:\u001b[0m\u001b[2m159:\u001b[0m Warning: Token '<|reserved_special_token_55|>' was expected to have ID '128063' but was given ID 'None'    \n",
      "7g8mphx40a-algo-1-csk9y  | \u001b[2m2024-08-04T23:43:19.675598Z\u001b[0m \u001b[33m WARN\u001b[0m \u001b[2mtokenizers::tokenizer::serialization\u001b[0m\u001b[2m:\u001b[0m \u001b[2m/usr/local/cargo/registry/src/index.crates.io-6f17d22bba15001f/tokenizers-0.19.1/src/tokenizer/serialization.rs\u001b[0m\u001b[2m:\u001b[0m\u001b[2m159:\u001b[0m Warning: Token '<|reserved_special_token_56|>' was expected to have ID '128064' but was given ID 'None'    \n",
      "7g8mphx40a-algo-1-csk9y  | \u001b[2m2024-08-04T23:43:19.675601Z\u001b[0m \u001b[33m WARN\u001b[0m \u001b[2mtokenizers::tokenizer::serialization\u001b[0m\u001b[2m:\u001b[0m \u001b[2m/usr/local/cargo/registry/src/index.crates.io-6f17d22bba15001f/tokenizers-0.19.1/src/tokenizer/serialization.rs\u001b[0m\u001b[2m:\u001b[0m\u001b[2m159:\u001b[0m Warning: Token '<|reserved_special_token_57|>' was expected to have ID '128065' but was given ID 'None'    \n",
      "7g8mphx40a-algo-1-csk9y  | \u001b[2m2024-08-04T23:43:19.675603Z\u001b[0m \u001b[33m WARN\u001b[0m \u001b[2mtokenizers::tokenizer::serialization\u001b[0m\u001b[2m:\u001b[0m \u001b[2m/usr/local/cargo/registry/src/index.crates.io-6f17d22bba15001f/tokenizers-0.19.1/src/tokenizer/serialization.rs\u001b[0m\u001b[2m:\u001b[0m\u001b[2m159:\u001b[0m Warning: Token '<|reserved_special_token_58|>' was expected to have ID '128066' but was given ID 'None'    \n",
      "7g8mphx40a-algo-1-csk9y  | \u001b[2m2024-08-04T23:43:19.675606Z\u001b[0m \u001b[33m WARN\u001b[0m \u001b[2mtokenizers::tokenizer::serialization\u001b[0m\u001b[2m:\u001b[0m \u001b[2m/usr/local/cargo/registry/src/index.crates.io-6f17d22bba15001f/tokenizers-0.19.1/src/tokenizer/serialization.rs\u001b[0m\u001b[2m:\u001b[0m\u001b[2m159:\u001b[0m Warning: Token '<|reserved_special_token_59|>' was expected to have ID '128067' but was given ID 'None'    \n",
      "7g8mphx40a-algo-1-csk9y  | \u001b[2m2024-08-04T23:43:19.675609Z\u001b[0m \u001b[33m WARN\u001b[0m \u001b[2mtokenizers::tokenizer::serialization\u001b[0m\u001b[2m:\u001b[0m \u001b[2m/usr/local/cargo/registry/src/index.crates.io-6f17d22bba15001f/tokenizers-0.19.1/src/tokenizer/serialization.rs\u001b[0m\u001b[2m:\u001b[0m\u001b[2m159:\u001b[0m Warning: Token '<|reserved_special_token_60|>' was expected to have ID '128068' but was given ID 'None'    \n",
      "7g8mphx40a-algo-1-csk9y  | \u001b[2m2024-08-04T23:43:19.675611Z\u001b[0m \u001b[33m WARN\u001b[0m \u001b[2mtokenizers::tokenizer::serialization\u001b[0m\u001b[2m:\u001b[0m \u001b[2m/usr/local/cargo/registry/src/index.crates.io-6f17d22bba15001f/tokenizers-0.19.1/src/tokenizer/serialization.rs\u001b[0m\u001b[2m:\u001b[0m\u001b[2m159:\u001b[0m Warning: Token '<|reserved_special_token_61|>' was expected to have ID '128069' but was given ID 'None'    \n",
      "7g8mphx40a-algo-1-csk9y  | \u001b[2m2024-08-04T23:43:19.675614Z\u001b[0m \u001b[33m WARN\u001b[0m \u001b[2mtokenizers::tokenizer::serialization\u001b[0m\u001b[2m:\u001b[0m \u001b[2m/usr/local/cargo/registry/src/index.crates.io-6f17d22bba15001f/tokenizers-0.19.1/src/tokenizer/serialization.rs\u001b[0m\u001b[2m:\u001b[0m\u001b[2m159:\u001b[0m Warning: Token '<|reserved_special_token_62|>' was expected to have ID '128070' but was given ID 'None'    \n",
      "7g8mphx40a-algo-1-csk9y  | \u001b[2m2024-08-04T23:43:19.675616Z\u001b[0m \u001b[33m WARN\u001b[0m \u001b[2mtokenizers::tokenizer::serialization\u001b[0m\u001b[2m:\u001b[0m \u001b[2m/usr/local/cargo/registry/src/index.crates.io-6f17d22bba15001f/tokenizers-0.19.1/src/tokenizer/serialization.rs\u001b[0m\u001b[2m:\u001b[0m\u001b[2m159:\u001b[0m Warning: Token '<|reserved_special_token_63|>' was expected to have ID '128071' but was given ID 'None'    \n",
      "7g8mphx40a-algo-1-csk9y  | \u001b[2m2024-08-04T23:43:19.675619Z\u001b[0m \u001b[33m WARN\u001b[0m \u001b[2mtokenizers::tokenizer::serialization\u001b[0m\u001b[2m:\u001b[0m \u001b[2m/usr/local/cargo/registry/src/index.crates.io-6f17d22bba15001f/tokenizers-0.19.1/src/tokenizer/serialization.rs\u001b[0m\u001b[2m:\u001b[0m\u001b[2m159:\u001b[0m Warning: Token '<|reserved_special_token_64|>' was expected to have ID '128072' but was given ID 'None'    \n",
      "7g8mphx40a-algo-1-csk9y  | \u001b[2m2024-08-04T23:43:19.675621Z\u001b[0m \u001b[33m WARN\u001b[0m \u001b[2mtokenizers::tokenizer::serialization\u001b[0m\u001b[2m:\u001b[0m \u001b[2m/usr/local/cargo/registry/src/index.crates.io-6f17d22bba15001f/tokenizers-0.19.1/src/tokenizer/serialization.rs\u001b[0m\u001b[2m:\u001b[0m\u001b[2m159:\u001b[0m Warning: Token '<|reserved_special_token_65|>' was expected to have ID '128073' but was given ID 'None'    \n",
      "7g8mphx40a-algo-1-csk9y  | \u001b[2m2024-08-04T23:43:19.675624Z\u001b[0m \u001b[33m WARN\u001b[0m \u001b[2mtokenizers::tokenizer::serialization\u001b[0m\u001b[2m:\u001b[0m \u001b[2m/usr/local/cargo/registry/src/index.crates.io-6f17d22bba15001f/tokenizers-0.19.1/src/tokenizer/serialization.rs\u001b[0m\u001b[2m:\u001b[0m\u001b[2m159:\u001b[0m Warning: Token '<|reserved_special_token_66|>' was expected to have ID '128074' but was given ID 'None'    \n",
      "7g8mphx40a-algo-1-csk9y  | \u001b[2m2024-08-04T23:43:19.675626Z\u001b[0m \u001b[33m WARN\u001b[0m \u001b[2mtokenizers::tokenizer::serialization\u001b[0m\u001b[2m:\u001b[0m \u001b[2m/usr/local/cargo/registry/src/index.crates.io-6f17d22bba15001f/tokenizers-0.19.1/src/tokenizer/serialization.rs\u001b[0m\u001b[2m:\u001b[0m\u001b[2m159:\u001b[0m Warning: Token '<|reserved_special_token_67|>' was expected to have ID '128075' but was given ID 'None'    \n",
      "7g8mphx40a-algo-1-csk9y  | \u001b[2m2024-08-04T23:43:19.675629Z\u001b[0m \u001b[33m WARN\u001b[0m \u001b[2mtokenizers::tokenizer::serialization\u001b[0m\u001b[2m:\u001b[0m \u001b[2m/usr/local/cargo/registry/src/index.crates.io-6f17d22bba15001f/tokenizers-0.19.1/src/tokenizer/serialization.rs\u001b[0m\u001b[2m:\u001b[0m\u001b[2m159:\u001b[0m Warning: Token '<|reserved_special_token_68|>' was expected to have ID '128076' but was given ID 'None'    \n",
      "7g8mphx40a-algo-1-csk9y  | \u001b[2m2024-08-04T23:43:19.675631Z\u001b[0m \u001b[33m WARN\u001b[0m \u001b[2mtokenizers::tokenizer::serialization\u001b[0m\u001b[2m:\u001b[0m \u001b[2m/usr/local/cargo/registry/src/index.crates.io-6f17d22bba15001f/tokenizers-0.19.1/src/tokenizer/serialization.rs\u001b[0m\u001b[2m:\u001b[0m\u001b[2m159:\u001b[0m Warning: Token '<|reserved_special_token_69|>' was expected to have ID '128077' but was given ID 'None'    \n",
      "7g8mphx40a-algo-1-csk9y  | \u001b[2m2024-08-04T23:43:19.675636Z\u001b[0m \u001b[33m WARN\u001b[0m \u001b[2mtokenizers::tokenizer::serialization\u001b[0m\u001b[2m:\u001b[0m \u001b[2m/usr/local/cargo/registry/src/index.crates.io-6f17d22bba15001f/tokenizers-0.19.1/src/tokenizer/serialization.rs\u001b[0m\u001b[2m:\u001b[0m\u001b[2m159:\u001b[0m Warning: Token '<|reserved_special_token_70|>' was expected to have ID '128078' but was given ID 'None'    \n",
      "7g8mphx40a-algo-1-csk9y  | \u001b[2m2024-08-04T23:43:19.675639Z\u001b[0m \u001b[33m WARN\u001b[0m \u001b[2mtokenizers::tokenizer::serialization\u001b[0m\u001b[2m:\u001b[0m \u001b[2m/usr/local/cargo/registry/src/index.crates.io-6f17d22bba15001f/tokenizers-0.19.1/src/tokenizer/serialization.rs\u001b[0m\u001b[2m:\u001b[0m\u001b[2m159:\u001b[0m Warning: Token '<|reserved_special_token_71|>' was expected to have ID '128079' but was given ID 'None'    \n",
      "7g8mphx40a-algo-1-csk9y  | \u001b[2m2024-08-04T23:43:19.675641Z\u001b[0m \u001b[33m WARN\u001b[0m \u001b[2mtokenizers::tokenizer::serialization\u001b[0m\u001b[2m:\u001b[0m \u001b[2m/usr/local/cargo/registry/src/index.crates.io-6f17d22bba15001f/tokenizers-0.19.1/src/tokenizer/serialization.rs\u001b[0m\u001b[2m:\u001b[0m\u001b[2m159:\u001b[0m Warning: Token '<|reserved_special_token_72|>' was expected to have ID '128080' but was given ID 'None'    \n",
      "7g8mphx40a-algo-1-csk9y  | \u001b[2m2024-08-04T23:43:19.675644Z\u001b[0m \u001b[33m WARN\u001b[0m \u001b[2mtokenizers::tokenizer::serialization\u001b[0m\u001b[2m:\u001b[0m \u001b[2m/usr/local/cargo/registry/src/index.crates.io-6f17d22bba15001f/tokenizers-0.19.1/src/tokenizer/serialization.rs\u001b[0m\u001b[2m:\u001b[0m\u001b[2m159:\u001b[0m Warning: Token '<|reserved_special_token_73|>' was expected to have ID '128081' but was given ID 'None'    \n",
      "7g8mphx40a-algo-1-csk9y  | \u001b[2m2024-08-04T23:43:19.675646Z\u001b[0m \u001b[33m WARN\u001b[0m \u001b[2mtokenizers::tokenizer::serialization\u001b[0m\u001b[2m:\u001b[0m \u001b[2m/usr/local/cargo/registry/src/index.crates.io-6f17d22bba15001f/tokenizers-0.19.1/src/tokenizer/serialization.rs\u001b[0m\u001b[2m:\u001b[0m\u001b[2m159:\u001b[0m Warning: Token '<|reserved_special_token_74|>' was expected to have ID '128082' but was given ID 'None'    \n",
      "7g8mphx40a-algo-1-csk9y  | \u001b[2m2024-08-04T23:43:19.675649Z\u001b[0m \u001b[33m WARN\u001b[0m \u001b[2mtokenizers::tokenizer::serialization\u001b[0m\u001b[2m:\u001b[0m \u001b[2m/usr/local/cargo/registry/src/index.crates.io-6f17d22bba15001f/tokenizers-0.19.1/src/tokenizer/serialization.rs\u001b[0m\u001b[2m:\u001b[0m\u001b[2m159:\u001b[0m Warning: Token '<|reserved_special_token_75|>' was expected to have ID '128083' but was given ID 'None'    \n",
      "7g8mphx40a-algo-1-csk9y  | \u001b[2m2024-08-04T23:43:19.675651Z\u001b[0m \u001b[33m WARN\u001b[0m \u001b[2mtokenizers::tokenizer::serialization\u001b[0m\u001b[2m:\u001b[0m \u001b[2m/usr/local/cargo/registry/src/index.crates.io-6f17d22bba15001f/tokenizers-0.19.1/src/tokenizer/serialization.rs\u001b[0m\u001b[2m:\u001b[0m\u001b[2m159:\u001b[0m Warning: Token '<|reserved_special_token_76|>' was expected to have ID '128084' but was given ID 'None'    \n",
      "7g8mphx40a-algo-1-csk9y  | \u001b[2m2024-08-04T23:43:19.675653Z\u001b[0m \u001b[33m WARN\u001b[0m \u001b[2mtokenizers::tokenizer::serialization\u001b[0m\u001b[2m:\u001b[0m \u001b[2m/usr/local/cargo/registry/src/index.crates.io-6f17d22bba15001f/tokenizers-0.19.1/src/tokenizer/serialization.rs\u001b[0m\u001b[2m:\u001b[0m\u001b[2m159:\u001b[0m Warning: Token '<|reserved_special_token_77|>' was expected to have ID '128085' but was given ID 'None'    \n",
      "7g8mphx40a-algo-1-csk9y  | \u001b[2m2024-08-04T23:43:19.675656Z\u001b[0m \u001b[33m WARN\u001b[0m \u001b[2mtokenizers::tokenizer::serialization\u001b[0m\u001b[2m:\u001b[0m \u001b[2m/usr/local/cargo/registry/src/index.crates.io-6f17d22bba15001f/tokenizers-0.19.1/src/tokenizer/serialization.rs\u001b[0m\u001b[2m:\u001b[0m\u001b[2m159:\u001b[0m Warning: Token '<|reserved_special_token_78|>' was expected to have ID '128086' but was given ID 'None'    \n",
      "7g8mphx40a-algo-1-csk9y  | \u001b[2m2024-08-04T23:43:19.675659Z\u001b[0m \u001b[33m WARN\u001b[0m \u001b[2mtokenizers::tokenizer::serialization\u001b[0m\u001b[2m:\u001b[0m \u001b[2m/usr/local/cargo/registry/src/index.crates.io-6f17d22bba15001f/tokenizers-0.19.1/src/tokenizer/serialization.rs\u001b[0m\u001b[2m:\u001b[0m\u001b[2m159:\u001b[0m Warning: Token '<|reserved_special_token_79|>' was expected to have ID '128087' but was given ID 'None'    \n",
      "7g8mphx40a-algo-1-csk9y  | \u001b[2m2024-08-04T23:43:19.675661Z\u001b[0m \u001b[33m WARN\u001b[0m \u001b[2mtokenizers::tokenizer::serialization\u001b[0m\u001b[2m:\u001b[0m \u001b[2m/usr/local/cargo/registry/src/index.crates.io-6f17d22bba15001f/tokenizers-0.19.1/src/tokenizer/serialization.rs\u001b[0m\u001b[2m:\u001b[0m\u001b[2m159:\u001b[0m Warning: Token '<|reserved_special_token_80|>' was expected to have ID '128088' but was given ID 'None'    \n",
      "7g8mphx40a-algo-1-csk9y  | \u001b[2m2024-08-04T23:43:19.675664Z\u001b[0m \u001b[33m WARN\u001b[0m \u001b[2mtokenizers::tokenizer::serialization\u001b[0m\u001b[2m:\u001b[0m \u001b[2m/usr/local/cargo/registry/src/index.crates.io-6f17d22bba15001f/tokenizers-0.19.1/src/tokenizer/serialization.rs\u001b[0m\u001b[2m:\u001b[0m\u001b[2m159:\u001b[0m Warning: Token '<|reserved_special_token_81|>' was expected to have ID '128089' but was given ID 'None'    \n",
      "7g8mphx40a-algo-1-csk9y  | \u001b[2m2024-08-04T23:43:19.675667Z\u001b[0m \u001b[33m WARN\u001b[0m \u001b[2mtokenizers::tokenizer::serialization\u001b[0m\u001b[2m:\u001b[0m \u001b[2m/usr/local/cargo/registry/src/index.crates.io-6f17d22bba15001f/tokenizers-0.19.1/src/tokenizer/serialization.rs\u001b[0m\u001b[2m:\u001b[0m\u001b[2m159:\u001b[0m Warning: Token '<|reserved_special_token_82|>' was expected to have ID '128090' but was given ID 'None'    \n",
      "7g8mphx40a-algo-1-csk9y  | \u001b[2m2024-08-04T23:43:19.675669Z\u001b[0m \u001b[33m WARN\u001b[0m \u001b[2mtokenizers::tokenizer::serialization\u001b[0m\u001b[2m:\u001b[0m \u001b[2m/usr/local/cargo/registry/src/index.crates.io-6f17d22bba15001f/tokenizers-0.19.1/src/tokenizer/serialization.rs\u001b[0m\u001b[2m:\u001b[0m\u001b[2m159:\u001b[0m Warning: Token '<|reserved_special_token_83|>' was expected to have ID '128091' but was given ID 'None'    \n",
      "7g8mphx40a-algo-1-csk9y  | \u001b[2m2024-08-04T23:43:19.675671Z\u001b[0m \u001b[33m WARN\u001b[0m \u001b[2mtokenizers::tokenizer::serialization\u001b[0m\u001b[2m:\u001b[0m \u001b[2m/usr/local/cargo/registry/src/index.crates.io-6f17d22bba15001f/tokenizers-0.19.1/src/tokenizer/serialization.rs\u001b[0m\u001b[2m:\u001b[0m\u001b[2m159:\u001b[0m Warning: Token '<|reserved_special_token_84|>' was expected to have ID '128092' but was given ID 'None'    \n",
      "7g8mphx40a-algo-1-csk9y  | \u001b[2m2024-08-04T23:43:19.675674Z\u001b[0m \u001b[33m WARN\u001b[0m \u001b[2mtokenizers::tokenizer::serialization\u001b[0m\u001b[2m:\u001b[0m \u001b[2m/usr/local/cargo/registry/src/index.crates.io-6f17d22bba15001f/tokenizers-0.19.1/src/tokenizer/serialization.rs\u001b[0m\u001b[2m:\u001b[0m\u001b[2m159:\u001b[0m Warning: Token '<|reserved_special_token_85|>' was expected to have ID '128093' but was given ID 'None'    \n",
      "7g8mphx40a-algo-1-csk9y  | \u001b[2m2024-08-04T23:43:19.675677Z\u001b[0m \u001b[33m WARN\u001b[0m \u001b[2mtokenizers::tokenizer::serialization\u001b[0m\u001b[2m:\u001b[0m \u001b[2m/usr/local/cargo/registry/src/index.crates.io-6f17d22bba15001f/tokenizers-0.19.1/src/tokenizer/serialization.rs\u001b[0m\u001b[2m:\u001b[0m\u001b[2m159:\u001b[0m Warning: Token '<|reserved_special_token_86|>' was expected to have ID '128094' but was given ID 'None'    \n",
      "7g8mphx40a-algo-1-csk9y  | \u001b[2m2024-08-04T23:43:19.675679Z\u001b[0m \u001b[33m WARN\u001b[0m \u001b[2mtokenizers::tokenizer::serialization\u001b[0m\u001b[2m:\u001b[0m \u001b[2m/usr/local/cargo/registry/src/index.crates.io-6f17d22bba15001f/tokenizers-0.19.1/src/tokenizer/serialization.rs\u001b[0m\u001b[2m:\u001b[0m\u001b[2m159:\u001b[0m Warning: Token '<|reserved_special_token_87|>' was expected to have ID '128095' but was given ID 'None'    \n",
      "7g8mphx40a-algo-1-csk9y  | \u001b[2m2024-08-04T23:43:19.675682Z\u001b[0m \u001b[33m WARN\u001b[0m \u001b[2mtokenizers::tokenizer::serialization\u001b[0m\u001b[2m:\u001b[0m \u001b[2m/usr/local/cargo/registry/src/index.crates.io-6f17d22bba15001f/tokenizers-0.19.1/src/tokenizer/serialization.rs\u001b[0m\u001b[2m:\u001b[0m\u001b[2m159:\u001b[0m Warning: Token '<|reserved_special_token_88|>' was expected to have ID '128096' but was given ID 'None'    \n",
      "7g8mphx40a-algo-1-csk9y  | \u001b[2m2024-08-04T23:43:19.675684Z\u001b[0m \u001b[33m WARN\u001b[0m \u001b[2mtokenizers::tokenizer::serialization\u001b[0m\u001b[2m:\u001b[0m \u001b[2m/usr/local/cargo/registry/src/index.crates.io-6f17d22bba15001f/tokenizers-0.19.1/src/tokenizer/serialization.rs\u001b[0m\u001b[2m:\u001b[0m\u001b[2m159:\u001b[0m Warning: Token '<|reserved_special_token_89|>' was expected to have ID '128097' but was given ID 'None'    \n",
      "7g8mphx40a-algo-1-csk9y  | \u001b[2m2024-08-04T23:43:19.675687Z\u001b[0m \u001b[33m WARN\u001b[0m \u001b[2mtokenizers::tokenizer::serialization\u001b[0m\u001b[2m:\u001b[0m \u001b[2m/usr/local/cargo/registry/src/index.crates.io-6f17d22bba15001f/tokenizers-0.19.1/src/tokenizer/serialization.rs\u001b[0m\u001b[2m:\u001b[0m\u001b[2m159:\u001b[0m Warning: Token '<|reserved_special_token_90|>' was expected to have ID '128098' but was given ID 'None'    \n",
      "7g8mphx40a-algo-1-csk9y  | \u001b[2m2024-08-04T23:43:19.675689Z\u001b[0m \u001b[33m WARN\u001b[0m \u001b[2mtokenizers::tokenizer::serialization\u001b[0m\u001b[2m:\u001b[0m \u001b[2m/usr/local/cargo/registry/src/index.crates.io-6f17d22bba15001f/tokenizers-0.19.1/src/tokenizer/serialization.rs\u001b[0m\u001b[2m:\u001b[0m\u001b[2m159:\u001b[0m Warning: Token '<|reserved_special_token_91|>' was expected to have ID '128099' but was given ID 'None'    \n",
      "7g8mphx40a-algo-1-csk9y  | \u001b[2m2024-08-04T23:43:19.675692Z\u001b[0m \u001b[33m WARN\u001b[0m \u001b[2mtokenizers::tokenizer::serialization\u001b[0m\u001b[2m:\u001b[0m \u001b[2m/usr/local/cargo/registry/src/index.crates.io-6f17d22bba15001f/tokenizers-0.19.1/src/tokenizer/serialization.rs\u001b[0m\u001b[2m:\u001b[0m\u001b[2m159:\u001b[0m Warning: Token '<|reserved_special_token_92|>' was expected to have ID '128100' but was given ID 'None'    \n",
      "7g8mphx40a-algo-1-csk9y  | \u001b[2m2024-08-04T23:43:19.675694Z\u001b[0m \u001b[33m WARN\u001b[0m \u001b[2mtokenizers::tokenizer::serialization\u001b[0m\u001b[2m:\u001b[0m \u001b[2m/usr/local/cargo/registry/src/index.crates.io-6f17d22bba15001f/tokenizers-0.19.1/src/tokenizer/serialization.rs\u001b[0m\u001b[2m:\u001b[0m\u001b[2m159:\u001b[0m Warning: Token '<|reserved_special_token_93|>' was expected to have ID '128101' but was given ID 'None'    \n",
      "7g8mphx40a-algo-1-csk9y  | \u001b[2m2024-08-04T23:43:19.675697Z\u001b[0m \u001b[33m WARN\u001b[0m \u001b[2mtokenizers::tokenizer::serialization\u001b[0m\u001b[2m:\u001b[0m \u001b[2m/usr/local/cargo/registry/src/index.crates.io-6f17d22bba15001f/tokenizers-0.19.1/src/tokenizer/serialization.rs\u001b[0m\u001b[2m:\u001b[0m\u001b[2m159:\u001b[0m Warning: Token '<|reserved_special_token_94|>' was expected to have ID '128102' but was given ID 'None'    \n",
      "7g8mphx40a-algo-1-csk9y  | \u001b[2m2024-08-04T23:43:19.675699Z\u001b[0m \u001b[33m WARN\u001b[0m \u001b[2mtokenizers::tokenizer::serialization\u001b[0m\u001b[2m:\u001b[0m \u001b[2m/usr/local/cargo/registry/src/index.crates.io-6f17d22bba15001f/tokenizers-0.19.1/src/tokenizer/serialization.rs\u001b[0m\u001b[2m:\u001b[0m\u001b[2m159:\u001b[0m Warning: Token '<|reserved_special_token_95|>' was expected to have ID '128103' but was given ID 'None'    \n",
      "7g8mphx40a-algo-1-csk9y  | \u001b[2m2024-08-04T23:43:19.675702Z\u001b[0m \u001b[33m WARN\u001b[0m \u001b[2mtokenizers::tokenizer::serialization\u001b[0m\u001b[2m:\u001b[0m \u001b[2m/usr/local/cargo/registry/src/index.crates.io-6f17d22bba15001f/tokenizers-0.19.1/src/tokenizer/serialization.rs\u001b[0m\u001b[2m:\u001b[0m\u001b[2m159:\u001b[0m Warning: Token '<|reserved_special_token_96|>' was expected to have ID '128104' but was given ID 'None'    \n",
      "7g8mphx40a-algo-1-csk9y  | \u001b[2m2024-08-04T23:43:19.675704Z\u001b[0m \u001b[33m WARN\u001b[0m \u001b[2mtokenizers::tokenizer::serialization\u001b[0m\u001b[2m:\u001b[0m \u001b[2m/usr/local/cargo/registry/src/index.crates.io-6f17d22bba15001f/tokenizers-0.19.1/src/tokenizer/serialization.rs\u001b[0m\u001b[2m:\u001b[0m\u001b[2m159:\u001b[0m Warning: Token '<|reserved_special_token_97|>' was expected to have ID '128105' but was given ID 'None'    \n",
      "7g8mphx40a-algo-1-csk9y  | \u001b[2m2024-08-04T23:43:19.675707Z\u001b[0m \u001b[33m WARN\u001b[0m \u001b[2mtokenizers::tokenizer::serialization\u001b[0m\u001b[2m:\u001b[0m \u001b[2m/usr/local/cargo/registry/src/index.crates.io-6f17d22bba15001f/tokenizers-0.19.1/src/tokenizer/serialization.rs\u001b[0m\u001b[2m:\u001b[0m\u001b[2m159:\u001b[0m Warning: Token '<|reserved_special_token_98|>' was expected to have ID '128106' but was given ID 'None'    \n",
      "7g8mphx40a-algo-1-csk9y  | \u001b[2m2024-08-04T23:43:19.675709Z\u001b[0m \u001b[33m WARN\u001b[0m \u001b[2mtokenizers::tokenizer::serialization\u001b[0m\u001b[2m:\u001b[0m \u001b[2m/usr/local/cargo/registry/src/index.crates.io-6f17d22bba15001f/tokenizers-0.19.1/src/tokenizer/serialization.rs\u001b[0m\u001b[2m:\u001b[0m\u001b[2m159:\u001b[0m Warning: Token '<|reserved_special_token_99|>' was expected to have ID '128107' but was given ID 'None'    \n",
      "7g8mphx40a-algo-1-csk9y  | \u001b[2m2024-08-04T23:43:19.675712Z\u001b[0m \u001b[33m WARN\u001b[0m \u001b[2mtokenizers::tokenizer::serialization\u001b[0m\u001b[2m:\u001b[0m \u001b[2m/usr/local/cargo/registry/src/index.crates.io-6f17d22bba15001f/tokenizers-0.19.1/src/tokenizer/serialization.rs\u001b[0m\u001b[2m:\u001b[0m\u001b[2m159:\u001b[0m Warning: Token '<|reserved_special_token_100|>' was expected to have ID '128108' but was given ID 'None'    \n",
      "7g8mphx40a-algo-1-csk9y  | \u001b[2m2024-08-04T23:43:19.675714Z\u001b[0m \u001b[33m WARN\u001b[0m \u001b[2mtokenizers::tokenizer::serialization\u001b[0m\u001b[2m:\u001b[0m \u001b[2m/usr/local/cargo/registry/src/index.crates.io-6f17d22bba15001f/tokenizers-0.19.1/src/tokenizer/serialization.rs\u001b[0m\u001b[2m:\u001b[0m\u001b[2m159:\u001b[0m Warning: Token '<|reserved_special_token_101|>' was expected to have ID '128109' but was given ID 'None'    \n",
      "7g8mphx40a-algo-1-csk9y  | \u001b[2m2024-08-04T23:43:19.675717Z\u001b[0m \u001b[33m WARN\u001b[0m \u001b[2mtokenizers::tokenizer::serialization\u001b[0m\u001b[2m:\u001b[0m \u001b[2m/usr/local/cargo/registry/src/index.crates.io-6f17d22bba15001f/tokenizers-0.19.1/src/tokenizer/serialization.rs\u001b[0m\u001b[2m:\u001b[0m\u001b[2m159:\u001b[0m Warning: Token '<|reserved_special_token_102|>' was expected to have ID '128110' but was given ID 'None'    \n",
      "7g8mphx40a-algo-1-csk9y  | \u001b[2m2024-08-04T23:43:19.675720Z\u001b[0m \u001b[33m WARN\u001b[0m \u001b[2mtokenizers::tokenizer::serialization\u001b[0m\u001b[2m:\u001b[0m \u001b[2m/usr/local/cargo/registry/src/index.crates.io-6f17d22bba15001f/tokenizers-0.19.1/src/tokenizer/serialization.rs\u001b[0m\u001b[2m:\u001b[0m\u001b[2m159:\u001b[0m Warning: Token '<|reserved_special_token_103|>' was expected to have ID '128111' but was given ID 'None'    \n",
      "7g8mphx40a-algo-1-csk9y  | \u001b[2m2024-08-04T23:43:19.675722Z\u001b[0m \u001b[33m WARN\u001b[0m \u001b[2mtokenizers::tokenizer::serialization\u001b[0m\u001b[2m:\u001b[0m \u001b[2m/usr/local/cargo/registry/src/index.crates.io-6f17d22bba15001f/tokenizers-0.19.1/src/tokenizer/serialization.rs\u001b[0m\u001b[2m:\u001b[0m\u001b[2m159:\u001b[0m Warning: Token '<|reserved_special_token_104|>' was expected to have ID '128112' but was given ID 'None'    \n",
      "7g8mphx40a-algo-1-csk9y  | \u001b[2m2024-08-04T23:43:19.675725Z\u001b[0m \u001b[33m WARN\u001b[0m \u001b[2mtokenizers::tokenizer::serialization\u001b[0m\u001b[2m:\u001b[0m \u001b[2m/usr/local/cargo/registry/src/index.crates.io-6f17d22bba15001f/tokenizers-0.19.1/src/tokenizer/serialization.rs\u001b[0m\u001b[2m:\u001b[0m\u001b[2m159:\u001b[0m Warning: Token '<|reserved_special_token_105|>' was expected to have ID '128113' but was given ID 'None'    \n",
      "7g8mphx40a-algo-1-csk9y  | \u001b[2m2024-08-04T23:43:19.675727Z\u001b[0m \u001b[33m WARN\u001b[0m \u001b[2mtokenizers::tokenizer::serialization\u001b[0m\u001b[2m:\u001b[0m \u001b[2m/usr/local/cargo/registry/src/index.crates.io-6f17d22bba15001f/tokenizers-0.19.1/src/tokenizer/serialization.rs\u001b[0m\u001b[2m:\u001b[0m\u001b[2m159:\u001b[0m Warning: Token '<|reserved_special_token_106|>' was expected to have ID '128114' but was given ID 'None'    \n",
      "7g8mphx40a-algo-1-csk9y  | \u001b[2m2024-08-04T23:43:19.675729Z\u001b[0m \u001b[33m WARN\u001b[0m \u001b[2mtokenizers::tokenizer::serialization\u001b[0m\u001b[2m:\u001b[0m \u001b[2m/usr/local/cargo/registry/src/index.crates.io-6f17d22bba15001f/tokenizers-0.19.1/src/tokenizer/serialization.rs\u001b[0m\u001b[2m:\u001b[0m\u001b[2m159:\u001b[0m Warning: Token '<|reserved_special_token_107|>' was expected to have ID '128115' but was given ID 'None'    \n",
      "7g8mphx40a-algo-1-csk9y  | \u001b[2m2024-08-04T23:43:19.675732Z\u001b[0m \u001b[33m WARN\u001b[0m \u001b[2mtokenizers::tokenizer::serialization\u001b[0m\u001b[2m:\u001b[0m \u001b[2m/usr/local/cargo/registry/src/index.crates.io-6f17d22bba15001f/tokenizers-0.19.1/src/tokenizer/serialization.rs\u001b[0m\u001b[2m:\u001b[0m\u001b[2m159:\u001b[0m Warning: Token '<|reserved_special_token_108|>' was expected to have ID '128116' but was given ID 'None'    \n",
      "7g8mphx40a-algo-1-csk9y  | \u001b[2m2024-08-04T23:43:19.675734Z\u001b[0m \u001b[33m WARN\u001b[0m \u001b[2mtokenizers::tokenizer::serialization\u001b[0m\u001b[2m:\u001b[0m \u001b[2m/usr/local/cargo/registry/src/index.crates.io-6f17d22bba15001f/tokenizers-0.19.1/src/tokenizer/serialization.rs\u001b[0m\u001b[2m:\u001b[0m\u001b[2m159:\u001b[0m Warning: Token '<|reserved_special_token_109|>' was expected to have ID '128117' but was given ID 'None'    \n",
      "7g8mphx40a-algo-1-csk9y  | \u001b[2m2024-08-04T23:43:19.675737Z\u001b[0m \u001b[33m WARN\u001b[0m \u001b[2mtokenizers::tokenizer::serialization\u001b[0m\u001b[2m:\u001b[0m \u001b[2m/usr/local/cargo/registry/src/index.crates.io-6f17d22bba15001f/tokenizers-0.19.1/src/tokenizer/serialization.rs\u001b[0m\u001b[2m:\u001b[0m\u001b[2m159:\u001b[0m Warning: Token '<|reserved_special_token_110|>' was expected to have ID '128118' but was given ID 'None'    \n",
      "7g8mphx40a-algo-1-csk9y  | \u001b[2m2024-08-04T23:43:19.675739Z\u001b[0m \u001b[33m WARN\u001b[0m \u001b[2mtokenizers::tokenizer::serialization\u001b[0m\u001b[2m:\u001b[0m \u001b[2m/usr/local/cargo/registry/src/index.crates.io-6f17d22bba15001f/tokenizers-0.19.1/src/tokenizer/serialization.rs\u001b[0m\u001b[2m:\u001b[0m\u001b[2m159:\u001b[0m Warning: Token '<|reserved_special_token_111|>' was expected to have ID '128119' but was given ID 'None'    \n",
      "7g8mphx40a-algo-1-csk9y  | \u001b[2m2024-08-04T23:43:19.675742Z\u001b[0m \u001b[33m WARN\u001b[0m \u001b[2mtokenizers::tokenizer::serialization\u001b[0m\u001b[2m:\u001b[0m \u001b[2m/usr/local/cargo/registry/src/index.crates.io-6f17d22bba15001f/tokenizers-0.19.1/src/tokenizer/serialization.rs\u001b[0m\u001b[2m:\u001b[0m\u001b[2m159:\u001b[0m Warning: Token '<|reserved_special_token_112|>' was expected to have ID '128120' but was given ID 'None'    \n",
      "7g8mphx40a-algo-1-csk9y  | \u001b[2m2024-08-04T23:43:19.675744Z\u001b[0m \u001b[33m WARN\u001b[0m \u001b[2mtokenizers::tokenizer::serialization\u001b[0m\u001b[2m:\u001b[0m \u001b[2m/usr/local/cargo/registry/src/index.crates.io-6f17d22bba15001f/tokenizers-0.19.1/src/tokenizer/serialization.rs\u001b[0m\u001b[2m:\u001b[0m\u001b[2m159:\u001b[0m Warning: Token '<|reserved_special_token_113|>' was expected to have ID '128121' but was given ID 'None'    \n",
      "7g8mphx40a-algo-1-csk9y  | \u001b[2m2024-08-04T23:43:19.675747Z\u001b[0m \u001b[33m WARN\u001b[0m \u001b[2mtokenizers::tokenizer::serialization\u001b[0m\u001b[2m:\u001b[0m \u001b[2m/usr/local/cargo/registry/src/index.crates.io-6f17d22bba15001f/tokenizers-0.19.1/src/tokenizer/serialization.rs\u001b[0m\u001b[2m:\u001b[0m\u001b[2m159:\u001b[0m Warning: Token '<|reserved_special_token_114|>' was expected to have ID '128122' but was given ID 'None'    \n",
      "7g8mphx40a-algo-1-csk9y  | \u001b[2m2024-08-04T23:43:19.675750Z\u001b[0m \u001b[33m WARN\u001b[0m \u001b[2mtokenizers::tokenizer::serialization\u001b[0m\u001b[2m:\u001b[0m \u001b[2m/usr/local/cargo/registry/src/index.crates.io-6f17d22bba15001f/tokenizers-0.19.1/src/tokenizer/serialization.rs\u001b[0m\u001b[2m:\u001b[0m\u001b[2m159:\u001b[0m Warning: Token '<|reserved_special_token_115|>' was expected to have ID '128123' but was given ID 'None'    \n",
      "7g8mphx40a-algo-1-csk9y  | \u001b[2m2024-08-04T23:43:19.675752Z\u001b[0m \u001b[33m WARN\u001b[0m \u001b[2mtokenizers::tokenizer::serialization\u001b[0m\u001b[2m:\u001b[0m \u001b[2m/usr/local/cargo/registry/src/index.crates.io-6f17d22bba15001f/tokenizers-0.19.1/src/tokenizer/serialization.rs\u001b[0m\u001b[2m:\u001b[0m\u001b[2m159:\u001b[0m Warning: Token '<|reserved_special_token_116|>' was expected to have ID '128124' but was given ID 'None'    \n",
      "7g8mphx40a-algo-1-csk9y  | \u001b[2m2024-08-04T23:43:19.675755Z\u001b[0m \u001b[33m WARN\u001b[0m \u001b[2mtokenizers::tokenizer::serialization\u001b[0m\u001b[2m:\u001b[0m \u001b[2m/usr/local/cargo/registry/src/index.crates.io-6f17d22bba15001f/tokenizers-0.19.1/src/tokenizer/serialization.rs\u001b[0m\u001b[2m:\u001b[0m\u001b[2m159:\u001b[0m Warning: Token '<|reserved_special_token_117|>' was expected to have ID '128125' but was given ID 'None'    \n",
      "7g8mphx40a-algo-1-csk9y  | \u001b[2m2024-08-04T23:43:19.675757Z\u001b[0m \u001b[33m WARN\u001b[0m \u001b[2mtokenizers::tokenizer::serialization\u001b[0m\u001b[2m:\u001b[0m \u001b[2m/usr/local/cargo/registry/src/index.crates.io-6f17d22bba15001f/tokenizers-0.19.1/src/tokenizer/serialization.rs\u001b[0m\u001b[2m:\u001b[0m\u001b[2m159:\u001b[0m Warning: Token '<|reserved_special_token_118|>' was expected to have ID '128126' but was given ID 'None'    \n",
      "7g8mphx40a-algo-1-csk9y  | \u001b[2m2024-08-04T23:43:19.675760Z\u001b[0m \u001b[33m WARN\u001b[0m \u001b[2mtokenizers::tokenizer::serialization\u001b[0m\u001b[2m:\u001b[0m \u001b[2m/usr/local/cargo/registry/src/index.crates.io-6f17d22bba15001f/tokenizers-0.19.1/src/tokenizer/serialization.rs\u001b[0m\u001b[2m:\u001b[0m\u001b[2m159:\u001b[0m Warning: Token '<|reserved_special_token_119|>' was expected to have ID '128127' but was given ID 'None'    \n",
      "7g8mphx40a-algo-1-csk9y  | \u001b[2m2024-08-04T23:43:19.675762Z\u001b[0m \u001b[33m WARN\u001b[0m \u001b[2mtokenizers::tokenizer::serialization\u001b[0m\u001b[2m:\u001b[0m \u001b[2m/usr/local/cargo/registry/src/index.crates.io-6f17d22bba15001f/tokenizers-0.19.1/src/tokenizer/serialization.rs\u001b[0m\u001b[2m:\u001b[0m\u001b[2m159:\u001b[0m Warning: Token '<|reserved_special_token_120|>' was expected to have ID '128128' but was given ID 'None'    \n",
      "7g8mphx40a-algo-1-csk9y  | \u001b[2m2024-08-04T23:43:19.675764Z\u001b[0m \u001b[33m WARN\u001b[0m \u001b[2mtokenizers::tokenizer::serialization\u001b[0m\u001b[2m:\u001b[0m \u001b[2m/usr/local/cargo/registry/src/index.crates.io-6f17d22bba15001f/tokenizers-0.19.1/src/tokenizer/serialization.rs\u001b[0m\u001b[2m:\u001b[0m\u001b[2m159:\u001b[0m Warning: Token '<|reserved_special_token_121|>' was expected to have ID '128129' but was given ID 'None'    \n",
      "7g8mphx40a-algo-1-csk9y  | \u001b[2m2024-08-04T23:43:19.675767Z\u001b[0m \u001b[33m WARN\u001b[0m \u001b[2mtokenizers::tokenizer::serialization\u001b[0m\u001b[2m:\u001b[0m \u001b[2m/usr/local/cargo/registry/src/index.crates.io-6f17d22bba15001f/tokenizers-0.19.1/src/tokenizer/serialization.rs\u001b[0m\u001b[2m:\u001b[0m\u001b[2m159:\u001b[0m Warning: Token '<|reserved_special_token_122|>' was expected to have ID '128130' but was given ID 'None'    \n",
      "7g8mphx40a-algo-1-csk9y  | \u001b[2m2024-08-04T23:43:19.675769Z\u001b[0m \u001b[33m WARN\u001b[0m \u001b[2mtokenizers::tokenizer::serialization\u001b[0m\u001b[2m:\u001b[0m \u001b[2m/usr/local/cargo/registry/src/index.crates.io-6f17d22bba15001f/tokenizers-0.19.1/src/tokenizer/serialization.rs\u001b[0m\u001b[2m:\u001b[0m\u001b[2m159:\u001b[0m Warning: Token '<|reserved_special_token_123|>' was expected to have ID '128131' but was given ID 'None'    \n",
      "7g8mphx40a-algo-1-csk9y  | \u001b[2m2024-08-04T23:43:19.675772Z\u001b[0m \u001b[33m WARN\u001b[0m \u001b[2mtokenizers::tokenizer::serialization\u001b[0m\u001b[2m:\u001b[0m \u001b[2m/usr/local/cargo/registry/src/index.crates.io-6f17d22bba15001f/tokenizers-0.19.1/src/tokenizer/serialization.rs\u001b[0m\u001b[2m:\u001b[0m\u001b[2m159:\u001b[0m Warning: Token '<|reserved_special_token_124|>' was expected to have ID '128132' but was given ID 'None'    \n",
      "7g8mphx40a-algo-1-csk9y  | \u001b[2m2024-08-04T23:43:19.675775Z\u001b[0m \u001b[33m WARN\u001b[0m \u001b[2mtokenizers::tokenizer::serialization\u001b[0m\u001b[2m:\u001b[0m \u001b[2m/usr/local/cargo/registry/src/index.crates.io-6f17d22bba15001f/tokenizers-0.19.1/src/tokenizer/serialization.rs\u001b[0m\u001b[2m:\u001b[0m\u001b[2m159:\u001b[0m Warning: Token '<|reserved_special_token_125|>' was expected to have ID '128133' but was given ID 'None'    \n",
      "7g8mphx40a-algo-1-csk9y  | \u001b[2m2024-08-04T23:43:19.675777Z\u001b[0m \u001b[33m WARN\u001b[0m \u001b[2mtokenizers::tokenizer::serialization\u001b[0m\u001b[2m:\u001b[0m \u001b[2m/usr/local/cargo/registry/src/index.crates.io-6f17d22bba15001f/tokenizers-0.19.1/src/tokenizer/serialization.rs\u001b[0m\u001b[2m:\u001b[0m\u001b[2m159:\u001b[0m Warning: Token '<|reserved_special_token_126|>' was expected to have ID '128134' but was given ID 'None'    \n",
      "7g8mphx40a-algo-1-csk9y  | \u001b[2m2024-08-04T23:43:19.675780Z\u001b[0m \u001b[33m WARN\u001b[0m \u001b[2mtokenizers::tokenizer::serialization\u001b[0m\u001b[2m:\u001b[0m \u001b[2m/usr/local/cargo/registry/src/index.crates.io-6f17d22bba15001f/tokenizers-0.19.1/src/tokenizer/serialization.rs\u001b[0m\u001b[2m:\u001b[0m\u001b[2m159:\u001b[0m Warning: Token '<|reserved_special_token_127|>' was expected to have ID '128135' but was given ID 'None'    \n",
      "7g8mphx40a-algo-1-csk9y  | \u001b[2m2024-08-04T23:43:19.675782Z\u001b[0m \u001b[33m WARN\u001b[0m \u001b[2mtokenizers::tokenizer::serialization\u001b[0m\u001b[2m:\u001b[0m \u001b[2m/usr/local/cargo/registry/src/index.crates.io-6f17d22bba15001f/tokenizers-0.19.1/src/tokenizer/serialization.rs\u001b[0m\u001b[2m:\u001b[0m\u001b[2m159:\u001b[0m Warning: Token '<|reserved_special_token_128|>' was expected to have ID '128136' but was given ID 'None'    \n",
      "7g8mphx40a-algo-1-csk9y  | \u001b[2m2024-08-04T23:43:19.675785Z\u001b[0m \u001b[33m WARN\u001b[0m \u001b[2mtokenizers::tokenizer::serialization\u001b[0m\u001b[2m:\u001b[0m \u001b[2m/usr/local/cargo/registry/src/index.crates.io-6f17d22bba15001f/tokenizers-0.19.1/src/tokenizer/serialization.rs\u001b[0m\u001b[2m:\u001b[0m\u001b[2m159:\u001b[0m Warning: Token '<|reserved_special_token_129|>' was expected to have ID '128137' but was given ID 'None'    \n",
      "7g8mphx40a-algo-1-csk9y  | \u001b[2m2024-08-04T23:43:19.675787Z\u001b[0m \u001b[33m WARN\u001b[0m \u001b[2mtokenizers::tokenizer::serialization\u001b[0m\u001b[2m:\u001b[0m \u001b[2m/usr/local/cargo/registry/src/index.crates.io-6f17d22bba15001f/tokenizers-0.19.1/src/tokenizer/serialization.rs\u001b[0m\u001b[2m:\u001b[0m\u001b[2m159:\u001b[0m Warning: Token '<|reserved_special_token_130|>' was expected to have ID '128138' but was given ID 'None'    \n",
      "7g8mphx40a-algo-1-csk9y  | \u001b[2m2024-08-04T23:43:19.675789Z\u001b[0m \u001b[33m WARN\u001b[0m \u001b[2mtokenizers::tokenizer::serialization\u001b[0m\u001b[2m:\u001b[0m \u001b[2m/usr/local/cargo/registry/src/index.crates.io-6f17d22bba15001f/tokenizers-0.19.1/src/tokenizer/serialization.rs\u001b[0m\u001b[2m:\u001b[0m\u001b[2m159:\u001b[0m Warning: Token '<|reserved_special_token_131|>' was expected to have ID '128139' but was given ID 'None'    \n",
      "7g8mphx40a-algo-1-csk9y  | \u001b[2m2024-08-04T23:43:19.675792Z\u001b[0m \u001b[33m WARN\u001b[0m \u001b[2mtokenizers::tokenizer::serialization\u001b[0m\u001b[2m:\u001b[0m \u001b[2m/usr/local/cargo/registry/src/index.crates.io-6f17d22bba15001f/tokenizers-0.19.1/src/tokenizer/serialization.rs\u001b[0m\u001b[2m:\u001b[0m\u001b[2m159:\u001b[0m Warning: Token '<|reserved_special_token_132|>' was expected to have ID '128140' but was given ID 'None'    \n",
      "7g8mphx40a-algo-1-csk9y  | \u001b[2m2024-08-04T23:43:19.675794Z\u001b[0m \u001b[33m WARN\u001b[0m \u001b[2mtokenizers::tokenizer::serialization\u001b[0m\u001b[2m:\u001b[0m \u001b[2m/usr/local/cargo/registry/src/index.crates.io-6f17d22bba15001f/tokenizers-0.19.1/src/tokenizer/serialization.rs\u001b[0m\u001b[2m:\u001b[0m\u001b[2m159:\u001b[0m Warning: Token '<|reserved_special_token_133|>' was expected to have ID '128141' but was given ID 'None'    \n",
      "7g8mphx40a-algo-1-csk9y  | \u001b[2m2024-08-04T23:43:19.675797Z\u001b[0m \u001b[33m WARN\u001b[0m \u001b[2mtokenizers::tokenizer::serialization\u001b[0m\u001b[2m:\u001b[0m \u001b[2m/usr/local/cargo/registry/src/index.crates.io-6f17d22bba15001f/tokenizers-0.19.1/src/tokenizer/serialization.rs\u001b[0m\u001b[2m:\u001b[0m\u001b[2m159:\u001b[0m Warning: Token '<|reserved_special_token_134|>' was expected to have ID '128142' but was given ID 'None'    \n",
      "7g8mphx40a-algo-1-csk9y  | \u001b[2m2024-08-04T23:43:19.675799Z\u001b[0m \u001b[33m WARN\u001b[0m \u001b[2mtokenizers::tokenizer::serialization\u001b[0m\u001b[2m:\u001b[0m \u001b[2m/usr/local/cargo/registry/src/index.crates.io-6f17d22bba15001f/tokenizers-0.19.1/src/tokenizer/serialization.rs\u001b[0m\u001b[2m:\u001b[0m\u001b[2m159:\u001b[0m Warning: Token '<|reserved_special_token_135|>' was expected to have ID '128143' but was given ID 'None'    \n",
      "7g8mphx40a-algo-1-csk9y  | \u001b[2m2024-08-04T23:43:19.675802Z\u001b[0m \u001b[33m WARN\u001b[0m \u001b[2mtokenizers::tokenizer::serialization\u001b[0m\u001b[2m:\u001b[0m \u001b[2m/usr/local/cargo/registry/src/index.crates.io-6f17d22bba15001f/tokenizers-0.19.1/src/tokenizer/serialization.rs\u001b[0m\u001b[2m:\u001b[0m\u001b[2m159:\u001b[0m Warning: Token '<|reserved_special_token_136|>' was expected to have ID '128144' but was given ID 'None'    \n",
      "7g8mphx40a-algo-1-csk9y  | \u001b[2m2024-08-04T23:43:19.675804Z\u001b[0m \u001b[33m WARN\u001b[0m \u001b[2mtokenizers::tokenizer::serialization\u001b[0m\u001b[2m:\u001b[0m \u001b[2m/usr/local/cargo/registry/src/index.crates.io-6f17d22bba15001f/tokenizers-0.19.1/src/tokenizer/serialization.rs\u001b[0m\u001b[2m:\u001b[0m\u001b[2m159:\u001b[0m Warning: Token '<|reserved_special_token_137|>' was expected to have ID '128145' but was given ID 'None'    \n",
      "7g8mphx40a-algo-1-csk9y  | \u001b[2m2024-08-04T23:43:19.675807Z\u001b[0m \u001b[33m WARN\u001b[0m \u001b[2mtokenizers::tokenizer::serialization\u001b[0m\u001b[2m:\u001b[0m \u001b[2m/usr/local/cargo/registry/src/index.crates.io-6f17d22bba15001f/tokenizers-0.19.1/src/tokenizer/serialization.rs\u001b[0m\u001b[2m:\u001b[0m\u001b[2m159:\u001b[0m Warning: Token '<|reserved_special_token_138|>' was expected to have ID '128146' but was given ID 'None'    \n",
      "7g8mphx40a-algo-1-csk9y  | \u001b[2m2024-08-04T23:43:19.675809Z\u001b[0m \u001b[33m WARN\u001b[0m \u001b[2mtokenizers::tokenizer::serialization\u001b[0m\u001b[2m:\u001b[0m \u001b[2m/usr/local/cargo/registry/src/index.crates.io-6f17d22bba15001f/tokenizers-0.19.1/src/tokenizer/serialization.rs\u001b[0m\u001b[2m:\u001b[0m\u001b[2m159:\u001b[0m Warning: Token '<|reserved_special_token_139|>' was expected to have ID '128147' but was given ID 'None'    \n",
      "7g8mphx40a-algo-1-csk9y  | \u001b[2m2024-08-04T23:43:19.675811Z\u001b[0m \u001b[33m WARN\u001b[0m \u001b[2mtokenizers::tokenizer::serialization\u001b[0m\u001b[2m:\u001b[0m \u001b[2m/usr/local/cargo/registry/src/index.crates.io-6f17d22bba15001f/tokenizers-0.19.1/src/tokenizer/serialization.rs\u001b[0m\u001b[2m:\u001b[0m\u001b[2m159:\u001b[0m Warning: Token '<|reserved_special_token_140|>' was expected to have ID '128148' but was given ID 'None'    \n",
      "7g8mphx40a-algo-1-csk9y  | \u001b[2m2024-08-04T23:43:19.675814Z\u001b[0m \u001b[33m WARN\u001b[0m \u001b[2mtokenizers::tokenizer::serialization\u001b[0m\u001b[2m:\u001b[0m \u001b[2m/usr/local/cargo/registry/src/index.crates.io-6f17d22bba15001f/tokenizers-0.19.1/src/tokenizer/serialization.rs\u001b[0m\u001b[2m:\u001b[0m\u001b[2m159:\u001b[0m Warning: Token '<|reserved_special_token_141|>' was expected to have ID '128149' but was given ID 'None'    \n",
      "7g8mphx40a-algo-1-csk9y  | \u001b[2m2024-08-04T23:43:19.675816Z\u001b[0m \u001b[33m WARN\u001b[0m \u001b[2mtokenizers::tokenizer::serialization\u001b[0m\u001b[2m:\u001b[0m \u001b[2m/usr/local/cargo/registry/src/index.crates.io-6f17d22bba15001f/tokenizers-0.19.1/src/tokenizer/serialization.rs\u001b[0m\u001b[2m:\u001b[0m\u001b[2m159:\u001b[0m Warning: Token '<|reserved_special_token_142|>' was expected to have ID '128150' but was given ID 'None'    \n",
      "7g8mphx40a-algo-1-csk9y  | \u001b[2m2024-08-04T23:43:19.675819Z\u001b[0m \u001b[33m WARN\u001b[0m \u001b[2mtokenizers::tokenizer::serialization\u001b[0m\u001b[2m:\u001b[0m \u001b[2m/usr/local/cargo/registry/src/index.crates.io-6f17d22bba15001f/tokenizers-0.19.1/src/tokenizer/serialization.rs\u001b[0m\u001b[2m:\u001b[0m\u001b[2m159:\u001b[0m Warning: Token '<|reserved_special_token_143|>' was expected to have ID '128151' but was given ID 'None'    \n",
      "7g8mphx40a-algo-1-csk9y  | \u001b[2m2024-08-04T23:43:19.675821Z\u001b[0m \u001b[33m WARN\u001b[0m \u001b[2mtokenizers::tokenizer::serialization\u001b[0m\u001b[2m:\u001b[0m \u001b[2m/usr/local/cargo/registry/src/index.crates.io-6f17d22bba15001f/tokenizers-0.19.1/src/tokenizer/serialization.rs\u001b[0m\u001b[2m:\u001b[0m\u001b[2m159:\u001b[0m Warning: Token '<|reserved_special_token_144|>' was expected to have ID '128152' but was given ID 'None'    \n",
      "7g8mphx40a-algo-1-csk9y  | \u001b[2m2024-08-04T23:43:19.675824Z\u001b[0m \u001b[33m WARN\u001b[0m \u001b[2mtokenizers::tokenizer::serialization\u001b[0m\u001b[2m:\u001b[0m \u001b[2m/usr/local/cargo/registry/src/index.crates.io-6f17d22bba15001f/tokenizers-0.19.1/src/tokenizer/serialization.rs\u001b[0m\u001b[2m:\u001b[0m\u001b[2m159:\u001b[0m Warning: Token '<|reserved_special_token_145|>' was expected to have ID '128153' but was given ID 'None'    \n",
      "7g8mphx40a-algo-1-csk9y  | \u001b[2m2024-08-04T23:43:19.675826Z\u001b[0m \u001b[33m WARN\u001b[0m \u001b[2mtokenizers::tokenizer::serialization\u001b[0m\u001b[2m:\u001b[0m \u001b[2m/usr/local/cargo/registry/src/index.crates.io-6f17d22bba15001f/tokenizers-0.19.1/src/tokenizer/serialization.rs\u001b[0m\u001b[2m:\u001b[0m\u001b[2m159:\u001b[0m Warning: Token '<|reserved_special_token_146|>' was expected to have ID '128154' but was given ID 'None'    \n",
      "7g8mphx40a-algo-1-csk9y  | \u001b[2m2024-08-04T23:43:19.675829Z\u001b[0m \u001b[33m WARN\u001b[0m \u001b[2mtokenizers::tokenizer::serialization\u001b[0m\u001b[2m:\u001b[0m \u001b[2m/usr/local/cargo/registry/src/index.crates.io-6f17d22bba15001f/tokenizers-0.19.1/src/tokenizer/serialization.rs\u001b[0m\u001b[2m:\u001b[0m\u001b[2m159:\u001b[0m Warning: Token '<|reserved_special_token_147|>' was expected to have ID '128155' but was given ID 'None'    \n",
      "7g8mphx40a-algo-1-csk9y  | \u001b[2m2024-08-04T23:43:19.675831Z\u001b[0m \u001b[33m WARN\u001b[0m \u001b[2mtokenizers::tokenizer::serialization\u001b[0m\u001b[2m:\u001b[0m \u001b[2m/usr/local/cargo/registry/src/index.crates.io-6f17d22bba15001f/tokenizers-0.19.1/src/tokenizer/serialization.rs\u001b[0m\u001b[2m:\u001b[0m\u001b[2m159:\u001b[0m Warning: Token '<|reserved_special_token_148|>' was expected to have ID '128156' but was given ID 'None'    \n",
      "7g8mphx40a-algo-1-csk9y  | \u001b[2m2024-08-04T23:43:19.675834Z\u001b[0m \u001b[33m WARN\u001b[0m \u001b[2mtokenizers::tokenizer::serialization\u001b[0m\u001b[2m:\u001b[0m \u001b[2m/usr/local/cargo/registry/src/index.crates.io-6f17d22bba15001f/tokenizers-0.19.1/src/tokenizer/serialization.rs\u001b[0m\u001b[2m:\u001b[0m\u001b[2m159:\u001b[0m Warning: Token '<|reserved_special_token_149|>' was expected to have ID '128157' but was given ID 'None'    \n",
      "7g8mphx40a-algo-1-csk9y  | \u001b[2m2024-08-04T23:43:19.675836Z\u001b[0m \u001b[33m WARN\u001b[0m \u001b[2mtokenizers::tokenizer::serialization\u001b[0m\u001b[2m:\u001b[0m \u001b[2m/usr/local/cargo/registry/src/index.crates.io-6f17d22bba15001f/tokenizers-0.19.1/src/tokenizer/serialization.rs\u001b[0m\u001b[2m:\u001b[0m\u001b[2m159:\u001b[0m Warning: Token '<|reserved_special_token_150|>' was expected to have ID '128158' but was given ID 'None'    \n",
      "7g8mphx40a-algo-1-csk9y  | \u001b[2m2024-08-04T23:43:19.675839Z\u001b[0m \u001b[33m WARN\u001b[0m \u001b[2mtokenizers::tokenizer::serialization\u001b[0m\u001b[2m:\u001b[0m \u001b[2m/usr/local/cargo/registry/src/index.crates.io-6f17d22bba15001f/tokenizers-0.19.1/src/tokenizer/serialization.rs\u001b[0m\u001b[2m:\u001b[0m\u001b[2m159:\u001b[0m Warning: Token '<|reserved_special_token_151|>' was expected to have ID '128159' but was given ID 'None'    \n",
      "7g8mphx40a-algo-1-csk9y  | \u001b[2m2024-08-04T23:43:19.675841Z\u001b[0m \u001b[33m WARN\u001b[0m \u001b[2mtokenizers::tokenizer::serialization\u001b[0m\u001b[2m:\u001b[0m \u001b[2m/usr/local/cargo/registry/src/index.crates.io-6f17d22bba15001f/tokenizers-0.19.1/src/tokenizer/serialization.rs\u001b[0m\u001b[2m:\u001b[0m\u001b[2m159:\u001b[0m Warning: Token '<|reserved_special_token_152|>' was expected to have ID '128160' but was given ID 'None'    \n",
      "7g8mphx40a-algo-1-csk9y  | \u001b[2m2024-08-04T23:43:19.675844Z\u001b[0m \u001b[33m WARN\u001b[0m \u001b[2mtokenizers::tokenizer::serialization\u001b[0m\u001b[2m:\u001b[0m \u001b[2m/usr/local/cargo/registry/src/index.crates.io-6f17d22bba15001f/tokenizers-0.19.1/src/tokenizer/serialization.rs\u001b[0m\u001b[2m:\u001b[0m\u001b[2m159:\u001b[0m Warning: Token '<|reserved_special_token_153|>' was expected to have ID '128161' but was given ID 'None'    \n",
      "7g8mphx40a-algo-1-csk9y  | \u001b[2m2024-08-04T23:43:19.675846Z\u001b[0m \u001b[33m WARN\u001b[0m \u001b[2mtokenizers::tokenizer::serialization\u001b[0m\u001b[2m:\u001b[0m \u001b[2m/usr/local/cargo/registry/src/index.crates.io-6f17d22bba15001f/tokenizers-0.19.1/src/tokenizer/serialization.rs\u001b[0m\u001b[2m:\u001b[0m\u001b[2m159:\u001b[0m Warning: Token '<|reserved_special_token_154|>' was expected to have ID '128162' but was given ID 'None'    \n",
      "7g8mphx40a-algo-1-csk9y  | \u001b[2m2024-08-04T23:43:19.675849Z\u001b[0m \u001b[33m WARN\u001b[0m \u001b[2mtokenizers::tokenizer::serialization\u001b[0m\u001b[2m:\u001b[0m \u001b[2m/usr/local/cargo/registry/src/index.crates.io-6f17d22bba15001f/tokenizers-0.19.1/src/tokenizer/serialization.rs\u001b[0m\u001b[2m:\u001b[0m\u001b[2m159:\u001b[0m Warning: Token '<|reserved_special_token_155|>' was expected to have ID '128163' but was given ID 'None'    \n",
      "7g8mphx40a-algo-1-csk9y  | \u001b[2m2024-08-04T23:43:19.675851Z\u001b[0m \u001b[33m WARN\u001b[0m \u001b[2mtokenizers::tokenizer::serialization\u001b[0m\u001b[2m:\u001b[0m \u001b[2m/usr/local/cargo/registry/src/index.crates.io-6f17d22bba15001f/tokenizers-0.19.1/src/tokenizer/serialization.rs\u001b[0m\u001b[2m:\u001b[0m\u001b[2m159:\u001b[0m Warning: Token '<|reserved_special_token_156|>' was expected to have ID '128164' but was given ID 'None'    \n",
      "7g8mphx40a-algo-1-csk9y  | \u001b[2m2024-08-04T23:43:19.675853Z\u001b[0m \u001b[33m WARN\u001b[0m \u001b[2mtokenizers::tokenizer::serialization\u001b[0m\u001b[2m:\u001b[0m \u001b[2m/usr/local/cargo/registry/src/index.crates.io-6f17d22bba15001f/tokenizers-0.19.1/src/tokenizer/serialization.rs\u001b[0m\u001b[2m:\u001b[0m\u001b[2m159:\u001b[0m Warning: Token '<|reserved_special_token_157|>' was expected to have ID '128165' but was given ID 'None'    \n",
      "7g8mphx40a-algo-1-csk9y  | \u001b[2m2024-08-04T23:43:19.675857Z\u001b[0m \u001b[33m WARN\u001b[0m \u001b[2mtokenizers::tokenizer::serialization\u001b[0m\u001b[2m:\u001b[0m \u001b[2m/usr/local/cargo/registry/src/index.crates.io-6f17d22bba15001f/tokenizers-0.19.1/src/tokenizer/serialization.rs\u001b[0m\u001b[2m:\u001b[0m\u001b[2m159:\u001b[0m Warning: Token '<|reserved_special_token_158|>' was expected to have ID '128166' but was given ID 'None'    \n",
      "7g8mphx40a-algo-1-csk9y  | \u001b[2m2024-08-04T23:43:19.675859Z\u001b[0m \u001b[33m WARN\u001b[0m \u001b[2mtokenizers::tokenizer::serialization\u001b[0m\u001b[2m:\u001b[0m \u001b[2m/usr/local/cargo/registry/src/index.crates.io-6f17d22bba15001f/tokenizers-0.19.1/src/tokenizer/serialization.rs\u001b[0m\u001b[2m:\u001b[0m\u001b[2m159:\u001b[0m Warning: Token '<|reserved_special_token_159|>' was expected to have ID '128167' but was given ID 'None'    \n",
      "7g8mphx40a-algo-1-csk9y  | \u001b[2m2024-08-04T23:43:19.675862Z\u001b[0m \u001b[33m WARN\u001b[0m \u001b[2mtokenizers::tokenizer::serialization\u001b[0m\u001b[2m:\u001b[0m \u001b[2m/usr/local/cargo/registry/src/index.crates.io-6f17d22bba15001f/tokenizers-0.19.1/src/tokenizer/serialization.rs\u001b[0m\u001b[2m:\u001b[0m\u001b[2m159:\u001b[0m Warning: Token '<|reserved_special_token_160|>' was expected to have ID '128168' but was given ID 'None'    \n",
      "7g8mphx40a-algo-1-csk9y  | \u001b[2m2024-08-04T23:43:19.675864Z\u001b[0m \u001b[33m WARN\u001b[0m \u001b[2mtokenizers::tokenizer::serialization\u001b[0m\u001b[2m:\u001b[0m \u001b[2m/usr/local/cargo/registry/src/index.crates.io-6f17d22bba15001f/tokenizers-0.19.1/src/tokenizer/serialization.rs\u001b[0m\u001b[2m:\u001b[0m\u001b[2m159:\u001b[0m Warning: Token '<|reserved_special_token_161|>' was expected to have ID '128169' but was given ID 'None'    \n",
      "7g8mphx40a-algo-1-csk9y  | \u001b[2m2024-08-04T23:43:19.675867Z\u001b[0m \u001b[33m WARN\u001b[0m \u001b[2mtokenizers::tokenizer::serialization\u001b[0m\u001b[2m:\u001b[0m \u001b[2m/usr/local/cargo/registry/src/index.crates.io-6f17d22bba15001f/tokenizers-0.19.1/src/tokenizer/serialization.rs\u001b[0m\u001b[2m:\u001b[0m\u001b[2m159:\u001b[0m Warning: Token '<|reserved_special_token_162|>' was expected to have ID '128170' but was given ID 'None'    \n",
      "7g8mphx40a-algo-1-csk9y  | \u001b[2m2024-08-04T23:43:19.675869Z\u001b[0m \u001b[33m WARN\u001b[0m \u001b[2mtokenizers::tokenizer::serialization\u001b[0m\u001b[2m:\u001b[0m \u001b[2m/usr/local/cargo/registry/src/index.crates.io-6f17d22bba15001f/tokenizers-0.19.1/src/tokenizer/serialization.rs\u001b[0m\u001b[2m:\u001b[0m\u001b[2m159:\u001b[0m Warning: Token '<|reserved_special_token_163|>' was expected to have ID '128171' but was given ID 'None'    \n",
      "7g8mphx40a-algo-1-csk9y  | \u001b[2m2024-08-04T23:43:19.675872Z\u001b[0m \u001b[33m WARN\u001b[0m \u001b[2mtokenizers::tokenizer::serialization\u001b[0m\u001b[2m:\u001b[0m \u001b[2m/usr/local/cargo/registry/src/index.crates.io-6f17d22bba15001f/tokenizers-0.19.1/src/tokenizer/serialization.rs\u001b[0m\u001b[2m:\u001b[0m\u001b[2m159:\u001b[0m Warning: Token '<|reserved_special_token_164|>' was expected to have ID '128172' but was given ID 'None'    \n",
      "7g8mphx40a-algo-1-csk9y  | \u001b[2m2024-08-04T23:43:19.675874Z\u001b[0m \u001b[33m WARN\u001b[0m \u001b[2mtokenizers::tokenizer::serialization\u001b[0m\u001b[2m:\u001b[0m \u001b[2m/usr/local/cargo/registry/src/index.crates.io-6f17d22bba15001f/tokenizers-0.19.1/src/tokenizer/serialization.rs\u001b[0m\u001b[2m:\u001b[0m\u001b[2m159:\u001b[0m Warning: Token '<|reserved_special_token_165|>' was expected to have ID '128173' but was given ID 'None'    \n",
      "7g8mphx40a-algo-1-csk9y  | \u001b[2m2024-08-04T23:43:19.675877Z\u001b[0m \u001b[33m WARN\u001b[0m \u001b[2mtokenizers::tokenizer::serialization\u001b[0m\u001b[2m:\u001b[0m \u001b[2m/usr/local/cargo/registry/src/index.crates.io-6f17d22bba15001f/tokenizers-0.19.1/src/tokenizer/serialization.rs\u001b[0m\u001b[2m:\u001b[0m\u001b[2m159:\u001b[0m Warning: Token '<|reserved_special_token_166|>' was expected to have ID '128174' but was given ID 'None'    \n",
      "7g8mphx40a-algo-1-csk9y  | \u001b[2m2024-08-04T23:43:19.675879Z\u001b[0m \u001b[33m WARN\u001b[0m \u001b[2mtokenizers::tokenizer::serialization\u001b[0m\u001b[2m:\u001b[0m \u001b[2m/usr/local/cargo/registry/src/index.crates.io-6f17d22bba15001f/tokenizers-0.19.1/src/tokenizer/serialization.rs\u001b[0m\u001b[2m:\u001b[0m\u001b[2m159:\u001b[0m Warning: Token '<|reserved_special_token_167|>' was expected to have ID '128175' but was given ID 'None'    \n",
      "7g8mphx40a-algo-1-csk9y  | \u001b[2m2024-08-04T23:43:19.675881Z\u001b[0m \u001b[33m WARN\u001b[0m \u001b[2mtokenizers::tokenizer::serialization\u001b[0m\u001b[2m:\u001b[0m \u001b[2m/usr/local/cargo/registry/src/index.crates.io-6f17d22bba15001f/tokenizers-0.19.1/src/tokenizer/serialization.rs\u001b[0m\u001b[2m:\u001b[0m\u001b[2m159:\u001b[0m Warning: Token '<|reserved_special_token_168|>' was expected to have ID '128176' but was given ID 'None'    \n",
      "7g8mphx40a-algo-1-csk9y  | \u001b[2m2024-08-04T23:43:19.675885Z\u001b[0m \u001b[33m WARN\u001b[0m \u001b[2mtokenizers::tokenizer::serialization\u001b[0m\u001b[2m:\u001b[0m \u001b[2m/usr/local/cargo/registry/src/index.crates.io-6f17d22bba15001f/tokenizers-0.19.1/src/tokenizer/serialization.rs\u001b[0m\u001b[2m:\u001b[0m\u001b[2m159:\u001b[0m Warning: Token '<|reserved_special_token_169|>' was expected to have ID '128177' but was given ID 'None'    \n",
      "7g8mphx40a-algo-1-csk9y  | \u001b[2m2024-08-04T23:43:19.675887Z\u001b[0m \u001b[33m WARN\u001b[0m \u001b[2mtokenizers::tokenizer::serialization\u001b[0m\u001b[2m:\u001b[0m \u001b[2m/usr/local/cargo/registry/src/index.crates.io-6f17d22bba15001f/tokenizers-0.19.1/src/tokenizer/serialization.rs\u001b[0m\u001b[2m:\u001b[0m\u001b[2m159:\u001b[0m Warning: Token '<|reserved_special_token_170|>' was expected to have ID '128178' but was given ID 'None'    \n",
      "7g8mphx40a-algo-1-csk9y  | \u001b[2m2024-08-04T23:43:19.675890Z\u001b[0m \u001b[33m WARN\u001b[0m \u001b[2mtokenizers::tokenizer::serialization\u001b[0m\u001b[2m:\u001b[0m \u001b[2m/usr/local/cargo/registry/src/index.crates.io-6f17d22bba15001f/tokenizers-0.19.1/src/tokenizer/serialization.rs\u001b[0m\u001b[2m:\u001b[0m\u001b[2m159:\u001b[0m Warning: Token '<|reserved_special_token_171|>' was expected to have ID '128179' but was given ID 'None'    \n",
      "7g8mphx40a-algo-1-csk9y  | \u001b[2m2024-08-04T23:43:19.675892Z\u001b[0m \u001b[33m WARN\u001b[0m \u001b[2mtokenizers::tokenizer::serialization\u001b[0m\u001b[2m:\u001b[0m \u001b[2m/usr/local/cargo/registry/src/index.crates.io-6f17d22bba15001f/tokenizers-0.19.1/src/tokenizer/serialization.rs\u001b[0m\u001b[2m:\u001b[0m\u001b[2m159:\u001b[0m Warning: Token '<|reserved_special_token_172|>' was expected to have ID '128180' but was given ID 'None'    \n",
      "7g8mphx40a-algo-1-csk9y  | \u001b[2m2024-08-04T23:43:19.675894Z\u001b[0m \u001b[33m WARN\u001b[0m \u001b[2mtokenizers::tokenizer::serialization\u001b[0m\u001b[2m:\u001b[0m \u001b[2m/usr/local/cargo/registry/src/index.crates.io-6f17d22bba15001f/tokenizers-0.19.1/src/tokenizer/serialization.rs\u001b[0m\u001b[2m:\u001b[0m\u001b[2m159:\u001b[0m Warning: Token '<|reserved_special_token_173|>' was expected to have ID '128181' but was given ID 'None'    \n",
      "7g8mphx40a-algo-1-csk9y  | \u001b[2m2024-08-04T23:43:19.675897Z\u001b[0m \u001b[33m WARN\u001b[0m \u001b[2mtokenizers::tokenizer::serialization\u001b[0m\u001b[2m:\u001b[0m \u001b[2m/usr/local/cargo/registry/src/index.crates.io-6f17d22bba15001f/tokenizers-0.19.1/src/tokenizer/serialization.rs\u001b[0m\u001b[2m:\u001b[0m\u001b[2m159:\u001b[0m Warning: Token '<|reserved_special_token_174|>' was expected to have ID '128182' but was given ID 'None'    \n",
      "7g8mphx40a-algo-1-csk9y  | \u001b[2m2024-08-04T23:43:19.675899Z\u001b[0m \u001b[33m WARN\u001b[0m \u001b[2mtokenizers::tokenizer::serialization\u001b[0m\u001b[2m:\u001b[0m \u001b[2m/usr/local/cargo/registry/src/index.crates.io-6f17d22bba15001f/tokenizers-0.19.1/src/tokenizer/serialization.rs\u001b[0m\u001b[2m:\u001b[0m\u001b[2m159:\u001b[0m Warning: Token '<|reserved_special_token_175|>' was expected to have ID '128183' but was given ID 'None'    \n",
      "7g8mphx40a-algo-1-csk9y  | \u001b[2m2024-08-04T23:43:19.675901Z\u001b[0m \u001b[33m WARN\u001b[0m \u001b[2mtokenizers::tokenizer::serialization\u001b[0m\u001b[2m:\u001b[0m \u001b[2m/usr/local/cargo/registry/src/index.crates.io-6f17d22bba15001f/tokenizers-0.19.1/src/tokenizer/serialization.rs\u001b[0m\u001b[2m:\u001b[0m\u001b[2m159:\u001b[0m Warning: Token '<|reserved_special_token_176|>' was expected to have ID '128184' but was given ID 'None'    \n",
      "7g8mphx40a-algo-1-csk9y  | \u001b[2m2024-08-04T23:43:19.675904Z\u001b[0m \u001b[33m WARN\u001b[0m \u001b[2mtokenizers::tokenizer::serialization\u001b[0m\u001b[2m:\u001b[0m \u001b[2m/usr/local/cargo/registry/src/index.crates.io-6f17d22bba15001f/tokenizers-0.19.1/src/tokenizer/serialization.rs\u001b[0m\u001b[2m:\u001b[0m\u001b[2m159:\u001b[0m Warning: Token '<|reserved_special_token_177|>' was expected to have ID '128185' but was given ID 'None'    \n",
      "7g8mphx40a-algo-1-csk9y  | \u001b[2m2024-08-04T23:43:19.675906Z\u001b[0m \u001b[33m WARN\u001b[0m \u001b[2mtokenizers::tokenizer::serialization\u001b[0m\u001b[2m:\u001b[0m \u001b[2m/usr/local/cargo/registry/src/index.crates.io-6f17d22bba15001f/tokenizers-0.19.1/src/tokenizer/serialization.rs\u001b[0m\u001b[2m:\u001b[0m\u001b[2m159:\u001b[0m Warning: Token '<|reserved_special_token_178|>' was expected to have ID '128186' but was given ID 'None'    \n",
      "7g8mphx40a-algo-1-csk9y  | \u001b[2m2024-08-04T23:43:19.675909Z\u001b[0m \u001b[33m WARN\u001b[0m \u001b[2mtokenizers::tokenizer::serialization\u001b[0m\u001b[2m:\u001b[0m \u001b[2m/usr/local/cargo/registry/src/index.crates.io-6f17d22bba15001f/tokenizers-0.19.1/src/tokenizer/serialization.rs\u001b[0m\u001b[2m:\u001b[0m\u001b[2m159:\u001b[0m Warning: Token '<|reserved_special_token_179|>' was expected to have ID '128187' but was given ID 'None'    \n",
      "7g8mphx40a-algo-1-csk9y  | \u001b[2m2024-08-04T23:43:19.675912Z\u001b[0m \u001b[33m WARN\u001b[0m \u001b[2mtokenizers::tokenizer::serialization\u001b[0m\u001b[2m:\u001b[0m \u001b[2m/usr/local/cargo/registry/src/index.crates.io-6f17d22bba15001f/tokenizers-0.19.1/src/tokenizer/serialization.rs\u001b[0m\u001b[2m:\u001b[0m\u001b[2m159:\u001b[0m Warning: Token '<|reserved_special_token_180|>' was expected to have ID '128188' but was given ID 'None'    \n",
      "7g8mphx40a-algo-1-csk9y  | \u001b[2m2024-08-04T23:43:19.675914Z\u001b[0m \u001b[33m WARN\u001b[0m \u001b[2mtokenizers::tokenizer::serialization\u001b[0m\u001b[2m:\u001b[0m \u001b[2m/usr/local/cargo/registry/src/index.crates.io-6f17d22bba15001f/tokenizers-0.19.1/src/tokenizer/serialization.rs\u001b[0m\u001b[2m:\u001b[0m\u001b[2m159:\u001b[0m Warning: Token '<|reserved_special_token_181|>' was expected to have ID '128189' but was given ID 'None'    \n",
      "7g8mphx40a-algo-1-csk9y  | \u001b[2m2024-08-04T23:43:19.675916Z\u001b[0m \u001b[33m WARN\u001b[0m \u001b[2mtokenizers::tokenizer::serialization\u001b[0m\u001b[2m:\u001b[0m \u001b[2m/usr/local/cargo/registry/src/index.crates.io-6f17d22bba15001f/tokenizers-0.19.1/src/tokenizer/serialization.rs\u001b[0m\u001b[2m:\u001b[0m\u001b[2m159:\u001b[0m Warning: Token '<|reserved_special_token_182|>' was expected to have ID '128190' but was given ID 'None'    \n",
      "7g8mphx40a-algo-1-csk9y  | \u001b[2m2024-08-04T23:43:19.675919Z\u001b[0m \u001b[33m WARN\u001b[0m \u001b[2mtokenizers::tokenizer::serialization\u001b[0m\u001b[2m:\u001b[0m \u001b[2m/usr/local/cargo/registry/src/index.crates.io-6f17d22bba15001f/tokenizers-0.19.1/src/tokenizer/serialization.rs\u001b[0m\u001b[2m:\u001b[0m\u001b[2m159:\u001b[0m Warning: Token '<|reserved_special_token_183|>' was expected to have ID '128191' but was given ID 'None'    \n",
      "7g8mphx40a-algo-1-csk9y  | \u001b[2m2024-08-04T23:43:19.675921Z\u001b[0m \u001b[33m WARN\u001b[0m \u001b[2mtokenizers::tokenizer::serialization\u001b[0m\u001b[2m:\u001b[0m \u001b[2m/usr/local/cargo/registry/src/index.crates.io-6f17d22bba15001f/tokenizers-0.19.1/src/tokenizer/serialization.rs\u001b[0m\u001b[2m:\u001b[0m\u001b[2m159:\u001b[0m Warning: Token '<|reserved_special_token_184|>' was expected to have ID '128192' but was given ID 'None'    \n",
      "7g8mphx40a-algo-1-csk9y  | \u001b[2m2024-08-04T23:43:19.675924Z\u001b[0m \u001b[33m WARN\u001b[0m \u001b[2mtokenizers::tokenizer::serialization\u001b[0m\u001b[2m:\u001b[0m \u001b[2m/usr/local/cargo/registry/src/index.crates.io-6f17d22bba15001f/tokenizers-0.19.1/src/tokenizer/serialization.rs\u001b[0m\u001b[2m:\u001b[0m\u001b[2m159:\u001b[0m Warning: Token '<|reserved_special_token_185|>' was expected to have ID '128193' but was given ID 'None'    \n",
      "7g8mphx40a-algo-1-csk9y  | \u001b[2m2024-08-04T23:43:19.675926Z\u001b[0m \u001b[33m WARN\u001b[0m \u001b[2mtokenizers::tokenizer::serialization\u001b[0m\u001b[2m:\u001b[0m \u001b[2m/usr/local/cargo/registry/src/index.crates.io-6f17d22bba15001f/tokenizers-0.19.1/src/tokenizer/serialization.rs\u001b[0m\u001b[2m:\u001b[0m\u001b[2m159:\u001b[0m Warning: Token '<|reserved_special_token_186|>' was expected to have ID '128194' but was given ID 'None'    \n",
      "7g8mphx40a-algo-1-csk9y  | \u001b[2m2024-08-04T23:43:19.675929Z\u001b[0m \u001b[33m WARN\u001b[0m \u001b[2mtokenizers::tokenizer::serialization\u001b[0m\u001b[2m:\u001b[0m \u001b[2m/usr/local/cargo/registry/src/index.crates.io-6f17d22bba15001f/tokenizers-0.19.1/src/tokenizer/serialization.rs\u001b[0m\u001b[2m:\u001b[0m\u001b[2m159:\u001b[0m Warning: Token '<|reserved_special_token_187|>' was expected to have ID '128195' but was given ID 'None'    \n",
      "7g8mphx40a-algo-1-csk9y  | \u001b[2m2024-08-04T23:43:19.675931Z\u001b[0m \u001b[33m WARN\u001b[0m \u001b[2mtokenizers::tokenizer::serialization\u001b[0m\u001b[2m:\u001b[0m \u001b[2m/usr/local/cargo/registry/src/index.crates.io-6f17d22bba15001f/tokenizers-0.19.1/src/tokenizer/serialization.rs\u001b[0m\u001b[2m:\u001b[0m\u001b[2m159:\u001b[0m Warning: Token '<|reserved_special_token_188|>' was expected to have ID '128196' but was given ID 'None'    \n",
      "7g8mphx40a-algo-1-csk9y  | \u001b[2m2024-08-04T23:43:19.675934Z\u001b[0m \u001b[33m WARN\u001b[0m \u001b[2mtokenizers::tokenizer::serialization\u001b[0m\u001b[2m:\u001b[0m \u001b[2m/usr/local/cargo/registry/src/index.crates.io-6f17d22bba15001f/tokenizers-0.19.1/src/tokenizer/serialization.rs\u001b[0m\u001b[2m:\u001b[0m\u001b[2m159:\u001b[0m Warning: Token '<|reserved_special_token_189|>' was expected to have ID '128197' but was given ID 'None'    \n",
      "7g8mphx40a-algo-1-csk9y  | \u001b[2m2024-08-04T23:43:19.675936Z\u001b[0m \u001b[33m WARN\u001b[0m \u001b[2mtokenizers::tokenizer::serialization\u001b[0m\u001b[2m:\u001b[0m \u001b[2m/usr/local/cargo/registry/src/index.crates.io-6f17d22bba15001f/tokenizers-0.19.1/src/tokenizer/serialization.rs\u001b[0m\u001b[2m:\u001b[0m\u001b[2m159:\u001b[0m Warning: Token '<|reserved_special_token_190|>' was expected to have ID '128198' but was given ID 'None'    \n",
      "7g8mphx40a-algo-1-csk9y  | \u001b[2m2024-08-04T23:43:19.675939Z\u001b[0m \u001b[33m WARN\u001b[0m \u001b[2mtokenizers::tokenizer::serialization\u001b[0m\u001b[2m:\u001b[0m \u001b[2m/usr/local/cargo/registry/src/index.crates.io-6f17d22bba15001f/tokenizers-0.19.1/src/tokenizer/serialization.rs\u001b[0m\u001b[2m:\u001b[0m\u001b[2m159:\u001b[0m Warning: Token '<|reserved_special_token_191|>' was expected to have ID '128199' but was given ID 'None'    \n",
      "7g8mphx40a-algo-1-csk9y  | \u001b[2m2024-08-04T23:43:19.675942Z\u001b[0m \u001b[33m WARN\u001b[0m \u001b[2mtokenizers::tokenizer::serialization\u001b[0m\u001b[2m:\u001b[0m \u001b[2m/usr/local/cargo/registry/src/index.crates.io-6f17d22bba15001f/tokenizers-0.19.1/src/tokenizer/serialization.rs\u001b[0m\u001b[2m:\u001b[0m\u001b[2m159:\u001b[0m Warning: Token '<|reserved_special_token_192|>' was expected to have ID '128200' but was given ID 'None'    \n",
      "7g8mphx40a-algo-1-csk9y  | \u001b[2m2024-08-04T23:43:19.675944Z\u001b[0m \u001b[33m WARN\u001b[0m \u001b[2mtokenizers::tokenizer::serialization\u001b[0m\u001b[2m:\u001b[0m \u001b[2m/usr/local/cargo/registry/src/index.crates.io-6f17d22bba15001f/tokenizers-0.19.1/src/tokenizer/serialization.rs\u001b[0m\u001b[2m:\u001b[0m\u001b[2m159:\u001b[0m Warning: Token '<|reserved_special_token_193|>' was expected to have ID '128201' but was given ID 'None'    \n",
      "7g8mphx40a-algo-1-csk9y  | \u001b[2m2024-08-04T23:43:19.675947Z\u001b[0m \u001b[33m WARN\u001b[0m \u001b[2mtokenizers::tokenizer::serialization\u001b[0m\u001b[2m:\u001b[0m \u001b[2m/usr/local/cargo/registry/src/index.crates.io-6f17d22bba15001f/tokenizers-0.19.1/src/tokenizer/serialization.rs\u001b[0m\u001b[2m:\u001b[0m\u001b[2m159:\u001b[0m Warning: Token '<|reserved_special_token_194|>' was expected to have ID '128202' but was given ID 'None'    \n",
      "7g8mphx40a-algo-1-csk9y  | \u001b[2m2024-08-04T23:43:19.675949Z\u001b[0m \u001b[33m WARN\u001b[0m \u001b[2mtokenizers::tokenizer::serialization\u001b[0m\u001b[2m:\u001b[0m \u001b[2m/usr/local/cargo/registry/src/index.crates.io-6f17d22bba15001f/tokenizers-0.19.1/src/tokenizer/serialization.rs\u001b[0m\u001b[2m:\u001b[0m\u001b[2m159:\u001b[0m Warning: Token '<|reserved_special_token_195|>' was expected to have ID '128203' but was given ID 'None'    \n",
      "7g8mphx40a-algo-1-csk9y  | \u001b[2m2024-08-04T23:43:19.675951Z\u001b[0m \u001b[33m WARN\u001b[0m \u001b[2mtokenizers::tokenizer::serialization\u001b[0m\u001b[2m:\u001b[0m \u001b[2m/usr/local/cargo/registry/src/index.crates.io-6f17d22bba15001f/tokenizers-0.19.1/src/tokenizer/serialization.rs\u001b[0m\u001b[2m:\u001b[0m\u001b[2m159:\u001b[0m Warning: Token '<|reserved_special_token_196|>' was expected to have ID '128204' but was given ID 'None'    \n",
      "7g8mphx40a-algo-1-csk9y  | \u001b[2m2024-08-04T23:43:19.675954Z\u001b[0m \u001b[33m WARN\u001b[0m \u001b[2mtokenizers::tokenizer::serialization\u001b[0m\u001b[2m:\u001b[0m \u001b[2m/usr/local/cargo/registry/src/index.crates.io-6f17d22bba15001f/tokenizers-0.19.1/src/tokenizer/serialization.rs\u001b[0m\u001b[2m:\u001b[0m\u001b[2m159:\u001b[0m Warning: Token '<|reserved_special_token_197|>' was expected to have ID '128205' but was given ID 'None'    \n",
      "7g8mphx40a-algo-1-csk9y  | \u001b[2m2024-08-04T23:43:19.675956Z\u001b[0m \u001b[33m WARN\u001b[0m \u001b[2mtokenizers::tokenizer::serialization\u001b[0m\u001b[2m:\u001b[0m \u001b[2m/usr/local/cargo/registry/src/index.crates.io-6f17d22bba15001f/tokenizers-0.19.1/src/tokenizer/serialization.rs\u001b[0m\u001b[2m:\u001b[0m\u001b[2m159:\u001b[0m Warning: Token '<|reserved_special_token_198|>' was expected to have ID '128206' but was given ID 'None'    \n",
      "7g8mphx40a-algo-1-csk9y  | \u001b[2m2024-08-04T23:43:19.675959Z\u001b[0m \u001b[33m WARN\u001b[0m \u001b[2mtokenizers::tokenizer::serialization\u001b[0m\u001b[2m:\u001b[0m \u001b[2m/usr/local/cargo/registry/src/index.crates.io-6f17d22bba15001f/tokenizers-0.19.1/src/tokenizer/serialization.rs\u001b[0m\u001b[2m:\u001b[0m\u001b[2m159:\u001b[0m Warning: Token '<|reserved_special_token_199|>' was expected to have ID '128207' but was given ID 'None'    \n",
      "7g8mphx40a-algo-1-csk9y  | \u001b[2m2024-08-04T23:43:19.675961Z\u001b[0m \u001b[33m WARN\u001b[0m \u001b[2mtokenizers::tokenizer::serialization\u001b[0m\u001b[2m:\u001b[0m \u001b[2m/usr/local/cargo/registry/src/index.crates.io-6f17d22bba15001f/tokenizers-0.19.1/src/tokenizer/serialization.rs\u001b[0m\u001b[2m:\u001b[0m\u001b[2m159:\u001b[0m Warning: Token '<|reserved_special_token_200|>' was expected to have ID '128208' but was given ID 'None'    \n",
      "7g8mphx40a-algo-1-csk9y  | \u001b[2m2024-08-04T23:43:19.675964Z\u001b[0m \u001b[33m WARN\u001b[0m \u001b[2mtokenizers::tokenizer::serialization\u001b[0m\u001b[2m:\u001b[0m \u001b[2m/usr/local/cargo/registry/src/index.crates.io-6f17d22bba15001f/tokenizers-0.19.1/src/tokenizer/serialization.rs\u001b[0m\u001b[2m:\u001b[0m\u001b[2m159:\u001b[0m Warning: Token '<|reserved_special_token_201|>' was expected to have ID '128209' but was given ID 'None'    \n",
      "7g8mphx40a-algo-1-csk9y  | \u001b[2m2024-08-04T23:43:19.675967Z\u001b[0m \u001b[33m WARN\u001b[0m \u001b[2mtokenizers::tokenizer::serialization\u001b[0m\u001b[2m:\u001b[0m \u001b[2m/usr/local/cargo/registry/src/index.crates.io-6f17d22bba15001f/tokenizers-0.19.1/src/tokenizer/serialization.rs\u001b[0m\u001b[2m:\u001b[0m\u001b[2m159:\u001b[0m Warning: Token '<|reserved_special_token_202|>' was expected to have ID '128210' but was given ID 'None'    \n",
      "7g8mphx40a-algo-1-csk9y  | \u001b[2m2024-08-04T23:43:19.675969Z\u001b[0m \u001b[33m WARN\u001b[0m \u001b[2mtokenizers::tokenizer::serialization\u001b[0m\u001b[2m:\u001b[0m \u001b[2m/usr/local/cargo/registry/src/index.crates.io-6f17d22bba15001f/tokenizers-0.19.1/src/tokenizer/serialization.rs\u001b[0m\u001b[2m:\u001b[0m\u001b[2m159:\u001b[0m Warning: Token '<|reserved_special_token_203|>' was expected to have ID '128211' but was given ID 'None'    \n",
      "7g8mphx40a-algo-1-csk9y  | \u001b[2m2024-08-04T23:43:19.675972Z\u001b[0m \u001b[33m WARN\u001b[0m \u001b[2mtokenizers::tokenizer::serialization\u001b[0m\u001b[2m:\u001b[0m \u001b[2m/usr/local/cargo/registry/src/index.crates.io-6f17d22bba15001f/tokenizers-0.19.1/src/tokenizer/serialization.rs\u001b[0m\u001b[2m:\u001b[0m\u001b[2m159:\u001b[0m Warning: Token '<|reserved_special_token_204|>' was expected to have ID '128212' but was given ID 'None'    \n",
      "7g8mphx40a-algo-1-csk9y  | \u001b[2m2024-08-04T23:43:19.675974Z\u001b[0m \u001b[33m WARN\u001b[0m \u001b[2mtokenizers::tokenizer::serialization\u001b[0m\u001b[2m:\u001b[0m \u001b[2m/usr/local/cargo/registry/src/index.crates.io-6f17d22bba15001f/tokenizers-0.19.1/src/tokenizer/serialization.rs\u001b[0m\u001b[2m:\u001b[0m\u001b[2m159:\u001b[0m Warning: Token '<|reserved_special_token_205|>' was expected to have ID '128213' but was given ID 'None'    \n",
      "7g8mphx40a-algo-1-csk9y  | \u001b[2m2024-08-04T23:43:19.675977Z\u001b[0m \u001b[33m WARN\u001b[0m \u001b[2mtokenizers::tokenizer::serialization\u001b[0m\u001b[2m:\u001b[0m \u001b[2m/usr/local/cargo/registry/src/index.crates.io-6f17d22bba15001f/tokenizers-0.19.1/src/tokenizer/serialization.rs\u001b[0m\u001b[2m:\u001b[0m\u001b[2m159:\u001b[0m Warning: Token '<|reserved_special_token_206|>' was expected to have ID '128214' but was given ID 'None'    \n",
      "7g8mphx40a-algo-1-csk9y  | \u001b[2m2024-08-04T23:43:19.675979Z\u001b[0m \u001b[33m WARN\u001b[0m \u001b[2mtokenizers::tokenizer::serialization\u001b[0m\u001b[2m:\u001b[0m \u001b[2m/usr/local/cargo/registry/src/index.crates.io-6f17d22bba15001f/tokenizers-0.19.1/src/tokenizer/serialization.rs\u001b[0m\u001b[2m:\u001b[0m\u001b[2m159:\u001b[0m Warning: Token '<|reserved_special_token_207|>' was expected to have ID '128215' but was given ID 'None'    \n",
      "7g8mphx40a-algo-1-csk9y  | \u001b[2m2024-08-04T23:43:19.675982Z\u001b[0m \u001b[33m WARN\u001b[0m \u001b[2mtokenizers::tokenizer::serialization\u001b[0m\u001b[2m:\u001b[0m \u001b[2m/usr/local/cargo/registry/src/index.crates.io-6f17d22bba15001f/tokenizers-0.19.1/src/tokenizer/serialization.rs\u001b[0m\u001b[2m:\u001b[0m\u001b[2m159:\u001b[0m Warning: Token '<|reserved_special_token_208|>' was expected to have ID '128216' but was given ID 'None'    \n",
      "7g8mphx40a-algo-1-csk9y  | \u001b[2m2024-08-04T23:43:19.675984Z\u001b[0m \u001b[33m WARN\u001b[0m \u001b[2mtokenizers::tokenizer::serialization\u001b[0m\u001b[2m:\u001b[0m \u001b[2m/usr/local/cargo/registry/src/index.crates.io-6f17d22bba15001f/tokenizers-0.19.1/src/tokenizer/serialization.rs\u001b[0m\u001b[2m:\u001b[0m\u001b[2m159:\u001b[0m Warning: Token '<|reserved_special_token_209|>' was expected to have ID '128217' but was given ID 'None'    \n",
      "7g8mphx40a-algo-1-csk9y  | \u001b[2m2024-08-04T23:43:19.675986Z\u001b[0m \u001b[33m WARN\u001b[0m \u001b[2mtokenizers::tokenizer::serialization\u001b[0m\u001b[2m:\u001b[0m \u001b[2m/usr/local/cargo/registry/src/index.crates.io-6f17d22bba15001f/tokenizers-0.19.1/src/tokenizer/serialization.rs\u001b[0m\u001b[2m:\u001b[0m\u001b[2m159:\u001b[0m Warning: Token '<|reserved_special_token_210|>' was expected to have ID '128218' but was given ID 'None'    \n",
      "7g8mphx40a-algo-1-csk9y  | \u001b[2m2024-08-04T23:43:19.675989Z\u001b[0m \u001b[33m WARN\u001b[0m \u001b[2mtokenizers::tokenizer::serialization\u001b[0m\u001b[2m:\u001b[0m \u001b[2m/usr/local/cargo/registry/src/index.crates.io-6f17d22bba15001f/tokenizers-0.19.1/src/tokenizer/serialization.rs\u001b[0m\u001b[2m:\u001b[0m\u001b[2m159:\u001b[0m Warning: Token '<|reserved_special_token_211|>' was expected to have ID '128219' but was given ID 'None'    \n",
      "7g8mphx40a-algo-1-csk9y  | \u001b[2m2024-08-04T23:43:19.675991Z\u001b[0m \u001b[33m WARN\u001b[0m \u001b[2mtokenizers::tokenizer::serialization\u001b[0m\u001b[2m:\u001b[0m \u001b[2m/usr/local/cargo/registry/src/index.crates.io-6f17d22bba15001f/tokenizers-0.19.1/src/tokenizer/serialization.rs\u001b[0m\u001b[2m:\u001b[0m\u001b[2m159:\u001b[0m Warning: Token '<|reserved_special_token_212|>' was expected to have ID '128220' but was given ID 'None'    \n",
      "7g8mphx40a-algo-1-csk9y  | \u001b[2m2024-08-04T23:43:19.675995Z\u001b[0m \u001b[33m WARN\u001b[0m \u001b[2mtokenizers::tokenizer::serialization\u001b[0m\u001b[2m:\u001b[0m \u001b[2m/usr/local/cargo/registry/src/index.crates.io-6f17d22bba15001f/tokenizers-0.19.1/src/tokenizer/serialization.rs\u001b[0m\u001b[2m:\u001b[0m\u001b[2m159:\u001b[0m Warning: Token '<|reserved_special_token_213|>' was expected to have ID '128221' but was given ID 'None'    \n",
      "7g8mphx40a-algo-1-csk9y  | \u001b[2m2024-08-04T23:43:19.675998Z\u001b[0m \u001b[33m WARN\u001b[0m \u001b[2mtokenizers::tokenizer::serialization\u001b[0m\u001b[2m:\u001b[0m \u001b[2m/usr/local/cargo/registry/src/index.crates.io-6f17d22bba15001f/tokenizers-0.19.1/src/tokenizer/serialization.rs\u001b[0m\u001b[2m:\u001b[0m\u001b[2m159:\u001b[0m Warning: Token '<|reserved_special_token_214|>' was expected to have ID '128222' but was given ID 'None'    \n",
      "7g8mphx40a-algo-1-csk9y  | \u001b[2m2024-08-04T23:43:19.676000Z\u001b[0m \u001b[33m WARN\u001b[0m \u001b[2mtokenizers::tokenizer::serialization\u001b[0m\u001b[2m:\u001b[0m \u001b[2m/usr/local/cargo/registry/src/index.crates.io-6f17d22bba15001f/tokenizers-0.19.1/src/tokenizer/serialization.rs\u001b[0m\u001b[2m:\u001b[0m\u001b[2m159:\u001b[0m Warning: Token '<|reserved_special_token_215|>' was expected to have ID '128223' but was given ID 'None'    \n",
      "7g8mphx40a-algo-1-csk9y  | \u001b[2m2024-08-04T23:43:19.676002Z\u001b[0m \u001b[33m WARN\u001b[0m \u001b[2mtokenizers::tokenizer::serialization\u001b[0m\u001b[2m:\u001b[0m \u001b[2m/usr/local/cargo/registry/src/index.crates.io-6f17d22bba15001f/tokenizers-0.19.1/src/tokenizer/serialization.rs\u001b[0m\u001b[2m:\u001b[0m\u001b[2m159:\u001b[0m Warning: Token '<|reserved_special_token_216|>' was expected to have ID '128224' but was given ID 'None'    \n",
      "7g8mphx40a-algo-1-csk9y  | \u001b[2m2024-08-04T23:43:19.676005Z\u001b[0m \u001b[33m WARN\u001b[0m \u001b[2mtokenizers::tokenizer::serialization\u001b[0m\u001b[2m:\u001b[0m \u001b[2m/usr/local/cargo/registry/src/index.crates.io-6f17d22bba15001f/tokenizers-0.19.1/src/tokenizer/serialization.rs\u001b[0m\u001b[2m:\u001b[0m\u001b[2m159:\u001b[0m Warning: Token '<|reserved_special_token_217|>' was expected to have ID '128225' but was given ID 'None'    \n",
      "7g8mphx40a-algo-1-csk9y  | \u001b[2m2024-08-04T23:43:19.676007Z\u001b[0m \u001b[33m WARN\u001b[0m \u001b[2mtokenizers::tokenizer::serialization\u001b[0m\u001b[2m:\u001b[0m \u001b[2m/usr/local/cargo/registry/src/index.crates.io-6f17d22bba15001f/tokenizers-0.19.1/src/tokenizer/serialization.rs\u001b[0m\u001b[2m:\u001b[0m\u001b[2m159:\u001b[0m Warning: Token '<|reserved_special_token_218|>' was expected to have ID '128226' but was given ID 'None'    \n",
      "7g8mphx40a-algo-1-csk9y  | \u001b[2m2024-08-04T23:43:19.676010Z\u001b[0m \u001b[33m WARN\u001b[0m \u001b[2mtokenizers::tokenizer::serialization\u001b[0m\u001b[2m:\u001b[0m \u001b[2m/usr/local/cargo/registry/src/index.crates.io-6f17d22bba15001f/tokenizers-0.19.1/src/tokenizer/serialization.rs\u001b[0m\u001b[2m:\u001b[0m\u001b[2m159:\u001b[0m Warning: Token '<|reserved_special_token_219|>' was expected to have ID '128227' but was given ID 'None'    \n",
      "7g8mphx40a-algo-1-csk9y  | \u001b[2m2024-08-04T23:43:19.676012Z\u001b[0m \u001b[33m WARN\u001b[0m \u001b[2mtokenizers::tokenizer::serialization\u001b[0m\u001b[2m:\u001b[0m \u001b[2m/usr/local/cargo/registry/src/index.crates.io-6f17d22bba15001f/tokenizers-0.19.1/src/tokenizer/serialization.rs\u001b[0m\u001b[2m:\u001b[0m\u001b[2m159:\u001b[0m Warning: Token '<|reserved_special_token_220|>' was expected to have ID '128228' but was given ID 'None'    \n",
      "7g8mphx40a-algo-1-csk9y  | \u001b[2m2024-08-04T23:43:19.676015Z\u001b[0m \u001b[33m WARN\u001b[0m \u001b[2mtokenizers::tokenizer::serialization\u001b[0m\u001b[2m:\u001b[0m \u001b[2m/usr/local/cargo/registry/src/index.crates.io-6f17d22bba15001f/tokenizers-0.19.1/src/tokenizer/serialization.rs\u001b[0m\u001b[2m:\u001b[0m\u001b[2m159:\u001b[0m Warning: Token '<|reserved_special_token_221|>' was expected to have ID '128229' but was given ID 'None'    \n",
      "7g8mphx40a-algo-1-csk9y  | \u001b[2m2024-08-04T23:43:19.676017Z\u001b[0m \u001b[33m WARN\u001b[0m \u001b[2mtokenizers::tokenizer::serialization\u001b[0m\u001b[2m:\u001b[0m \u001b[2m/usr/local/cargo/registry/src/index.crates.io-6f17d22bba15001f/tokenizers-0.19.1/src/tokenizer/serialization.rs\u001b[0m\u001b[2m:\u001b[0m\u001b[2m159:\u001b[0m Warning: Token '<|reserved_special_token_222|>' was expected to have ID '128230' but was given ID 'None'    \n",
      "7g8mphx40a-algo-1-csk9y  | \u001b[2m2024-08-04T23:43:19.676019Z\u001b[0m \u001b[33m WARN\u001b[0m \u001b[2mtokenizers::tokenizer::serialization\u001b[0m\u001b[2m:\u001b[0m \u001b[2m/usr/local/cargo/registry/src/index.crates.io-6f17d22bba15001f/tokenizers-0.19.1/src/tokenizer/serialization.rs\u001b[0m\u001b[2m:\u001b[0m\u001b[2m159:\u001b[0m Warning: Token '<|reserved_special_token_223|>' was expected to have ID '128231' but was given ID 'None'    \n",
      "7g8mphx40a-algo-1-csk9y  | \u001b[2m2024-08-04T23:43:19.676022Z\u001b[0m \u001b[33m WARN\u001b[0m \u001b[2mtokenizers::tokenizer::serialization\u001b[0m\u001b[2m:\u001b[0m \u001b[2m/usr/local/cargo/registry/src/index.crates.io-6f17d22bba15001f/tokenizers-0.19.1/src/tokenizer/serialization.rs\u001b[0m\u001b[2m:\u001b[0m\u001b[2m159:\u001b[0m Warning: Token '<|reserved_special_token_224|>' was expected to have ID '128232' but was given ID 'None'    \n",
      "7g8mphx40a-algo-1-csk9y  | \u001b[2m2024-08-04T23:43:19.676025Z\u001b[0m \u001b[33m WARN\u001b[0m \u001b[2mtokenizers::tokenizer::serialization\u001b[0m\u001b[2m:\u001b[0m \u001b[2m/usr/local/cargo/registry/src/index.crates.io-6f17d22bba15001f/tokenizers-0.19.1/src/tokenizer/serialization.rs\u001b[0m\u001b[2m:\u001b[0m\u001b[2m159:\u001b[0m Warning: Token '<|reserved_special_token_225|>' was expected to have ID '128233' but was given ID 'None'    \n",
      "7g8mphx40a-algo-1-csk9y  | \u001b[2m2024-08-04T23:43:19.676027Z\u001b[0m \u001b[33m WARN\u001b[0m \u001b[2mtokenizers::tokenizer::serialization\u001b[0m\u001b[2m:\u001b[0m \u001b[2m/usr/local/cargo/registry/src/index.crates.io-6f17d22bba15001f/tokenizers-0.19.1/src/tokenizer/serialization.rs\u001b[0m\u001b[2m:\u001b[0m\u001b[2m159:\u001b[0m Warning: Token '<|reserved_special_token_226|>' was expected to have ID '128234' but was given ID 'None'    \n",
      "7g8mphx40a-algo-1-csk9y  | \u001b[2m2024-08-04T23:43:19.676030Z\u001b[0m \u001b[33m WARN\u001b[0m \u001b[2mtokenizers::tokenizer::serialization\u001b[0m\u001b[2m:\u001b[0m \u001b[2m/usr/local/cargo/registry/src/index.crates.io-6f17d22bba15001f/tokenizers-0.19.1/src/tokenizer/serialization.rs\u001b[0m\u001b[2m:\u001b[0m\u001b[2m159:\u001b[0m Warning: Token '<|reserved_special_token_227|>' was expected to have ID '128235' but was given ID 'None'    \n",
      "7g8mphx40a-algo-1-csk9y  | \u001b[2m2024-08-04T23:43:19.676032Z\u001b[0m \u001b[33m WARN\u001b[0m \u001b[2mtokenizers::tokenizer::serialization\u001b[0m\u001b[2m:\u001b[0m \u001b[2m/usr/local/cargo/registry/src/index.crates.io-6f17d22bba15001f/tokenizers-0.19.1/src/tokenizer/serialization.rs\u001b[0m\u001b[2m:\u001b[0m\u001b[2m159:\u001b[0m Warning: Token '<|reserved_special_token_228|>' was expected to have ID '128236' but was given ID 'None'    \n",
      "7g8mphx40a-algo-1-csk9y  | \u001b[2m2024-08-04T23:43:19.676034Z\u001b[0m \u001b[33m WARN\u001b[0m \u001b[2mtokenizers::tokenizer::serialization\u001b[0m\u001b[2m:\u001b[0m \u001b[2m/usr/local/cargo/registry/src/index.crates.io-6f17d22bba15001f/tokenizers-0.19.1/src/tokenizer/serialization.rs\u001b[0m\u001b[2m:\u001b[0m\u001b[2m159:\u001b[0m Warning: Token '<|reserved_special_token_229|>' was expected to have ID '128237' but was given ID 'None'    \n",
      "7g8mphx40a-algo-1-csk9y  | \u001b[2m2024-08-04T23:43:19.676038Z\u001b[0m \u001b[33m WARN\u001b[0m \u001b[2mtokenizers::tokenizer::serialization\u001b[0m\u001b[2m:\u001b[0m \u001b[2m/usr/local/cargo/registry/src/index.crates.io-6f17d22bba15001f/tokenizers-0.19.1/src/tokenizer/serialization.rs\u001b[0m\u001b[2m:\u001b[0m\u001b[2m159:\u001b[0m Warning: Token '<|reserved_special_token_230|>' was expected to have ID '128238' but was given ID 'None'    \n",
      "7g8mphx40a-algo-1-csk9y  | \u001b[2m2024-08-04T23:43:19.676040Z\u001b[0m \u001b[33m WARN\u001b[0m \u001b[2mtokenizers::tokenizer::serialization\u001b[0m\u001b[2m:\u001b[0m \u001b[2m/usr/local/cargo/registry/src/index.crates.io-6f17d22bba15001f/tokenizers-0.19.1/src/tokenizer/serialization.rs\u001b[0m\u001b[2m:\u001b[0m\u001b[2m159:\u001b[0m Warning: Token '<|reserved_special_token_231|>' was expected to have ID '128239' but was given ID 'None'    \n",
      "7g8mphx40a-algo-1-csk9y  | \u001b[2m2024-08-04T23:43:19.676043Z\u001b[0m \u001b[33m WARN\u001b[0m \u001b[2mtokenizers::tokenizer::serialization\u001b[0m\u001b[2m:\u001b[0m \u001b[2m/usr/local/cargo/registry/src/index.crates.io-6f17d22bba15001f/tokenizers-0.19.1/src/tokenizer/serialization.rs\u001b[0m\u001b[2m:\u001b[0m\u001b[2m159:\u001b[0m Warning: Token '<|reserved_special_token_232|>' was expected to have ID '128240' but was given ID 'None'    \n",
      "7g8mphx40a-algo-1-csk9y  | \u001b[2m2024-08-04T23:43:19.676045Z\u001b[0m \u001b[33m WARN\u001b[0m \u001b[2mtokenizers::tokenizer::serialization\u001b[0m\u001b[2m:\u001b[0m \u001b[2m/usr/local/cargo/registry/src/index.crates.io-6f17d22bba15001f/tokenizers-0.19.1/src/tokenizer/serialization.rs\u001b[0m\u001b[2m:\u001b[0m\u001b[2m159:\u001b[0m Warning: Token '<|reserved_special_token_233|>' was expected to have ID '128241' but was given ID 'None'    \n",
      "7g8mphx40a-algo-1-csk9y  | \u001b[2m2024-08-04T23:43:19.676048Z\u001b[0m \u001b[33m WARN\u001b[0m \u001b[2mtokenizers::tokenizer::serialization\u001b[0m\u001b[2m:\u001b[0m \u001b[2m/usr/local/cargo/registry/src/index.crates.io-6f17d22bba15001f/tokenizers-0.19.1/src/tokenizer/serialization.rs\u001b[0m\u001b[2m:\u001b[0m\u001b[2m159:\u001b[0m Warning: Token '<|reserved_special_token_234|>' was expected to have ID '128242' but was given ID 'None'    \n",
      "7g8mphx40a-algo-1-csk9y  | \u001b[2m2024-08-04T23:43:19.676050Z\u001b[0m \u001b[33m WARN\u001b[0m \u001b[2mtokenizers::tokenizer::serialization\u001b[0m\u001b[2m:\u001b[0m \u001b[2m/usr/local/cargo/registry/src/index.crates.io-6f17d22bba15001f/tokenizers-0.19.1/src/tokenizer/serialization.rs\u001b[0m\u001b[2m:\u001b[0m\u001b[2m159:\u001b[0m Warning: Token '<|reserved_special_token_235|>' was expected to have ID '128243' but was given ID 'None'    \n",
      "7g8mphx40a-algo-1-csk9y  | \u001b[2m2024-08-04T23:43:19.676053Z\u001b[0m \u001b[33m WARN\u001b[0m \u001b[2mtokenizers::tokenizer::serialization\u001b[0m\u001b[2m:\u001b[0m \u001b[2m/usr/local/cargo/registry/src/index.crates.io-6f17d22bba15001f/tokenizers-0.19.1/src/tokenizer/serialization.rs\u001b[0m\u001b[2m:\u001b[0m\u001b[2m159:\u001b[0m Warning: Token '<|reserved_special_token_236|>' was expected to have ID '128244' but was given ID 'None'    \n",
      "7g8mphx40a-algo-1-csk9y  | \u001b[2m2024-08-04T23:43:19.676056Z\u001b[0m \u001b[33m WARN\u001b[0m \u001b[2mtokenizers::tokenizer::serialization\u001b[0m\u001b[2m:\u001b[0m \u001b[2m/usr/local/cargo/registry/src/index.crates.io-6f17d22bba15001f/tokenizers-0.19.1/src/tokenizer/serialization.rs\u001b[0m\u001b[2m:\u001b[0m\u001b[2m159:\u001b[0m Warning: Token '<|reserved_special_token_237|>' was expected to have ID '128245' but was given ID 'None'    \n",
      "7g8mphx40a-algo-1-csk9y  | \u001b[2m2024-08-04T23:43:19.676059Z\u001b[0m \u001b[33m WARN\u001b[0m \u001b[2mtokenizers::tokenizer::serialization\u001b[0m\u001b[2m:\u001b[0m \u001b[2m/usr/local/cargo/registry/src/index.crates.io-6f17d22bba15001f/tokenizers-0.19.1/src/tokenizer/serialization.rs\u001b[0m\u001b[2m:\u001b[0m\u001b[2m159:\u001b[0m Warning: Token '<|reserved_special_token_238|>' was expected to have ID '128246' but was given ID 'None'    \n",
      "7g8mphx40a-algo-1-csk9y  | \u001b[2m2024-08-04T23:43:19.676062Z\u001b[0m \u001b[33m WARN\u001b[0m \u001b[2mtokenizers::tokenizer::serialization\u001b[0m\u001b[2m:\u001b[0m \u001b[2m/usr/local/cargo/registry/src/index.crates.io-6f17d22bba15001f/tokenizers-0.19.1/src/tokenizer/serialization.rs\u001b[0m\u001b[2m:\u001b[0m\u001b[2m159:\u001b[0m Warning: Token '<|reserved_special_token_239|>' was expected to have ID '128247' but was given ID 'None'    \n",
      "7g8mphx40a-algo-1-csk9y  | \u001b[2m2024-08-04T23:43:19.676065Z\u001b[0m \u001b[33m WARN\u001b[0m \u001b[2mtokenizers::tokenizer::serialization\u001b[0m\u001b[2m:\u001b[0m \u001b[2m/usr/local/cargo/registry/src/index.crates.io-6f17d22bba15001f/tokenizers-0.19.1/src/tokenizer/serialization.rs\u001b[0m\u001b[2m:\u001b[0m\u001b[2m159:\u001b[0m Warning: Token '<|reserved_special_token_240|>' was expected to have ID '128248' but was given ID 'None'    \n",
      "7g8mphx40a-algo-1-csk9y  | \u001b[2m2024-08-04T23:43:19.676068Z\u001b[0m \u001b[33m WARN\u001b[0m \u001b[2mtokenizers::tokenizer::serialization\u001b[0m\u001b[2m:\u001b[0m \u001b[2m/usr/local/cargo/registry/src/index.crates.io-6f17d22bba15001f/tokenizers-0.19.1/src/tokenizer/serialization.rs\u001b[0m\u001b[2m:\u001b[0m\u001b[2m159:\u001b[0m Warning: Token '<|reserved_special_token_241|>' was expected to have ID '128249' but was given ID 'None'    \n",
      "7g8mphx40a-algo-1-csk9y  | \u001b[2m2024-08-04T23:43:19.676071Z\u001b[0m \u001b[33m WARN\u001b[0m \u001b[2mtokenizers::tokenizer::serialization\u001b[0m\u001b[2m:\u001b[0m \u001b[2m/usr/local/cargo/registry/src/index.crates.io-6f17d22bba15001f/tokenizers-0.19.1/src/tokenizer/serialization.rs\u001b[0m\u001b[2m:\u001b[0m\u001b[2m159:\u001b[0m Warning: Token '<|reserved_special_token_242|>' was expected to have ID '128250' but was given ID 'None'    \n",
      "7g8mphx40a-algo-1-csk9y  | \u001b[2m2024-08-04T23:43:19.676074Z\u001b[0m \u001b[33m WARN\u001b[0m \u001b[2mtokenizers::tokenizer::serialization\u001b[0m\u001b[2m:\u001b[0m \u001b[2m/usr/local/cargo/registry/src/index.crates.io-6f17d22bba15001f/tokenizers-0.19.1/src/tokenizer/serialization.rs\u001b[0m\u001b[2m:\u001b[0m\u001b[2m159:\u001b[0m Warning: Token '<|reserved_special_token_243|>' was expected to have ID '128251' but was given ID 'None'    \n",
      "7g8mphx40a-algo-1-csk9y  | \u001b[2m2024-08-04T23:43:19.676077Z\u001b[0m \u001b[33m WARN\u001b[0m \u001b[2mtokenizers::tokenizer::serialization\u001b[0m\u001b[2m:\u001b[0m \u001b[2m/usr/local/cargo/registry/src/index.crates.io-6f17d22bba15001f/tokenizers-0.19.1/src/tokenizer/serialization.rs\u001b[0m\u001b[2m:\u001b[0m\u001b[2m159:\u001b[0m Warning: Token '<|reserved_special_token_244|>' was expected to have ID '128252' but was given ID 'None'    \n",
      "7g8mphx40a-algo-1-csk9y  | \u001b[2m2024-08-04T23:43:19.676080Z\u001b[0m \u001b[33m WARN\u001b[0m \u001b[2mtokenizers::tokenizer::serialization\u001b[0m\u001b[2m:\u001b[0m \u001b[2m/usr/local/cargo/registry/src/index.crates.io-6f17d22bba15001f/tokenizers-0.19.1/src/tokenizer/serialization.rs\u001b[0m\u001b[2m:\u001b[0m\u001b[2m159:\u001b[0m Warning: Token '<|reserved_special_token_245|>' was expected to have ID '128253' but was given ID 'None'    \n",
      "7g8mphx40a-algo-1-csk9y  | \u001b[2m2024-08-04T23:43:19.676084Z\u001b[0m \u001b[33m WARN\u001b[0m \u001b[2mtokenizers::tokenizer::serialization\u001b[0m\u001b[2m:\u001b[0m \u001b[2m/usr/local/cargo/registry/src/index.crates.io-6f17d22bba15001f/tokenizers-0.19.1/src/tokenizer/serialization.rs\u001b[0m\u001b[2m:\u001b[0m\u001b[2m159:\u001b[0m Warning: Token '<|reserved_special_token_246|>' was expected to have ID '128254' but was given ID 'None'    \n",
      "7g8mphx40a-algo-1-csk9y  | \u001b[2m2024-08-04T23:43:19.676087Z\u001b[0m \u001b[33m WARN\u001b[0m \u001b[2mtokenizers::tokenizer::serialization\u001b[0m\u001b[2m:\u001b[0m \u001b[2m/usr/local/cargo/registry/src/index.crates.io-6f17d22bba15001f/tokenizers-0.19.1/src/tokenizer/serialization.rs\u001b[0m\u001b[2m:\u001b[0m\u001b[2m159:\u001b[0m Warning: Token '<|reserved_special_token_247|>' was expected to have ID '128255' but was given ID 'None'    \n",
      "7g8mphx40a-algo-1-csk9y  | \u001b[2m2024-08-04T23:43:19.678837Z\u001b[0m \u001b[32m INFO\u001b[0m \u001b[2mtext_generation_router\u001b[0m\u001b[2m:\u001b[0m \u001b[2mrouter/src/main.rs\u001b[0m\u001b[2m:\u001b[0m\u001b[2m357:\u001b[0m Using config Some(Llama)\n",
      "7g8mphx40a-algo-1-csk9y  | \u001b[2m2024-08-04T23:43:19.678855Z\u001b[0m \u001b[33m WARN\u001b[0m \u001b[2mtext_generation_router\u001b[0m\u001b[2m:\u001b[0m \u001b[2mrouter/src/main.rs\u001b[0m\u001b[2m:\u001b[0m\u001b[2m366:\u001b[0m no pipeline tag found for model /opt/ml/model\n",
      "7g8mphx40a-algo-1-csk9y  | \u001b[2m2024-08-04T23:43:19.678859Z\u001b[0m \u001b[33m WARN\u001b[0m \u001b[2mtext_generation_router\u001b[0m\u001b[2m:\u001b[0m \u001b[2mrouter/src/main.rs\u001b[0m\u001b[2m:\u001b[0m\u001b[2m384:\u001b[0m Invalid hostname, defaulting to 0.0.0.0\n",
      "7g8mphx40a-algo-1-csk9y  | \u001b[2m2024-08-04T23:43:20.376558Z\u001b[0m \u001b[32m INFO\u001b[0m \u001b[2mtext_generation_router::server\u001b[0m\u001b[2m:\u001b[0m \u001b[2mrouter/src/server.rs\u001b[0m\u001b[2m:\u001b[0m\u001b[2m1572:\u001b[0m Warming up model\n",
      "7g8mphx40a-algo-1-csk9y  | \u001b[2m2024-08-04T23:43:24.738617Z\u001b[0m \u001b[32m INFO\u001b[0m \u001b[2mtext_generation_launcher\u001b[0m\u001b[2m:\u001b[0m Cuda Graphs are disabled (CUDA_GRAPHS=None).\n",
      "7g8mphx40a-algo-1-csk9y  | \u001b[2m2024-08-04T23:43:24.830376Z\u001b[0m \u001b[32m INFO\u001b[0m \u001b[2mtext_generation_router::server\u001b[0m\u001b[2m:\u001b[0m \u001b[2mrouter/src/server.rs\u001b[0m\u001b[2m:\u001b[0m\u001b[2m1599:\u001b[0m Using scheduler V3\n",
      "7g8mphx40a-algo-1-csk9y  | \u001b[2m2024-08-04T23:43:24.830399Z\u001b[0m \u001b[32m INFO\u001b[0m \u001b[2mtext_generation_router::server\u001b[0m\u001b[2m:\u001b[0m \u001b[2mrouter/src/server.rs\u001b[0m\u001b[2m:\u001b[0m\u001b[2m1651:\u001b[0m Setting max batch total tokens to 478880\n",
      "7g8mphx40a-algo-1-csk9y  | \u001b[2m2024-08-04T23:43:24.905155Z\u001b[0m \u001b[32m INFO\u001b[0m \u001b[2mtext_generation_router::server\u001b[0m\u001b[2m:\u001b[0m \u001b[2mrouter/src/server.rs\u001b[0m\u001b[2m:\u001b[0m\u001b[2m1889:\u001b[0m Connected\n"
     ]
    }
   ],
   "source": [
    "create_endpoint_response = sm_client.create_endpoint(\n",
    "    EndpointName=endpoint_name, \n",
    "    EndpointConfigName=endpoint_config_name\n",
    ")"
   ]
  },
  {
   "cell_type": "code",
   "execution_count": 24,
   "metadata": {
    "tags": []
   },
   "outputs": [
    {
     "name": "stdout",
     "output_type": "stream",
     "text": [
      "CONTAINER ID   IMAGE                                                                                                                            COMMAND                  CREATED          STATUS          PORTS                                       NAMES\n",
      "11d5238ece85   322537213286.dkr.ecr.us-west-2.amazonaws.com/huggingface-pytorch-tgi-inference:2.3.0-tgi2.2.0-gpu-py310-cu121-ubuntu22.04-v2.0   \"./entrypoint.sh ser…\"   46 seconds ago   Up 45 seconds   0.0.0.0:8080->8080/tcp, :::8080->8080/tcp   7g8mphx40a-algo-1-csk9y\n"
     ]
    }
   ],
   "source": [
    "!docker ps"
   ]
  },
  {
   "cell_type": "markdown",
   "metadata": {},
   "source": [
    "### Inference Test"
   ]
  },
  {
   "cell_type": "code",
   "execution_count": 25,
   "metadata": {
    "tags": []
   },
   "outputs": [],
   "source": [
    "prompt = \"The diamondback terrapin or simply terrapin is a species of turtle native to the brackish coastal tidal marshes of the\"\n",
    "response = \"The diamondback terrapin or simply terrapin is a species of turtle native to the brackish coastal tidal marshes of the east coast.\"\n",
    "\n",
    "sample_input = {\n",
    "    \"inputs\": prompt,\n",
    "    \"parameters\": {\n",
    "        \"max_tokens\":256,\n",
    "        \"top_p\": 0.9,\n",
    "        \"temperature\": 0.6,\n",
    "        \"max_tokens\": 512,\n",
    "        \"stop\": [\"<|eot_id|>\"]\n",
    "    }\n",
    "}"
   ]
  },
  {
   "cell_type": "code",
   "execution_count": 26,
   "metadata": {
    "tags": []
   },
   "outputs": [
    {
     "name": "stdout",
     "output_type": "stream",
     "text": [
      "CPU times: user 678 μs, sys: 2.97 ms, total: 3.65 ms7g8mphx40a-algo-1-csk9y  | \u001b[2m2024-08-04T23:43:53.456051Z\u001b[0m \u001b[32m INFO\u001b[0m \u001b[1mcompat_generate\u001b[0m\u001b[1m{\u001b[0m\u001b[3mdefault_return_full_text\u001b[0m\u001b[2m=\u001b[0mtrue \u001b[3mcompute_type\u001b[0m\u001b[2m=\u001b[0mExtension(ComputeType(\"4-nvidia-a10g\"))\u001b[1m}\u001b[0m\u001b[2m:\u001b[0m\u001b[1mgenerate\u001b[0m\u001b[1m{\u001b[0m\u001b[3mparameters\u001b[0m\u001b[2m=\u001b[0mGenerateParameters { best_of: None, temperature: Some(0.6), repetition_penalty: None, frequency_penalty: None, top_k: None, top_p: Some(0.9), typical_p: None, do_sample: false, max_new_tokens: Some(100), return_full_text: Some(true), stop: [\"<|eot_id|>\"], truncate: None, watermark: false, details: false, decoder_input_details: false, seed: None, top_n_tokens: None, grammar: None, adapter_id: None } \u001b[3mtotal_time\u001b[0m\u001b[2m=\u001b[0m\"7.831854966s\" \u001b[3mvalidation_time\u001b[0m\u001b[2m=\u001b[0m\"564.179µs\" \u001b[3mqueue_time\u001b[0m\u001b[2m=\u001b[0m\"56.721µs\" \u001b[3minference_time\u001b[0m\u001b[2m=\u001b[0m\"7.831234186s\" \u001b[3mtime_per_token\u001b[0m\u001b[2m=\u001b[0m\"78.312341ms\" \u001b[3mseed\u001b[0m\u001b[2m=\u001b[0m\"Some(555944431595906200)\"\u001b[1m}\u001b[0m\u001b[2m:\u001b[0m \u001b[2mtext_generation_router::server\u001b[0m\u001b[2m:\u001b[0m \u001b[2mrouter/src/server.rs\u001b[0m\u001b[2m:\u001b[0m\u001b[2m322:\u001b[0m Success\n",
      "\n",
      "Wall time: 7.86 s\n"
     ]
    },
    {
     "data": {
      "text/plain": [
       "\"The diamondback terrapin or simply terrapin is a species of turtle native to the brackish coastal tidal marshes of the southeastern United States. They are relatively large, with adults reaching up to 14 inches in length and weighing up to 5 pounds. The diamondback terrapin is primarily a carnivore, feeding on a variety of invertebrates, including clams, mussels, snails, and worms. They also consume some fish and crustaceans. The terrapin's diet varies depending on the season, with a greater emphasis on aquatic plants during the warmer months.\\nThe diamondback terrap\""
      ]
     },
     "execution_count": 26,
     "metadata": {},
     "output_type": "execute_result"
    }
   ],
   "source": [
    "%%time\n",
    "response = smr_client.invoke_endpoint(\n",
    "    EndpointName=endpoint_name,\n",
    "    Accept=\"application/json\",\n",
    "    ContentType=\"application/json\",\n",
    "    Body=json.dumps(sample_input)\n",
    ")\n",
    "data = response[\"Body\"].read()\n",
    "output = json.loads(data)\n",
    "output[0]['generated_text']"
   ]
  },
  {
   "cell_type": "code",
   "execution_count": 27,
   "metadata": {
    "tags": []
   },
   "outputs": [
    {
     "name": "stdout",
     "output_type": "stream",
     "text": [
      "CONTAINER ID   IMAGE                                                                                                                            COMMAND                  CREATED          STATUS          PORTS                                       NAMES\n",
      "11d5238ece85   322537213286.dkr.ecr.us-west-2.amazonaws.com/huggingface-pytorch-tgi-inference:2.3.0-tgi2.2.0-gpu-py310-cu121-ubuntu22.04-v2.0   \"./entrypoint.sh ser…\"   56 seconds ago   Up 55 seconds   0.0.0.0:8080->8080/tcp, :::8080->8080/tcp   7g8mphx40a-algo-1-csk9y\n"
     ]
    }
   ],
   "source": [
    "!docker ps"
   ]
  },
  {
   "cell_type": "code",
   "execution_count": 28,
   "metadata": {
    "tags": []
   },
   "outputs": [
    {
     "name": "stdout",
     "output_type": "stream",
     "text": [
      "7g8mphx40a-algo-1-csk9y exited with code 137\n",
      "Aborting on container exit...\n",
      "11d5238ece85\n"
     ]
    },
    {
     "name": "stderr",
     "output_type": "stream",
     "text": [
      "Exception in thread Thread-6:\n",
      "Traceback (most recent call last):\n",
      "  File \"/home/ec2-user/anaconda3/envs/pytorch_p310/lib/python3.10/site-packages/sagemaker/local/image.py\", line 955, in run\n",
      "    _stream_output(self.process)\n",
      "  File \"/home/ec2-user/anaconda3/envs/pytorch_p310/lib/python3.10/site-packages/sagemaker/local/image.py\", line 1021, in _stream_output\n",
      "    raise RuntimeError(f\"Failed to run: {process.args}. Process exited with code: {exit_code}\")\n",
      "RuntimeError: Failed to run: ['docker-compose', '-f', '/tmp/tmp1np0g52v/docker-compose.yaml', 'up', '--build', '--abort-on-container-exit']. Process exited with code: 137\n",
      "\n",
      "During handling of the above exception, another exception occurred:\n",
      "\n",
      "Traceback (most recent call last):\n",
      "  File \"/home/ec2-user/anaconda3/envs/pytorch_p310/lib/python3.10/threading.py\", line 1016, in _bootstrap_inner\n",
      "    self.run()\n",
      "  File \"/home/ec2-user/anaconda3/envs/pytorch_p310/lib/python3.10/site-packages/sagemaker/local/image.py\", line 960, in run\n",
      "    raise RuntimeError(msg)\n",
      "RuntimeError: Failed to run: ['docker-compose', '-f', '/tmp/tmp1np0g52v/docker-compose.yaml', 'up', '--build', '--abort-on-container-exit'], Failed to run: ['docker-compose', '-f', '/tmp/tmp1np0g52v/docker-compose.yaml', 'up', '--build', '--abort-on-container-exit']. Process exited with code: 137\n"
     ]
    }
   ],
   "source": [
    "!docker kill 11d5238ece85"
   ]
  },
  {
   "cell_type": "markdown",
   "metadata": {},
   "source": [
    "### Validating the container in SageMaker Endpoint"
   ]
  },
  {
   "cell_type": "code",
   "execution_count": 107,
   "metadata": {
    "tags": []
   },
   "outputs": [
    {
     "name": "stdout",
     "output_type": "stream",
     "text": [
      "--- SageMaker Model Name: meta-llama-3-1-8b-instruct-2024-08-05-03-58-04\n",
      "--- Endpoint Config Name: meta-llama-3-1-8b-instruct-endpoint-config-2024-08-05-03-58-04\n",
      "--- Endpoint Name: meta-llama-3-1-8b-instruct-endpoint-2024-08-05-03-58-04\n",
      "--- Model Data: s3://sagemaker-us-west-2-322537213286/meta-llama-3-1-8b-instruct/compressed_model/model.tar.gz\n"
     ]
    }
   ],
   "source": [
    "import boto3\n",
    "import time\n",
    "import json\n",
    "\n",
    "\n",
    "# Set to True to enable SageMaker to run locally\n",
    "local_mode = False\n",
    "\n",
    "if local_mode:\n",
    "    from sagemaker.local import LocalSession\n",
    "    instance_type = \"local_gpu\"\n",
    "    sm_session = LocalSession()\n",
    "    sm_session.config = {'local': {'local_code': True}}\n",
    "    sm_client = sagemaker.local.LocalSagemakerClient()\n",
    "    smr_client = sagemaker.local.LocalSagemakerRuntimeClient()\n",
    "    model_data=f\"file://{Path.cwd()}/{model_name}\"\n",
    "else:\n",
    "    instance_type = \"ml.g5.48xlarge\" ###### instance type\n",
    "    \n",
    "    sm_session = sagemaker.Session()\n",
    "    sm_client = boto3.client(\"sagemaker\")\n",
    "    smr_client = boto3.client(\"sagemaker-runtime\")\n",
    "    model_data = f\"{compressed_model_path}/model.tar.gz\"\n",
    "\n",
    "instance_count = 1\n",
    "ts = time.strftime(\"%Y-%m-%d-%H-%M-%S\", time.gmtime())\n",
    "sm_model_name = f\"{model_name}-{ts}\"\n",
    "endpoint_config_name = f\"{model_name}-endpoint-config-{ts}\"\n",
    "endpoint_name = f\"{model_name}-endpoint-{ts}\"\n",
    "\n",
    "print(f'--- SageMaker Model Name: {sm_model_name}')\n",
    "print(f'--- Endpoint Config Name: {endpoint_config_name}')     \n",
    "print(f'--- Endpoint Name: {endpoint_name}')\n",
    "print(f'--- Model Data: {model_data}')\n"
   ]
  },
  {
   "cell_type": "code",
   "execution_count": 108,
   "metadata": {
    "tags": []
   },
   "outputs": [],
   "source": [
    "env_var = {}\n",
    "\n",
    "container = {\n",
    "    \"Image\": ecr_image_uri,\n",
    "    \"ModelDataUrl\": model_data,\n",
    "    \"Environment\": env_var\n",
    "}"
   ]
  },
  {
   "cell_type": "code",
   "execution_count": 109,
   "metadata": {
    "tags": []
   },
   "outputs": [
    {
     "ename": "ClientError",
     "evalue": "An error occurred (ValidationException) when calling the CreateEndpointConfig operation: SSM access is not allowed for your account in the requested region. Please contact customer support to enable this feature.",
     "output_type": "error",
     "traceback": [
      "\u001b[0;31m---------------------------------------------------------------------------\u001b[0m",
      "\u001b[0;31mClientError\u001b[0m                               Traceback (most recent call last)",
      "Cell \u001b[0;32mIn[109], line 7\u001b[0m\n\u001b[1;32m      1\u001b[0m create_model_response \u001b[38;5;241m=\u001b[39m sm_client\u001b[38;5;241m.\u001b[39mcreate_model(\n\u001b[1;32m      2\u001b[0m     ModelName\u001b[38;5;241m=\u001b[39msm_model_name, \n\u001b[1;32m      3\u001b[0m     ExecutionRoleArn\u001b[38;5;241m=\u001b[39mexecution_role_arn, \n\u001b[1;32m      4\u001b[0m     PrimaryContainer\u001b[38;5;241m=\u001b[39mcontainer,\n\u001b[1;32m      5\u001b[0m )\n\u001b[0;32m----> 7\u001b[0m create_endpoint_config_response \u001b[38;5;241m=\u001b[39m \u001b[43msm_client\u001b[49m\u001b[38;5;241;43m.\u001b[39;49m\u001b[43mcreate_endpoint_config\u001b[49m\u001b[43m(\u001b[49m\n\u001b[1;32m      8\u001b[0m \u001b[43m    \u001b[49m\u001b[43mEndpointConfigName\u001b[49m\u001b[38;5;241;43m=\u001b[39;49m\u001b[43mendpoint_config_name\u001b[49m\u001b[43m,\u001b[49m\n\u001b[1;32m      9\u001b[0m \u001b[43m    \u001b[49m\u001b[43mProductionVariants\u001b[49m\u001b[38;5;241;43m=\u001b[39;49m\u001b[43m[\u001b[49m\n\u001b[1;32m     10\u001b[0m \u001b[43m        \u001b[49m\u001b[43m{\u001b[49m\n\u001b[1;32m     11\u001b[0m \u001b[43m            \u001b[49m\u001b[38;5;124;43m\"\u001b[39;49m\u001b[38;5;124;43mInstanceType\u001b[39;49m\u001b[38;5;124;43m\"\u001b[39;49m\u001b[43m:\u001b[49m\u001b[43m \u001b[49m\u001b[43minstance_type\u001b[49m\u001b[43m,\u001b[49m\n\u001b[1;32m     12\u001b[0m \u001b[43m            \u001b[49m\u001b[38;5;124;43m\"\u001b[39;49m\u001b[38;5;124;43mInitialVariantWeight\u001b[39;49m\u001b[38;5;124;43m\"\u001b[39;49m\u001b[43m:\u001b[49m\u001b[43m \u001b[49m\u001b[38;5;241;43m1\u001b[39;49m\u001b[43m,\u001b[49m\n\u001b[1;32m     13\u001b[0m \u001b[43m            \u001b[49m\u001b[38;5;124;43m\"\u001b[39;49m\u001b[38;5;124;43mInitialInstanceCount\u001b[39;49m\u001b[38;5;124;43m\"\u001b[39;49m\u001b[43m:\u001b[49m\u001b[43m \u001b[49m\u001b[38;5;241;43m1\u001b[39;49m\u001b[43m,\u001b[49m\n\u001b[1;32m     14\u001b[0m \u001b[43m            \u001b[49m\u001b[38;5;124;43m\"\u001b[39;49m\u001b[38;5;124;43mModelName\u001b[39;49m\u001b[38;5;124;43m\"\u001b[39;49m\u001b[43m:\u001b[49m\u001b[43m \u001b[49m\u001b[43msm_model_name\u001b[49m\u001b[43m,\u001b[49m\n\u001b[1;32m     15\u001b[0m \u001b[43m            \u001b[49m\u001b[38;5;124;43m\"\u001b[39;49m\u001b[38;5;124;43mVariantName\u001b[39;49m\u001b[38;5;124;43m\"\u001b[39;49m\u001b[43m:\u001b[49m\u001b[43m \u001b[49m\u001b[38;5;124;43m\"\u001b[39;49m\u001b[38;5;124;43mAllTraffic\u001b[39;49m\u001b[38;5;124;43m\"\u001b[39;49m\u001b[43m,\u001b[49m\n\u001b[1;32m     16\u001b[0m \u001b[43m            \u001b[49m\u001b[38;5;124;43m'\u001b[39;49m\u001b[38;5;124;43mModelDataDownloadTimeoutInSeconds\u001b[39;49m\u001b[38;5;124;43m'\u001b[39;49m\u001b[43m:\u001b[49m\u001b[43m \u001b[49m\u001b[38;5;241;43m300\u001b[39;49m\u001b[43m,\u001b[49m\n\u001b[1;32m     17\u001b[0m \u001b[43m            \u001b[49m\u001b[38;5;124;43m'\u001b[39;49m\u001b[38;5;124;43mContainerStartupHealthCheckTimeoutInSeconds\u001b[39;49m\u001b[38;5;124;43m'\u001b[39;49m\u001b[43m:\u001b[49m\u001b[43m \u001b[49m\u001b[38;5;241;43m300\u001b[39;49m\u001b[43m,\u001b[49m\n\u001b[1;32m     18\u001b[0m \u001b[43m            \u001b[49m\u001b[38;5;124;43m'\u001b[39;49m\u001b[38;5;124;43mEnableSSMAccess\u001b[39;49m\u001b[38;5;124;43m'\u001b[39;49m\u001b[43m:\u001b[49m\u001b[43m \u001b[49m\u001b[38;5;28;43;01mTrue\u001b[39;49;00m\n\u001b[1;32m     19\u001b[0m \u001b[43m            \u001b[49m\n\u001b[1;32m     20\u001b[0m \u001b[43m        \u001b[49m\u001b[43m}\u001b[49m\u001b[43m,\u001b[49m\n\u001b[1;32m     21\u001b[0m \u001b[43m    \u001b[49m\u001b[43m]\u001b[49m\n\u001b[1;32m     22\u001b[0m \u001b[43m)\u001b[49m\n\u001b[1;32m     24\u001b[0m \u001b[38;5;28mprint\u001b[39m(\u001b[38;5;124m\"\u001b[39m\u001b[38;5;124mModel Arn: \u001b[39m\u001b[38;5;124m\"\u001b[39m \u001b[38;5;241m+\u001b[39m create_model_response[\u001b[38;5;124m\"\u001b[39m\u001b[38;5;124mModelArn\u001b[39m\u001b[38;5;124m\"\u001b[39m])\n\u001b[1;32m     25\u001b[0m \u001b[38;5;28mprint\u001b[39m(\u001b[38;5;124m\"\u001b[39m\u001b[38;5;124mEndpoint Config Arn: \u001b[39m\u001b[38;5;124m\"\u001b[39m \u001b[38;5;241m+\u001b[39m create_endpoint_config_response[\u001b[38;5;124m\"\u001b[39m\u001b[38;5;124mEndpointConfigArn\u001b[39m\u001b[38;5;124m\"\u001b[39m])\n",
      "File \u001b[0;32m~/anaconda3/envs/pytorch_p310/lib/python3.10/site-packages/botocore/client.py:565\u001b[0m, in \u001b[0;36mClientCreator._create_api_method.<locals>._api_call\u001b[0;34m(self, *args, **kwargs)\u001b[0m\n\u001b[1;32m    561\u001b[0m     \u001b[38;5;28;01mraise\u001b[39;00m \u001b[38;5;167;01mTypeError\u001b[39;00m(\n\u001b[1;32m    562\u001b[0m         \u001b[38;5;124mf\u001b[39m\u001b[38;5;124m\"\u001b[39m\u001b[38;5;132;01m{\u001b[39;00mpy_operation_name\u001b[38;5;132;01m}\u001b[39;00m\u001b[38;5;124m() only accepts keyword arguments.\u001b[39m\u001b[38;5;124m\"\u001b[39m\n\u001b[1;32m    563\u001b[0m     )\n\u001b[1;32m    564\u001b[0m \u001b[38;5;66;03m# The \"self\" in this scope is referring to the BaseClient.\u001b[39;00m\n\u001b[0;32m--> 565\u001b[0m \u001b[38;5;28;01mreturn\u001b[39;00m \u001b[38;5;28;43mself\u001b[39;49m\u001b[38;5;241;43m.\u001b[39;49m\u001b[43m_make_api_call\u001b[49m\u001b[43m(\u001b[49m\u001b[43moperation_name\u001b[49m\u001b[43m,\u001b[49m\u001b[43m \u001b[49m\u001b[43mkwargs\u001b[49m\u001b[43m)\u001b[49m\n",
      "File \u001b[0;32m~/anaconda3/envs/pytorch_p310/lib/python3.10/site-packages/botocore/client.py:1021\u001b[0m, in \u001b[0;36mBaseClient._make_api_call\u001b[0;34m(self, operation_name, api_params)\u001b[0m\n\u001b[1;32m   1017\u001b[0m     error_code \u001b[38;5;241m=\u001b[39m error_info\u001b[38;5;241m.\u001b[39mget(\u001b[38;5;124m\"\u001b[39m\u001b[38;5;124mQueryErrorCode\u001b[39m\u001b[38;5;124m\"\u001b[39m) \u001b[38;5;129;01mor\u001b[39;00m error_info\u001b[38;5;241m.\u001b[39mget(\n\u001b[1;32m   1018\u001b[0m         \u001b[38;5;124m\"\u001b[39m\u001b[38;5;124mCode\u001b[39m\u001b[38;5;124m\"\u001b[39m\n\u001b[1;32m   1019\u001b[0m     )\n\u001b[1;32m   1020\u001b[0m     error_class \u001b[38;5;241m=\u001b[39m \u001b[38;5;28mself\u001b[39m\u001b[38;5;241m.\u001b[39mexceptions\u001b[38;5;241m.\u001b[39mfrom_code(error_code)\n\u001b[0;32m-> 1021\u001b[0m     \u001b[38;5;28;01mraise\u001b[39;00m error_class(parsed_response, operation_name)\n\u001b[1;32m   1022\u001b[0m \u001b[38;5;28;01melse\u001b[39;00m:\n\u001b[1;32m   1023\u001b[0m     \u001b[38;5;28;01mreturn\u001b[39;00m parsed_response\n",
      "\u001b[0;31mClientError\u001b[0m: An error occurred (ValidationException) when calling the CreateEndpointConfig operation: SSM access is not allowed for your account in the requested region. Please contact customer support to enable this feature."
     ]
    }
   ],
   "source": [
    "create_model_response = sm_client.create_model(\n",
    "    ModelName=sm_model_name, \n",
    "    ExecutionRoleArn=execution_role_arn, \n",
    "    PrimaryContainer=container,\n",
    ")\n",
    "\n",
    "create_endpoint_config_response = sm_client.create_endpoint_config(\n",
    "    EndpointConfigName=endpoint_config_name,\n",
    "    ProductionVariants=[\n",
    "        {\n",
    "            \"InstanceType\": instance_type,\n",
    "            \"InitialVariantWeight\": 1,\n",
    "            \"InitialInstanceCount\": 1,\n",
    "            \"ModelName\": sm_model_name,\n",
    "            \"VariantName\": \"AllTraffic\",\n",
    "            'ModelDataDownloadTimeoutInSeconds': 300,\n",
    "            'ContainerStartupHealthCheckTimeoutInSeconds': 300,\n",
    "            'EnableSSMAccess': True\n",
    "            \n",
    "        },\n",
    "    ]\n",
    ")\n",
    "\n",
    "print(\"Model Arn: \" + create_model_response[\"ModelArn\"])\n",
    "print(\"Endpoint Config Arn: \" + create_endpoint_config_response[\"EndpointConfigArn\"])"
   ]
  },
  {
   "cell_type": "code",
   "execution_count": null,
   "metadata": {
    "tags": []
   },
   "outputs": [],
   "source": [
    "create_endpoint_response = sm_client.create_endpoint(\n",
    "    EndpointName=endpoint_name, \n",
    "    EndpointConfigName=endpoint_config_name\n",
    ")\n",
    "\n",
    "print(\"Endpoint Arn: \" + create_endpoint_response[\"EndpointArn\"])"
   ]
  },
  {
   "cell_type": "code",
   "execution_count": 66,
   "metadata": {
    "tags": []
   },
   "outputs": [
    {
     "data": {
      "text/html": [
       "<b> [SageMaker LLM Serving] <a target=\"blank\" href=\"https://console.aws.amazon.com/sagemaker/home?region=us-west-2#/endpoints/meta-llama-3-1-8b-instruct-endpoint-2024-08-05-00-35-45\">Check Endpoint Status</a></b>"
      ],
      "text/plain": [
       "<IPython.core.display.HTML object>"
      ]
     },
     "metadata": {},
     "output_type": "display_data"
    }
   ],
   "source": [
    "from IPython.display import display, HTML\n",
    "def make_console_link(region, endpoint_name, task='[SageMaker LLM Serving]'):\n",
    "    endpoint_link = f'<b> {task} <a target=\"blank\" href=\"https://console.aws.amazon.com/sagemaker/home?region={region}#/endpoints/{endpoint_name}\">Check Endpoint Status</a></b>'   \n",
    "    return endpoint_link\n",
    "\n",
    "endpoint_link = make_console_link(region, endpoint_name)\n",
    "display(HTML(endpoint_link))"
   ]
  },
  {
   "cell_type": "code",
   "execution_count": 67,
   "metadata": {
    "tags": []
   },
   "outputs": [
    {
     "name": "stdout",
     "output_type": "stream",
     "text": [
      "Status: Creating\n",
      "Status: Creating\n",
      "Status: Creating\n",
      "Status: Creating\n",
      "Status: Creating\n",
      "Status: Creating\n",
      "Status: Creating\n",
      "Status: Creating\n",
      "Status: Creating\n",
      "Status: Creating\n",
      "Status: Creating\n",
      "Status: Creating\n",
      "Status: Creating\n",
      "Status: Creating\n",
      "Status: Creating\n",
      "Status: Creating\n",
      "Status: Creating\n",
      "Status: Creating\n",
      "Status: InService\n",
      "Arn: arn:aws:sagemaker:us-west-2:322537213286:endpoint/meta-llama-3-1-8b-instruct-endpoint-2024-08-05-00-35-45\n",
      "Status: InService\n"
     ]
    }
   ],
   "source": [
    "resp = sm_client.describe_endpoint(EndpointName=endpoint_name)\n",
    "status = resp[\"EndpointStatus\"]\n",
    "print(\"Status: \" + status)\n",
    "\n",
    "while status == \"Creating\":\n",
    "    time.sleep(30)\n",
    "    resp = sm_client.describe_endpoint(EndpointName=endpoint_name)\n",
    "    status = resp[\"EndpointStatus\"]\n",
    "    print(\"Status: \" + status)\n",
    "\n",
    "print(\"Arn: \" + resp[\"EndpointArn\"])\n",
    "print(\"Status: \" + status)"
   ]
  },
  {
   "cell_type": "code",
   "execution_count": 70,
   "metadata": {
    "tags": []
   },
   "outputs": [],
   "source": [
    "prompt = \"The diamondback terrapin or simply terrapin is a species of turtle native to the brackish coastal tidal marshes of the\"\n",
    "response = \"The diamondback terrapin or simply terrapin is a species of turtle native to the brackish coastal tidal marshes of the east coast.\"\n",
    "\n",
    "sample_input = {\n",
    "    \"inputs\": prompt,\n",
    "    \"parameters\": {\n",
    "        \"max_tokens\":256,\n",
    "        \"top_p\": 0.9,\n",
    "        \"temperature\": 0.6,\n",
    "        \"max_tokens\": 512,\n",
    "        \"stop\": [\"<|eot_id|>\"]\n",
    "    }\n",
    "}"
   ]
  },
  {
   "cell_type": "code",
   "execution_count": 71,
   "metadata": {
    "tags": []
   },
   "outputs": [
    {
     "name": "stdout",
     "output_type": "stream",
     "text": [
      "CPU times: user 13.9 ms, sys: 0 ns, total: 13.9 ms\n",
      "Wall time: 8.12 s\n"
     ]
    },
    {
     "data": {
      "text/plain": [
       "'The diamondback terrapin or simply terrapin is a species of turtle native to the brackish coastal tidal marshes of the southeastern United States and northern Mexico. It is the only species of turtle that is adapted to life in brackish water, which is a mixture of fresh and saltwater. The terrapin has a distinctive diamond-shaped mark on its shell, and its head is relatively large compared to other turtles. It is a carnivorous species that feeds on a variety of prey, including crustaceans, mollusks, and small fish. Terrapins are known for their unique mating and nesting behaviors,'"
      ]
     },
     "execution_count": 71,
     "metadata": {},
     "output_type": "execute_result"
    }
   ],
   "source": [
    "%%time\n",
    "response = smr_client.invoke_endpoint(\n",
    "    EndpointName=endpoint_name,\n",
    "    Accept=\"application/json\",\n",
    "    ContentType=\"application/json\",\n",
    "    Body=json.dumps(sample_input)\n",
    ")\n",
    "data = response[\"Body\"].read()\n",
    "output = json.loads(data)\n",
    "output[0]['generated_text']"
   ]
  },
  {
   "cell_type": "markdown",
   "metadata": {},
   "source": [
    "### Clean up"
   ]
  },
  {
   "cell_type": "code",
   "execution_count": 72,
   "metadata": {
    "tags": []
   },
   "outputs": [],
   "source": [
    "def delete_endpoint(client, endpoint_name):\n",
    "    response = client.describe_endpoint(EndpointName=endpoint_name)\n",
    "    EndpointConfigName = response['EndpointConfigName']\n",
    "    \n",
    "    response = client.describe_endpoint_config(EndpointConfigName=EndpointConfigName)\n",
    "    model_name = response['ProductionVariants'][0]['ModelName']\n",
    "    \n",
    "    client.delete_model(ModelName=model_name)    \n",
    "    client.delete_endpoint_config(EndpointConfigName=EndpointConfigName) \n",
    "    client.delete_endpoint(EndpointName=endpoint_name)\n",
    "   \n",
    "    print(f'--- Deleted model: {model_name}')\n",
    "    print(f'--- Deleted endpoint_config: {EndpointConfigName}')     \n",
    "    print(f'--- Deleted endpoint: {endpoint_name}')"
   ]
  },
  {
   "cell_type": "code",
   "execution_count": 73,
   "metadata": {
    "tags": []
   },
   "outputs": [
    {
     "name": "stdout",
     "output_type": "stream",
     "text": [
      "--- Deleted model: meta-llama-3-1-8b-instruct-2024-08-05-00-35-45\n",
      "--- Deleted endpoint_config: meta-llama-3-1-8b-instruct-endpoint-config-2024-08-05-00-35-45\n",
      "--- Deleted endpoint: meta-llama-3-1-8b-instruct-endpoint-2024-08-05-00-35-45\n"
     ]
    }
   ],
   "source": [
    "delete_endpoint(sm_client, endpoint_name)"
   ]
  },
  {
   "cell_type": "markdown",
   "metadata": {},
   "source": [
    "<br>\n",
    "\n",
    "## [**Step 4**] Packaging the ML model into a Model Package\n",
    "---\n",
    "이 **step**에서는 아티팩트(ECR 이미지 및 학습된 모델 아티팩트)를 ModelPackage로 패키징하는 방법을 살펴봅니다. 이 작업을 완료하면 AWS 마켓플레이스에서 제품을 사전 학습된 모델로 등록할 수 있습니다.\n",
    "\n",
    "**Note:** 모델을 여러 하드웨어 유형(CPU/GPU/Inferentia)에 배포할 수 있는 경우, 일반적으로 사용되는 컨테이너 이미지가 각각 다르기 때문에 각각에 대해 모델패키지를 생성하고 MP 목록에 다른 버전으로 추가해야 합니다.  \n",
    "\n",
    "### 모델 패키지 사전 준비\n",
    "모델 패키지는 추론에 필요한 모든 요소를 패키지로 묶은 모델 아티팩트에 대한 재사용 가능한 추상화 형태입니다. 이는 모델 데이터 위치(선택 사항)와 함께 사용할 추론 이미지를 정의하는 추론 사양으로 구성됩니다. ModelPackage는 AWS 마켓플레이스에 판매자로 등록할 AWS 계정에서 생성해야 합니다."
   ]
  },
  {
   "cell_type": "code",
   "execution_count": 41,
   "metadata": {
    "tags": []
   },
   "outputs": [
    {
     "name": "stdout",
     "output_type": "stream",
     "text": [
      "vi /home/ec2-user/anaconda3/envs/pytorch_p310/lib/python3.10/site-packages/botocore/validate.py\n"
     ]
    }
   ],
   "source": [
    "import os\n",
    "strPythonPath = !which python\n",
    "strValidatePath = os.path.join(strPythonPath[0].rsplit(\"/\", 2)[0], \"lib/python3.10/site-packages/botocore/validate.py\")\n",
    "print (\"vi \" + strValidatePath)"
   ]
  },
  {
   "cell_type": "markdown",
   "metadata": {},
   "source": [
    "<div class=\"alert alert-info\"> <strong> Note </strong>\n",
    "모델패키지를 생성할 때 아래와 같은 오류가 발생할 수 있습니다:\n",
    "\n",
    "```\n",
    "~/anaconda3/envs/python3/lib/python3.8/site-packages/botocore/validate.py in serialize_to_request(self, parameters, operation_model)\n",
    "    380             if report.has_errors():\n",
    "--> 381                raise ParamValidationError(report=report.generate_report())\n",
    "    382         return self._serializer.serialize_to_request(\n",
    "    383             parameters, operation_model\n",
    "\n",
    "ParamValidationError: Parameter validation failed:\n",
    "Invalid length for parameter ValidationSpecification.ValidationProfiles, value: 0, valid min length: 1\n",
    "```\n",
    "\n",
    "이 이슈를 해결하기 위해 다음 경로의 `~/anaconda3/envs/python3/lib/python3.8/site-packages/botocore/validate.py`에서 아래 코드를 제거하거나 코멘트 처리가 필요합니다. 경로는 노트북의 상황에 따라 변경될 수 있으므로 바로 위의 cell 코드의 수행 결과에서 정확한 위치를 파악하시기 바랍니다.\n",
    "    \n",
    "```\n",
    "380 if report.has_errors():\n",
    "381                 raise ParamValidationError(report=report.generate_report())\n",
    "```\n",
    "\n",
    "커널을 재시작한 다음, [**Step4**]의 아래 부터 재시작을 합니다.\n",
    "\n",
    "\n",
    "</div>"
   ]
  },
  {
   "cell_type": "code",
   "execution_count": 42,
   "metadata": {
    "tags": []
   },
   "outputs": [],
   "source": [
    "import os\n",
    "import time\n",
    "import boto3\n",
    "import logging\n",
    "\n",
    "from pathlib import Path\n",
    "import huggingface_hub\n",
    "\n",
    "import sagemaker\n",
    "from sagemaker.huggingface import HuggingFaceModel, get_huggingface_llm_image_uri\n",
    "from sagemaker.pytorch.model import PyTorchModel\n",
    "\n",
    "from sagemaker import get_execution_role\n",
    "from sagemaker.session import Session\n",
    "\n",
    "sagemaker_session = Session()\n",
    "\n",
    "artifacts_bucket_name = sagemaker_session.default_bucket()\n",
    "\n",
    "execution_role_arn = get_execution_role()\n",
    "region = sagemaker_session.boto_region_name\n",
    "\n",
    "s3_client = sagemaker_session.boto_session.client(\"s3\")\n",
    "sm_runtime = boto3.client(\"sagemaker-runtime\")"
   ]
  },
  {
   "cell_type": "code",
   "execution_count": 43,
   "metadata": {
    "tags": []
   },
   "outputs": [
    {
     "data": {
      "text/plain": [
       "'meta-llama-3-1-8b-instruct'"
      ]
     },
     "execution_count": 43,
     "metadata": {},
     "output_type": "execute_result"
    }
   ],
   "source": [
    "model_id='meta-llama/Meta-Llama-3.1-8B-Instruct'\n",
    "\n",
    "model_name = model_id.split(\"/\")[-1].lower()\n",
    "model_name = model_name.replace(\".\", \"-\")\n",
    "model_name"
   ]
  },
  {
   "cell_type": "code",
   "execution_count": 44,
   "metadata": {
    "tags": []
   },
   "outputs": [
    {
     "data": {
      "text/plain": [
       "'s3://sagemaker-us-west-2-322537213286/meta-llama-3-1-8b-instruct/compressed_model'"
      ]
     },
     "execution_count": 44,
     "metadata": {},
     "output_type": "execute_result"
    }
   ],
   "source": [
    "compressed_model_path = f\"s3://{artifacts_bucket_name}/{model_name}/compressed_model\"\n",
    "compressed_model_path"
   ]
  },
  {
   "cell_type": "code",
   "execution_count": 45,
   "metadata": {
    "tags": []
   },
   "outputs": [
    {
     "data": {
      "text/plain": [
       "'s3://sagemaker-us-west-2-322537213286/meta-llama-3-1-8b-instruct/compressed_model/model.tar.gz'"
      ]
     },
     "execution_count": 45,
     "metadata": {},
     "output_type": "execute_result"
    }
   ],
   "source": [
    "model_data = f\"{compressed_model_path}/model.tar.gz\"\n",
    "model_data"
   ]
  },
  {
   "cell_type": "code",
   "execution_count": 46,
   "metadata": {
    "tags": []
   },
   "outputs": [
    {
     "data": {
      "text/plain": [
       "'322537213286.dkr.ecr.us-west-2.amazonaws.com/huggingface-pytorch-tgi-inference:2.3.0-tgi2.2.0-gpu-py310-cu121-ubuntu22.04-v2.0'"
      ]
     },
     "execution_count": 46,
     "metadata": {},
     "output_type": "execute_result"
    }
   ],
   "source": [
    "image_uri = get_huggingface_llm_image_uri(\n",
    "  backend=\"huggingface\", # or lmi\n",
    "  region=region\n",
    ")\n",
    "account = sagemaker.Session().account_id()\n",
    "ecr_image_uri = image_uri.replace(\"763104351884\", account)\n",
    "ecr_image_uri"
   ]
  },
  {
   "cell_type": "markdown",
   "metadata": {},
   "source": [
    "### 모델 패키지 생성\n",
    "모델 패키지 생성 프로세스에서는 다음을 지정해야 합니다:\n",
    "  1. 도커 이미지\n",
    "  2. 모델 아티팩트\n",
    "    - tar.gz 형태로 압축된 모델 아티팩트가 제공되어야 합니다.\n",
    "        \n",
    "판매자(및 구매자)에게 Amazon SageMaker에서 제품이 작동한다는 확신을 주기 위해, AWS Marketplace에 제품을 리스팅하기 전에 SageMaker는 기본적인 유효성 검사를 위와 같이 진행하였습니다. 이 유효성 검사 프로세스가 성공해야만 제품을 AWS Marketplace에 리스팅할 수 있습니다. 이 유효성 검사 프로세스는 사용자가 제공한 유효성 검사 프로필과 샘플 데이터를 사용하여 모델을 사용하여 계정에서 변환 작업을 생성하여 추론 이미지가 SageMaker에서 작동하는지 확인합니다.\n",
    "\n",
    "다음으로, ML 모델에 적합한 인스턴스 크기를 식별해야 하며, ML 모델 위에서 성능 테스트를 실행하여 이를 확인할 수 있습니다.\n",
    "\n",
    "**Note:** 모델 튜닝 외에도 인스턴스 유형을 식별할 때 모델의 요구 사항을 고려해야 합니다.  모델이 GPU 리소스를 사용하지 않는 경우 GPU 인스턴스 유형을 포함하지 마세요. 마찬가지로 모델이 GPU 리소스를 사용하지만 단일 GPU만 사용할 수 있는 경우, 여러 개의 GPU가 있는 인스턴스 유형을 포함하지 마세요. 성능상의 이점은 없이 사용자의 인프라 요금만 증가시킬 수 있기 때문입니다."
   ]
  },
  {
   "cell_type": "markdown",
   "metadata": {},
   "source": [
    "### 테스트용 데이터 만들기"
   ]
  },
  {
   "cell_type": "code",
   "execution_count": 47,
   "metadata": {
    "tags": []
   },
   "outputs": [],
   "source": [
    "prompt = \"The diamondback terrapin or simply terrapin is a species of turtle native to the brackish coastal tidal marshes of the\"\n",
    "response = \"The diamondback terrapin or simply terrapin is a species of turtle native to the brackish coastal tidal marshes of the east coast.\"\n",
    "\n",
    "sample_input = {\n",
    "    \"inputs\": prompt,\n",
    "    \"parameters\": {\n",
    "        \"max_tokens\":256,\n",
    "        \"top_p\": 0.9,\n",
    "        \"temperature\": 0.6,\n",
    "        \"max_tokens\": 512,\n",
    "        \"stop\": [\"<|eot_id|>\"]\n",
    "    }\n",
    "}"
   ]
  },
  {
   "cell_type": "code",
   "execution_count": 48,
   "metadata": {
    "tags": []
   },
   "outputs": [
    {
     "data": {
      "text/plain": [
       "{'ResponseMetadata': {'RequestId': 'TX22SZK9D9FE2V67',\n",
       "  'HostId': 'p/cdr1DHh3kVGXyVGkhbtoqqKBIPhS+gYm9djF328Huq2FgCSqzm2Zi+0IOaw5GDkt3S+Qbl8kckaI2o1gvZ9g==',\n",
       "  'HTTPStatusCode': 200,\n",
       "  'HTTPHeaders': {'x-amz-id-2': 'p/cdr1DHh3kVGXyVGkhbtoqqKBIPhS+gYm9djF328Huq2FgCSqzm2Zi+0IOaw5GDkt3S+Qbl8kckaI2o1gvZ9g==',\n",
       "   'x-amz-request-id': 'TX22SZK9D9FE2V67',\n",
       "   'date': 'Sun, 04 Aug 2024 23:52:17 GMT',\n",
       "   'x-amz-version-id': 'rULgRGHWOmDCPLAIdI4R.L08hPB.Uwsp',\n",
       "   'x-amz-server-side-encryption': 'AES256',\n",
       "   'etag': '\"599e5a9aa81aa0f79b0fdf1d064e7621\"',\n",
       "   'server': 'AmazonS3',\n",
       "   'content-length': '0'},\n",
       "  'RetryAttempts': 0},\n",
       " 'ETag': '\"599e5a9aa81aa0f79b0fdf1d064e7621\"',\n",
       " 'ServerSideEncryption': 'AES256',\n",
       " 'VersionId': 'rULgRGHWOmDCPLAIdI4R.L08hPB.Uwsp'}"
      ]
     },
     "execution_count": 48,
     "metadata": {},
     "output_type": "execute_result"
    }
   ],
   "source": [
    "import json\n",
    "json_line = json.dumps(sample_input)\n",
    "s3_client.put_object(Bucket=artifacts_bucket_name, Key=f\"{model_name}/validation-input-json/input.jsonl\", Body=json_line)"
   ]
  },
  {
   "cell_type": "code",
   "execution_count": 49,
   "metadata": {
    "tags": []
   },
   "outputs": [
    {
     "data": {
      "text/plain": [
       "'s3://sagemaker-us-west-2-322537213286/meta-llama-3-1-8b-instruct/validation-input-json/'"
      ]
     },
     "execution_count": 49,
     "metadata": {},
     "output_type": "execute_result"
    }
   ],
   "source": [
    "validation_file_name = \"input.jsonl\"\n",
    "validation_input_path = f\"s3://{artifacts_bucket_name}/{model_name}/validation-input-json/\"\n",
    "validation_output_path = f\"s3://{artifacts_bucket_name}/{model_name}/validation-output-jsonl/\"\n",
    "validation_input_path"
   ]
  },
  {
   "cell_type": "markdown",
   "metadata": {},
   "source": [
    "### 패키지 생성"
   ]
  },
  {
   "cell_type": "code",
   "execution_count": 76,
   "metadata": {
    "tags": []
   },
   "outputs": [
    {
     "name": "stdout",
     "output_type": "stream",
     "text": [
      "--- SageMaker Model Name: meta-llama-3-1-8b-instruct-2024-08-05-00-52-28\n"
     ]
    }
   ],
   "source": [
    "instance_count = 1\n",
    "ts = time.strftime(\"%Y-%m-%d-%H-%M-%S\", time.gmtime())\n",
    "sm_model_name = f\"{model_name}-{ts}\"\n",
    "\n",
    "print(f'--- SageMaker Model Name: {sm_model_name}')\n",
    "\n",
    "# Define parameters\n",
    "model_description = \"marketplace-model-test\" #\"<<YourModelDescription>>\"\n",
    "\n",
    "# <<YourSupportedContentTypes>>\n",
    "supported_content_types = [\"application/json\"] #[\"text/csv\", \"application/json\", \"application/json\", \"application/jsonlines\"]\n",
    "\n",
    "# <<YourSupportedResponseMIMETypes>>\n",
    "supported_response_MIME_types = [ \n",
    "    \"application/json\",\n",
    "]\n",
    "\n",
    "supported_realtime_inference_instance_types = [\"ml.g5.2xlarge\", \"ml.g5.4xlarge\", \"ml.g5.12xlarge\", \"ml.g5.16xlarge\", \"ml.g5.24xlarge\",\"ml.g5.48xlarge\"]\n",
    "supported_batch_transform_instance_types = [\"ml.g5.2xlarge\"] #  Don't use batch transform. And, the Batch Transform validation step is not required"
   ]
  },
  {
   "cell_type": "code",
   "execution_count": 77,
   "metadata": {
    "tags": []
   },
   "outputs": [],
   "source": [
    "model_package = sagemaker_session.sagemaker_client.create_model_package(\n",
    "    ModelPackageName=sm_model_name,\n",
    "    ModelPackageDescription=model_description,\n",
    "    InferenceSpecification={\n",
    "        \"Containers\": [\n",
    "            {\n",
    "                \"Image\": ecr_image_uri,\n",
    "                \"ModelDataUrl\": model_data\n",
    "            }\n",
    "        ],\n",
    "        \"SupportedTransformInstanceTypes\": supported_batch_transform_instance_types,\n",
    "        \"SupportedRealtimeInferenceInstanceTypes\": supported_realtime_inference_instance_types,\n",
    "        \"SupportedContentTypes\": supported_content_types,\n",
    "        \"SupportedResponseMIMETypes\": supported_response_MIME_types,\n",
    "    },\n",
    "    CertifyForMarketplace=True,  # Make sure to set this to True\n",
    "   ValidationSpecification={\n",
    "        'ValidationRole': execution_role_arn,\n",
    "        'ValidationProfiles': [\n",
    "            {\n",
    "                'ProfileName': \"validation\",\n",
    "                'TransformJobDefinition': {\n",
    "                    'MaxConcurrentTransforms': 1,\n",
    "                    'MaxPayloadInMB': 64,\n",
    "                    'BatchStrategy': 'SingleRecord',\n",
    "                    'TransformInput': {\n",
    "                        'DataSource': {\n",
    "                            'S3DataSource': {\n",
    "                                'S3DataType': 'S3Prefix',\n",
    "                                'S3Uri': f'{validation_input_path}input.jsonl'\n",
    "                            }\n",
    "                        },\n",
    "                        'ContentType': 'application/json',\n",
    "                        'CompressionType': 'None',\n",
    "                        'SplitType': 'None'\n",
    "                    },\n",
    "                    'TransformOutput': {\n",
    "                        'S3OutputPath': f'{validation_output_path}output.json',\n",
    "                        'Accept': 'application/json',\n",
    "                        'AssembleWith': 'None',\n",
    "                    },\n",
    "                    'TransformResources': {\n",
    "                        'InstanceType': supported_batch_transform_instance_types[0],\n",
    "                        'InstanceCount': 1,\n",
    "                    }\n",
    "                }\n",
    "            },\n",
    "        ]\n",
    "    },\n",
    ")"
   ]
  },
  {
   "cell_type": "code",
   "execution_count": 81,
   "metadata": {
    "tags": []
   },
   "outputs": [
    {
     "data": {
      "text/plain": [
       "[{'ModelPackageName': 'meta-llama-3-1-8b-instruct-2024-08-05-00-52-28',\n",
       "  'ModelPackageArn': 'arn:aws:sagemaker:us-west-2:322537213286:model-package/meta-llama-3-1-8b-instruct-2024-08-05-00-52-28',\n",
       "  'ModelPackageDescription': 'marketplace-model-test',\n",
       "  'CreationTime': datetime.datetime(2024, 8, 5, 0, 52, 30, 236000, tzinfo=tzlocal()),\n",
       "  'ModelPackageStatus': 'Completed'},\n",
       " {'ModelPackageName': 'meta-llama-3-1-8b-instruct-2024-08-04-23-52-19',\n",
       "  'ModelPackageArn': 'arn:aws:sagemaker:us-west-2:322537213286:model-package/meta-llama-3-1-8b-instruct-2024-08-04-23-52-19',\n",
       "  'ModelPackageDescription': 'marketplace-model-test',\n",
       "  'CreationTime': datetime.datetime(2024, 8, 4, 23, 52, 20, 477000, tzinfo=tzlocal()),\n",
       "  'ModelPackageStatus': 'Completed'},\n",
       " {'ModelPackageName': 'meta-llama-3-1-8b-instruct-2024-08-04-10-45-03',\n",
       "  'ModelPackageArn': 'arn:aws:sagemaker:us-west-2:322537213286:model-package/meta-llama-3-1-8b-instruct-2024-08-04-10-45-03',\n",
       "  'ModelPackageDescription': 'marketplace-model-test',\n",
       "  'CreationTime': datetime.datetime(2024, 8, 4, 10, 45, 5, 328000, tzinfo=tzlocal()),\n",
       "  'ModelPackageStatus': 'Completed'},\n",
       " {'ModelPackageName': 'pipelines-hia05b4dxo2z-RegisterBertModel-Re-weUBPrlFA1',\n",
       "  'ModelPackageArn': 'arn:aws:sagemaker:us-west-2:322537213286:model-package/pipelines-hia05b4dxo2z-registerbertmodel-re-weubprlfa1',\n",
       "  'CreationTime': datetime.datetime(2023, 8, 5, 17, 29, 33, 582000, tzinfo=tzlocal()),\n",
       "  'ModelPackageStatus': 'Completed',\n",
       "  'ModelApprovalStatus': 'PendingManualApproval'}]"
      ]
     },
     "execution_count": 81,
     "metadata": {},
     "output_type": "execute_result"
    }
   ],
   "source": [
    "model_package_list = []\n",
    "sm_client = boto3.client(\"sagemaker\")\n",
    "model_list_pack = sm_client.list_model_packages()\n",
    "model_package_list = model_list_pack['ModelPackageSummaryList']\n",
    "NextToken = model_list_pack.get('NextToken')\n",
    "\n",
    "while True:\n",
    "    if model_list_pack.get('NextToken'):\n",
    "        NextToken = model_list_pack.get('NextToken')\n",
    "        model_list_pack = sm_client.list_model_packages(NextToken=NextToken)\n",
    "        model_package_list.extend(model_list_pack['ModelPackageSummaryList'])\n",
    "    else:\n",
    "        break\n",
    "\n",
    "model_package_list "
   ]
  },
  {
   "cell_type": "code",
   "execution_count": 80,
   "metadata": {
    "tags": []
   },
   "outputs": [
    {
     "data": {
      "text/plain": [
       "{'ValidationStatuses': [{'Name': 'validation', 'Status': 'InProgress'}],\n",
       " 'ImageScanStatuses': [{'Name': '322537213286.dkr.ecr.us-west-2.amazonaws.com/huggingface-pytorch-tgi-inference@sha256:c53b86fefef4b548ce97d9945363b990289c550bfe61ca680b1fe310860e47d7',\n",
       "   'Status': 'Completed'}]}"
      ]
     },
     "execution_count": 80,
     "metadata": {},
     "output_type": "execute_result"
    }
   ],
   "source": [
    "# ModelPackageName='meta-llama-3-1-8b-instruct-2024-08-04-23-52-19'\n",
    "ModelPackageName = sm_model_name\n",
    "sm_client.describe_model_package(ModelPackageName=ModelPackageName)['ModelPackageStatusDetails']\n",
    "# sm_client.delete_model_package(ModelPackageName=ModelPackageName)"
   ]
  },
  {
   "cell_type": "code",
   "execution_count": 63,
   "metadata": {
    "tags": []
   },
   "outputs": [],
   "source": [
    "# sagemaker_session.wait_for_model_package(model_package_name=sm_model_name) # If failure occurs navigate to SageMaker Console > My marketplace model packages > select the failed ModelPackage for details. "
   ]
  },
  {
   "cell_type": "markdown",
   "metadata": {},
   "source": [
    "다음을 실행하기 전에, [Model Packages console from Amazon SageMaker](https://console.aws.amazon.com/sagemaker/home?region=us-east-1#/model-packages/my-resources)을 열어서 모델 생성의 성공했는지를 확인해야 합니다.\n",
    "모델을 선택하고 **Validation** 탭을 열어서 validation 결과를 확인할 수 있습니다."
   ]
  },
  {
   "cell_type": "markdown",
   "metadata": {},
   "source": [
    "<br>\n",
    "\n",
    "## [**Step 5**] Validating this ML model package by deploying it with Amazon SageMaker\n",
    "---"
   ]
  },
  {
   "cell_type": "markdown",
   "metadata": {},
   "source": [
    "##### 모델 패키지에서 모델 객체 생성"
   ]
  },
  {
   "cell_type": "code",
   "execution_count": 92,
   "metadata": {
    "tags": []
   },
   "outputs": [],
   "source": [
    "# !pip install sagemaker-ssh-helper"
   ]
  },
  {
   "cell_type": "code",
   "execution_count": 95,
   "metadata": {
    "tags": []
   },
   "outputs": [],
   "source": [
    "from sagemaker_ssh_helper.wrapper import SSHModelWrapper  # <--NEW--"
   ]
  },
  {
   "cell_type": "code",
   "execution_count": 96,
   "metadata": {
    "tags": []
   },
   "outputs": [
    {
     "data": {
      "text/plain": [
       "'arn:aws:sagemaker:us-west-2:322537213286:model-package/meta-llama-3-1-8b-instruct-2024-08-05-00-52-28'"
      ]
     },
     "execution_count": 96,
     "metadata": {},
     "output_type": "execute_result"
    }
   ],
   "source": [
    "model_package['ModelPackageArn']"
   ]
  },
  {
   "cell_type": "code",
   "execution_count": 97,
   "metadata": {
    "tags": []
   },
   "outputs": [],
   "source": [
    "from sagemaker import ModelPackage\n",
    "\n",
    "model = ModelPackage(\n",
    "    role=execution_role_arn,\n",
    "    model_package_arn=model_package[\"ModelPackageArn\"],\n",
    "    # model_package_arn=\"arn:aws:sagemaker:us-west-2:322537213286:model-package/meta-llama-3-1-8b-instruct-2024-08-04-04-24-21\",\n",
    "    sagemaker_session=sagemaker_session,\n",
    "    dependencies=[SSHModelWrapper.dependency_dir()]\n",
    ")"
   ]
  },
  {
   "cell_type": "code",
   "execution_count": 98,
   "metadata": {
    "tags": []
   },
   "outputs": [],
   "source": [
    "ssh_wrapper = SSHModelWrapper.create(model, connection_wait_time_seconds=0)  # <--NEW--"
   ]
  },
  {
   "cell_type": "markdown",
   "metadata": {},
   "source": [
    "#### SageMaker 모델을 Endpoint로 배포"
   ]
  },
  {
   "cell_type": "code",
   "execution_count": 99,
   "metadata": {
    "tags": []
   },
   "outputs": [
    {
     "name": "stdout",
     "output_type": "stream",
     "text": [
      "--------"
     ]
    },
    {
     "name": "stderr",
     "output_type": "stream",
     "text": [
      "\n",
      "KeyboardInterrupt\n",
      "\n"
     ]
    }
   ],
   "source": [
    "model.deploy(\n",
    "    initial_instance_count=1,\n",
    "    # instance_type=supported_realtime_inference_instance_types[0],\n",
    "    instance_type='ml.g5.48xlarge',\n",
    "    endpoint_name=sm_model_name,\n",
    "    model_data_download_timeout=600,\n",
    "    container_startup_health_check_timeout=300,\n",
    ")\n",
    "model.endpoint_name"
   ]
  },
  {
   "cell_type": "code",
   "execution_count": 111,
   "metadata": {
    "tags": []
   },
   "outputs": [],
   "source": [
    "sm_model_name='meta-llama-3-1-8b-instruct-2024-08-05-00-52-28'"
   ]
  },
  {
   "cell_type": "code",
   "execution_count": 116,
   "metadata": {
    "tags": []
   },
   "outputs": [
    {
     "data": {
      "text/plain": [
       "[]"
      ]
     },
     "execution_count": 116,
     "metadata": {},
     "output_type": "execute_result"
    }
   ],
   "source": [
    "ssh_wrapper.get_instance_ids()"
   ]
  },
  {
   "cell_type": "code",
   "execution_count": 117,
   "metadata": {
    "tags": []
   },
   "outputs": [
    {
     "name": "stdout",
     "output_type": "stream",
     "text": [
      "Remote endpoint logs are at https://us-west-2.console.aws.amazon.com/cloudwatch/home?region=us-west-2#logsV2:log-groups/log-group/$252Faws$252Fsagemaker$252FEndpoints$252Fmeta-llama-3-1-8b-instruct-2024-08-05-00-52-28\n",
      "Endpoint metadata is at https://us-west-2.console.aws.amazon.com/sagemaker/home?region=us-west-2#/endpoints/meta-llama-3-1-8b-instruct-2024-08-05-00-52-28\n",
      "Endpoint config metadata is at https://us-west-2.console.aws.amazon.com/sagemaker/home?region=us-west-2#/endpointConfig/meta-llama-3-1-8b-instruct-2024-08-05-00-52-28\n",
      "Model metadata is at https://us-west-2.console.aws.amazon.com/sagemaker/home?region=us-west-2#/models/meta-llama-3-1-8b-instruct-2024-08-05-0-2024-08-05-03-50-26-463\n"
     ]
    },
    {
     "ename": "ValueError",
     "evalue": "No SSM instances found.",
     "output_type": "error",
     "traceback": [
      "\u001b[0;31m---------------------------------------------------------------------------\u001b[0m",
      "\u001b[0;31mValueError\u001b[0m                                Traceback (most recent call last)",
      "Cell \u001b[0;32mIn[117], line 1\u001b[0m\n\u001b[0;32m----> 1\u001b[0m \u001b[43mssh_wrapper\u001b[49m\u001b[38;5;241;43m.\u001b[39;49m\u001b[43mprint_ssh_info\u001b[49m\u001b[43m(\u001b[49m\u001b[43m)\u001b[49m \n",
      "File \u001b[0;32m~/anaconda3/envs/pytorch_p310/lib/python3.10/site-packages/sagemaker_ssh_helper/wrapper.py:404\u001b[0m, in \u001b[0;36mSSHModelWrapper.print_ssh_info\u001b[0;34m(self)\u001b[0m\n\u001b[1;32m    401\u001b[0m \u001b[38;5;28mprint\u001b[39m(\u001b[38;5;124mf\u001b[39m\u001b[38;5;124m\"\u001b[39m\u001b[38;5;124mEndpoint config metadata is at \u001b[39m\u001b[38;5;132;01m{\u001b[39;00m\u001b[38;5;28mself\u001b[39m\u001b[38;5;241m.\u001b[39mget_config_metadata_url()\u001b[38;5;132;01m}\u001b[39;00m\u001b[38;5;124m\"\u001b[39m)\n\u001b[1;32m    402\u001b[0m \u001b[38;5;28mprint\u001b[39m(\u001b[38;5;124mf\u001b[39m\u001b[38;5;124m\"\u001b[39m\u001b[38;5;124mModel metadata is at \u001b[39m\u001b[38;5;132;01m{\u001b[39;00m\u001b[38;5;28mself\u001b[39m\u001b[38;5;241m.\u001b[39mget_model_metadata_url()\u001b[38;5;132;01m}\u001b[39;00m\u001b[38;5;124m\"\u001b[39m)\n\u001b[1;32m    403\u001b[0m \u001b[38;5;28mprint\u001b[39m(\u001b[38;5;124mf\u001b[39m\u001b[38;5;124m\"\u001b[39m\u001b[38;5;124mTo connect over SSM run:\u001b[39m\u001b[38;5;130;01m\\n\u001b[39;00m\u001b[38;5;124m\"\u001b[39m\n\u001b[0;32m--> 404\u001b[0m       \u001b[38;5;124mf\u001b[39m\u001b[38;5;124m\"\u001b[39m\u001b[38;5;124mAWS_DEFAULT_REGION=\u001b[39m\u001b[38;5;132;01m{\u001b[39;00m\u001b[38;5;28mself\u001b[39m\u001b[38;5;241m.\u001b[39mregion()\u001b[38;5;132;01m}\u001b[39;00m\u001b[38;5;124m aws ssm start-session --target \u001b[39m\u001b[38;5;132;01m{\u001b[39;00m\u001b[38;5;28;43mself\u001b[39;49m\u001b[38;5;241;43m.\u001b[39;49m\u001b[43mget_instance_id\u001b[49m\u001b[43m(\u001b[49m\u001b[43m)\u001b[49m\u001b[38;5;132;01m}\u001b[39;00m\u001b[38;5;124m\"\u001b[39m)\n\u001b[1;32m    405\u001b[0m \u001b[38;5;28mprint\u001b[39m(\u001b[38;5;124mf\u001b[39m\u001b[38;5;124m\"\u001b[39m\u001b[38;5;124mTo configure local host for SSH run:\u001b[39m\u001b[38;5;130;01m\\n\u001b[39;00m\u001b[38;5;124m\"\u001b[39m\n\u001b[1;32m    406\u001b[0m       \u001b[38;5;124mf\u001b[39m\u001b[38;5;124m\"\u001b[39m\u001b[38;5;124msm-local-configure\u001b[39m\u001b[38;5;124m\"\u001b[39m)\n\u001b[1;32m    407\u001b[0m \u001b[38;5;28mprint\u001b[39m(\u001b[38;5;124mf\u001b[39m\u001b[38;5;124m\"\u001b[39m\u001b[38;5;124mTo connect over SSH run:\u001b[39m\u001b[38;5;130;01m\\n\u001b[39;00m\u001b[38;5;124m\"\u001b[39m\n\u001b[1;32m    408\u001b[0m       \u001b[38;5;124mf\u001b[39m\u001b[38;5;124m\"\u001b[39m\u001b[38;5;124mAWS_DEFAULT_REGION=\u001b[39m\u001b[38;5;132;01m{\u001b[39;00m\u001b[38;5;28mself\u001b[39m\u001b[38;5;241m.\u001b[39mregion()\u001b[38;5;132;01m}\u001b[39;00m\u001b[38;5;124m sm-ssh connect \u001b[39m\u001b[38;5;132;01m{\u001b[39;00m\u001b[38;5;28mself\u001b[39m\u001b[38;5;241m.\u001b[39mmodel\u001b[38;5;241m.\u001b[39mendpoint_name\u001b[38;5;132;01m}\u001b[39;00m\u001b[38;5;124m.inference.sagemaker\u001b[39m\u001b[38;5;124m\"\u001b[39m)\n",
      "File \u001b[0;32m~/anaconda3/envs/pytorch_p310/lib/python3.10/site-packages/sagemaker_ssh_helper/wrapper.py:117\u001b[0m, in \u001b[0;36mSSHEnvironmentWrapper.get_instance_id\u001b[0;34m(self, retry, timeout_in_sec, index)\u001b[0m\n\u001b[1;32m    115\u001b[0m ids \u001b[38;5;241m=\u001b[39m \u001b[38;5;28mself\u001b[39m\u001b[38;5;241m.\u001b[39mget_instance_ids(retry, timeout_in_sec)\n\u001b[1;32m    116\u001b[0m \u001b[38;5;28;01mif\u001b[39;00m \u001b[38;5;129;01mnot\u001b[39;00m ids:\n\u001b[0;32m--> 117\u001b[0m     \u001b[38;5;28;01mraise\u001b[39;00m \u001b[38;5;167;01mValueError\u001b[39;00m(\u001b[38;5;124mf\u001b[39m\u001b[38;5;124m\"\u001b[39m\u001b[38;5;124mNo SSM instances found.\u001b[39m\u001b[38;5;124m\"\u001b[39m)\n\u001b[1;32m    118\u001b[0m \u001b[38;5;28;01mreturn\u001b[39;00m ids[index]\n",
      "\u001b[0;31mValueError\u001b[0m: No SSM instances found."
     ]
    }
   ],
   "source": [
    "ssh_wrapper.print_ssh_info() "
   ]
  },
  {
   "cell_type": "markdown",
   "metadata": {
    "tags": []
   },
   "source": [
    "#### boto3로 예시 호출"
   ]
  },
  {
   "cell_type": "code",
   "execution_count": 113,
   "metadata": {
    "tags": []
   },
   "outputs": [],
   "source": [
    "prompt = \"The diamondback terrapin or simply terrapin is a species of turtle native to the brackish coastal tidal marshes of the\"\n",
    "response = \"The diamondback terrapin or simply terrapin is a species of turtle native to the brackish coastal tidal marshes of the east coast.\"\n",
    "\n",
    "sample_input = {\n",
    "    \"inputs\": prompt,\n",
    "    \"parameters\": {\n",
    "        \"max_tokens\":256,\n",
    "        \"top_p\": 0.9,\n",
    "        \"temperature\": 0.6,\n",
    "        \"max_tokens\": 512,\n",
    "        \"stop\": [\"<|eot_id|>\"]\n",
    "    }\n",
    "}"
   ]
  },
  {
   "cell_type": "code",
   "execution_count": 114,
   "metadata": {
    "tags": []
   },
   "outputs": [
    {
     "name": "stdout",
     "output_type": "stream",
     "text": [
      "CPU times: user 12.7 ms, sys: 7 μs, total: 12.7 ms\n",
      "Wall time: 7.67 s\n"
     ]
    },
    {
     "data": {
      "text/plain": [
       "[{'generated_text': 'The diamondback terrapin or simply terrapin is a species of turtle native to the brackish coastal tidal marshes of the southeastern United States and northern Mexico. The diamondback terrapin is the only species of turtle that is adapted to living in brackish water.\\nThe diamondback terrapin is the official state reptile of Maryland and the official state shell of Delaware. It is also the official state animal of Virginia.\\nThe diamondback terrapin is a small to medium-sized turtle that can grow up to 11 inches (28 cm) in length and weigh up to 4 pounds (1.8'}]"
      ]
     },
     "execution_count": 114,
     "metadata": {},
     "output_type": "execute_result"
    }
   ],
   "source": [
    "%%time\n",
    "response = sm_runtime.invoke_endpoint(\n",
    "    EndpointName=model.endpoint_name,\n",
    "    ContentType=\"application/json\",\n",
    "    Accept=\"application/json\",\n",
    "    Body=json.dumps(sample_input),\n",
    ")\n",
    "\n",
    "json.load(response[\"Body\"])"
   ]
  },
  {
   "cell_type": "code",
   "execution_count": 61,
   "metadata": {
    "tags": []
   },
   "outputs": [
    {
     "name": "stdout",
     "output_type": "stream",
     "text": [
      "CPU times: user 2.55 ms, sys: 502 μs, total: 3.05 ms\n",
      "Wall time: 7.66 s\n"
     ]
    },
    {
     "data": {
      "text/plain": [
       "[{'generated_text': 'The diamondback terrapin or simply terrapin is a species of turtle native to the brackish coastal tidal marshes of the southeastern United States. It is a member of the family Cheloniidae. The diamondback terrapin is a small to medium-sized turtle, reaching a length of about 8-14 inches (20-35.5 cm) and weighing up to 2 pounds (0.9 kg). They are characterized by their diamond-shaped markings on their shells, which are typically brown or black with yellow or white markings.\\nThe diamondback terrapin is a carnivorous turtle that feeds on a'}]"
      ]
     },
     "execution_count": 61,
     "metadata": {},
     "output_type": "execute_result"
    }
   ],
   "source": [
    "## ml.g5.12xlarge\n",
    "%%time\n",
    "response = sm_runtime.invoke_endpoint(\n",
    "    EndpointName=model.endpoint_name,\n",
    "    ContentType=\"application/json\",\n",
    "    Accept=\"application/json\",\n",
    "    Body=json.dumps(sample_input),\n",
    ")\n",
    "\n",
    "json.load(response[\"Body\"])"
   ]
  },
  {
   "cell_type": "markdown",
   "metadata": {},
   "source": [
    "#### 생성된 endpoint configuration 과 endpoint 정리 "
   ]
  },
  {
   "cell_type": "code",
   "execution_count": 90,
   "metadata": {
    "tags": []
   },
   "outputs": [
    {
     "ename": "ClientError",
     "evalue": "An error occurred (ValidationException) when calling the DeleteEndpoint operation: Could not find endpoint \"meta-llama-3-1-8b-instruct-2024-08-05-00-52-28\".",
     "output_type": "error",
     "traceback": [
      "\u001b[0;31m---------------------------------------------------------------------------\u001b[0m",
      "\u001b[0;31mClientError\u001b[0m                               Traceback (most recent call last)",
      "Cell \u001b[0;32mIn[90], line 1\u001b[0m\n\u001b[0;32m----> 1\u001b[0m \u001b[43mmodel\u001b[49m\u001b[38;5;241;43m.\u001b[39;49m\u001b[43msagemaker_session\u001b[49m\u001b[38;5;241;43m.\u001b[39;49m\u001b[43mdelete_endpoint\u001b[49m\u001b[43m(\u001b[49m\u001b[43mmodel\u001b[49m\u001b[38;5;241;43m.\u001b[39;49m\u001b[43mendpoint_name\u001b[49m\u001b[43m)\u001b[49m\n\u001b[1;32m      2\u001b[0m model\u001b[38;5;241m.\u001b[39msagemaker_session\u001b[38;5;241m.\u001b[39mdelete_endpoint_config(model\u001b[38;5;241m.\u001b[39mendpoint_name)\n",
      "File \u001b[0;32m~/anaconda3/envs/pytorch_p310/lib/python3.10/site-packages/sagemaker/session.py:4692\u001b[0m, in \u001b[0;36mSession.delete_endpoint\u001b[0;34m(self, endpoint_name)\u001b[0m\n\u001b[1;32m   4686\u001b[0m \u001b[38;5;250m\u001b[39m\u001b[38;5;124;03m\"\"\"Delete an Amazon SageMaker ``Endpoint``.\u001b[39;00m\n\u001b[1;32m   4687\u001b[0m \n\u001b[1;32m   4688\u001b[0m \u001b[38;5;124;03mArgs:\u001b[39;00m\n\u001b[1;32m   4689\u001b[0m \u001b[38;5;124;03m    endpoint_name (str): Name of the Amazon SageMaker ``Endpoint`` to delete.\u001b[39;00m\n\u001b[1;32m   4690\u001b[0m \u001b[38;5;124;03m\"\"\"\u001b[39;00m\n\u001b[1;32m   4691\u001b[0m logger\u001b[38;5;241m.\u001b[39minfo(\u001b[38;5;124m\"\u001b[39m\u001b[38;5;124mDeleting endpoint with name: \u001b[39m\u001b[38;5;132;01m%s\u001b[39;00m\u001b[38;5;124m\"\u001b[39m, endpoint_name)\n\u001b[0;32m-> 4692\u001b[0m \u001b[38;5;28;43mself\u001b[39;49m\u001b[38;5;241;43m.\u001b[39;49m\u001b[43msagemaker_client\u001b[49m\u001b[38;5;241;43m.\u001b[39;49m\u001b[43mdelete_endpoint\u001b[49m\u001b[43m(\u001b[49m\u001b[43mEndpointName\u001b[49m\u001b[38;5;241;43m=\u001b[39;49m\u001b[43mendpoint_name\u001b[49m\u001b[43m)\u001b[49m\n",
      "File \u001b[0;32m~/anaconda3/envs/pytorch_p310/lib/python3.10/site-packages/botocore/client.py:565\u001b[0m, in \u001b[0;36mClientCreator._create_api_method.<locals>._api_call\u001b[0;34m(self, *args, **kwargs)\u001b[0m\n\u001b[1;32m    561\u001b[0m     \u001b[38;5;28;01mraise\u001b[39;00m \u001b[38;5;167;01mTypeError\u001b[39;00m(\n\u001b[1;32m    562\u001b[0m         \u001b[38;5;124mf\u001b[39m\u001b[38;5;124m\"\u001b[39m\u001b[38;5;132;01m{\u001b[39;00mpy_operation_name\u001b[38;5;132;01m}\u001b[39;00m\u001b[38;5;124m() only accepts keyword arguments.\u001b[39m\u001b[38;5;124m\"\u001b[39m\n\u001b[1;32m    563\u001b[0m     )\n\u001b[1;32m    564\u001b[0m \u001b[38;5;66;03m# The \"self\" in this scope is referring to the BaseClient.\u001b[39;00m\n\u001b[0;32m--> 565\u001b[0m \u001b[38;5;28;01mreturn\u001b[39;00m \u001b[38;5;28;43mself\u001b[39;49m\u001b[38;5;241;43m.\u001b[39;49m\u001b[43m_make_api_call\u001b[49m\u001b[43m(\u001b[49m\u001b[43moperation_name\u001b[49m\u001b[43m,\u001b[49m\u001b[43m \u001b[49m\u001b[43mkwargs\u001b[49m\u001b[43m)\u001b[49m\n",
      "File \u001b[0;32m~/anaconda3/envs/pytorch_p310/lib/python3.10/site-packages/botocore/client.py:1021\u001b[0m, in \u001b[0;36mBaseClient._make_api_call\u001b[0;34m(self, operation_name, api_params)\u001b[0m\n\u001b[1;32m   1017\u001b[0m     error_code \u001b[38;5;241m=\u001b[39m error_info\u001b[38;5;241m.\u001b[39mget(\u001b[38;5;124m\"\u001b[39m\u001b[38;5;124mQueryErrorCode\u001b[39m\u001b[38;5;124m\"\u001b[39m) \u001b[38;5;129;01mor\u001b[39;00m error_info\u001b[38;5;241m.\u001b[39mget(\n\u001b[1;32m   1018\u001b[0m         \u001b[38;5;124m\"\u001b[39m\u001b[38;5;124mCode\u001b[39m\u001b[38;5;124m\"\u001b[39m\n\u001b[1;32m   1019\u001b[0m     )\n\u001b[1;32m   1020\u001b[0m     error_class \u001b[38;5;241m=\u001b[39m \u001b[38;5;28mself\u001b[39m\u001b[38;5;241m.\u001b[39mexceptions\u001b[38;5;241m.\u001b[39mfrom_code(error_code)\n\u001b[0;32m-> 1021\u001b[0m     \u001b[38;5;28;01mraise\u001b[39;00m error_class(parsed_response, operation_name)\n\u001b[1;32m   1022\u001b[0m \u001b[38;5;28;01melse\u001b[39;00m:\n\u001b[1;32m   1023\u001b[0m     \u001b[38;5;28;01mreturn\u001b[39;00m parsed_response\n",
      "\u001b[0;31mClientError\u001b[0m: An error occurred (ValidationException) when calling the DeleteEndpoint operation: Could not find endpoint \"meta-llama-3-1-8b-instruct-2024-08-05-00-52-28\"."
     ]
    }
   ],
   "source": [
    "model.sagemaker_session.delete_endpoint(model.endpoint_name)\n",
    "model.sagemaker_session.delete_endpoint_config(model.endpoint_name)"
   ]
  },
  {
   "cell_type": "markdown",
   "metadata": {},
   "source": [
    "- 이 모델은 필수가 아니므로 삭제해도 됩니다. \n",
    "- 배포 가능한 모델을 삭제한다는 점에 유의하세요. \n",
    "- 모델 패키지는 삭제하지 않습니다."
   ]
  },
  {
   "cell_type": "code",
   "execution_count": 89,
   "metadata": {
    "tags": []
   },
   "outputs": [],
   "source": [
    "model.delete_model()"
   ]
  },
  {
   "cell_type": "markdown",
   "metadata": {},
   "source": [
    "##### AWS 마켓플레이스에 모델을 게시하려면 모델 패키지 ARN을 지정해야 합니다. 다음 모델 패키지 ARN을 복사합니다. "
   ]
  },
  {
   "cell_type": "code",
   "execution_count": 637,
   "metadata": {
    "tags": []
   },
   "outputs": [
    {
     "data": {
      "text/plain": [
       "'arn:aws:sagemaker:us-west-2:322537213286:model-package/meta-llama-3-1-8b-instruct-2024-08-04-10-45-03'"
      ]
     },
     "execution_count": 637,
     "metadata": {},
     "output_type": "execute_result"
    }
   ],
   "source": [
    "model_package[\"ModelPackageArn\"]"
   ]
  },
  {
   "cell_type": "code",
   "execution_count": null,
   "metadata": {},
   "outputs": [],
   "source": []
  },
  {
   "cell_type": "markdown",
   "metadata": {},
   "source": [
    "<br>\n",
    "\n",
    "## [**Step 6**] Listing the ML model in AWS Marketplace\n",
    "---\n",
    "\n",
    "1.  모델 파트너는 AWS 마켓플레이스에서 [public profile](https://docs.aws.amazon.com/marketplace/latest/userguide/seller-registration-process.html#seller-public-profile)을 생성하고 seller로 등록합니다.\n",
    "마켓플레이스의 상품은 무료 상품으로 등록되므로 세금 정보를 제공할 필요가 없습니다.\n",
    "\n",
    "2. 세이지메이커 콘솔의 [Model Packages](https://console.aws.amazon.com/sagemaker/home?region=us-east-1#/model-packages/my-resources) 섹션에서 이 노트북에서 생성한 엔티티를 찾을 수 있습니다. 성공적으로 생성되고 유효성이 검사되었다면 해당 엔티티를 선택하고 **Publish new ML Marketplace listing**를 선택할 수 있을 것입니다.\n",
    "\n",
    "<img src=\"images/publish-to-marketplace-action.png\"/>\n",
    "\n",
    "리스팅을 작성할 수 있는 [AWS Marketplace Management portal](https://aws.amazon.com/marketplace/management/ml-products/)로 리디렉션됩니다.\n",
    "\n",
    "<img src=\"images/listing.png\"/>\n",
    "\n",
    "1. 모델이 여러 하드웨어 유형을 대상으로 하는 경우 각 ModelPackage를 별도의 버전으로 목록에 추가하는 것을 잊지 마세요.\n",
    "2. 추가를 클릭하고 모델 정보를 입력합니다. Product visibility을 'Public'로 설정해야 합니다.\n",
    "\n",
    "<img src=\"images/public.png\"/>\n",
    "\n",
    "3. 테스트를 진행할 account 에 대해 모델 접근을 위한 Allowlist에 추가합니다. 예) account `171503325295`, `572320329544` and `559110549532` for access to the model. \n",
    "For region support select: `us-east-1, us-west-2, eu-west-1, eu-central-1, eu-west-2, ap-northeast-1, ap-south-1, ca-central-1, us-east-2, ap-northeast-2`\n",
    "<img src=\"images/allowlist-accs.png\"/>\n",
    "\n",
    "4. Pricing and terms 하에 pricing 모델을 설정합니다.\n",
    "**Inference based pricing (custom metering) at $0**\n",
    "\n",
    "(선택 사항) 컨테이너가 아래를 구현하지 않은 경우 이를 확인하고 다음을 진행하세요. \n",
    "\n",
    "```\n",
    "I confirm that my model package supports the response header for custom metering. Example response header: X-Amzn-Inference-Metering:\n",
    "{\"Dimension\": \"inference.count\", \"ConsumedUnits\": 3}\n",
    "I understand that in absence of this header, default metering will be used instead.\n",
    "```\n",
    "\n",
    "<img src=\"images/inference-based-pricing.png\"/>\n",
    "\n",
    "5. Listing 상태는 다음과 같이 표시되어야 합니다:\n",
    "**Do not click Sign off and publish**\n",
    "\n",
    "<img src=\"images/status-1.png\"/>\n",
    "\n",
    "6. Vissibility status of the listing should be `Limited`.\n",
    "\n",
    "<img src=\"images/status-2.png\"/>\n",
    "\n",
    "\n"
   ]
  },
  {
   "cell_type": "code",
   "execution_count": null,
   "metadata": {},
   "outputs": [],
   "source": []
  },
  {
   "cell_type": "markdown",
   "metadata": {},
   "source": [
    "**Resources**\n",
    "* [Publishing your product in AWS Marketplace](https://docs.aws.amazon.com/marketplace/latest/userguide/ml-publishing-your-product-in-aws-marketplace.html)\n"
   ]
  },
  {
   "cell_type": "markdown",
   "metadata": {
    "tags": []
   },
   "source": [
    "https://medium.com/@aliasghar.arabi/deploy-llama3-on-aws-inferentia-using-sagemaker-lmi-and-djl-serving-aa241db17aa3"
   ]
  },
  {
   "cell_type": "code",
   "execution_count": null,
   "metadata": {},
   "outputs": [],
   "source": []
  }
 ],
 "metadata": {
  "interpreter": {
   "hash": "31f2aee4e71d21fbe5cf8b01ff0e069b9275f58929596ceb00d14d90e3e16cd6"
  },
  "kernelspec": {
   "display_name": "conda_pytorch_p310",
   "language": "python",
   "name": "conda_pytorch_p310"
  },
  "language_info": {
   "codemirror_mode": {
    "name": "ipython",
    "version": 3
   },
   "file_extension": ".py",
   "mimetype": "text/x-python",
   "name": "python",
   "nbconvert_exporter": "python",
   "pygments_lexer": "ipython3",
   "version": "3.10.14"
  }
 },
 "nbformat": 4,
 "nbformat_minor": 4
}
